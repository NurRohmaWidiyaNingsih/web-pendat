{
 "cells": [
  {
   "block_group": "dc817a94fdf84bb392ba89b6eb5eb736",
   "cell_type": "markdown",
   "metadata": {
    "cell_id": "2ed2e6f8d5cc43398f24f7df7a6184ac",
    "deepnote_cell_type": "text-cell-p",
    "formattedRanges": []
   },
   "source": []
  },
  {
   "block_group": "7825be23971047c992b7c7210c75f5e6",
   "cell_type": "markdown",
   "metadata": {
    "cell_id": "eeaf355115e145e2ba8af36290b03933",
    "deepnote_cell_type": "text-cell-h1",
    "formattedRanges": []
   },
   "source": [
    "# PERSIAPAN KEBUTUHAN TOOLS"
   ]
  },
  {
   "block_group": "68024fe5f79549dd8fb27b02ce10f8d3",
   "cell_type": "markdown",
   "metadata": {
    "cell_id": "8e90770b7eca47f1ab62a9f32a8dd6a3",
    "deepnote_cell_type": "text-cell-p",
    "formattedRanges": []
   },
   "source": [
    "Untuk melakukan percobaan pengambilan data. Ada beberapa tools yang harus kita persiapkan. Seperti sebuah database online yaitu aiven. Untuk melakukan operasi pada database aiven. Harus ada tools yang kita hosting dengan aiven agar dapat digunakan. Untuk kali ini saya menggunakan heidisql dan deepnote."
   ]
  },
  {
   "block_group": "15173da3db064cdb9e6fb3af4064e424",
   "cell_type": "markdown",
   "metadata": {
    "cell_id": "2a59789a35234cbfae19c24c66a68199",
    "deepnote_cell_type": "text-cell-h2",
    "formattedRanges": []
   },
   "source": [
    "## Aiven"
   ]
  },
  {
   "block_group": "ee1b0a1502224c088cc660eae21376dc",
   "cell_type": "markdown",
   "metadata": {
    "cell_id": "7b281127369844f8a843e6e1cfd9a008",
    "deepnote_cell_type": "text-cell-p",
    "formattedRanges": []
   },
   "source": [
    "Aiven adalah seperti apartemen di awan untuk menyimpan dan mengelola data dengan aman. Layaknya sewa apartemen, kita bisa mendapatkan semua yang kita butuhkan, seperti dapur lengkap dan kamar mandi yang nyaman. Aiven juga fleksibel; jika kita butuh lebih banyak ruang, Aiven akan menyediakannya dengan cepat. Keamanan data dijamin seperti memasang kunci ganda pada pintu rumah. Dengan Aiven, kita bisa menyimpan, mengatur, dan melindungi data dengan mudah di awan. Layanan database yang disediakan meliputi PostgreSQL, MySQL, Kafka, Elasticsearch, Cassandra, Redis, dan banyak lagi sesuai kebutuhan kita."
   ]
  },
  {
   "block_group": "e14ab64bda3647f4b75ffbf0aaca575e",
   "cell_type": "markdown",
   "metadata": {
    "cell_id": "c4e0fe26689045dcb34c760eea78d93b",
    "deepnote_cell_type": "text-cell-p",
    "formattedRanges": []
   },
   "source": [
    "Jadi, buat dulu database di aiven dengan pilihan layanan database PostgreSQL dan MySQL"
   ]
  },
  {
   "block_group": "74849ceb79184f9da16c0ffe1274ec9f",
   "cell_type": "markdown",
   "metadata": {
    "cell_id": "22cc4d6ce80f4f38a36904d4866bd8bb",
    "deepnote_cell_type": "image",
    "deepnote_img_src": "image-20240320-202000.png"
   },
   "source": [
    "<img src=\"image-20240320-202000.png\" width=\"\" align=\"\" />"
   ]
  },
  {
   "block_group": "8bae6c8ba75243d5b9ddaced3a7322f3",
   "cell_type": "markdown",
   "metadata": {
    "cell_id": "24d639ac1e7b4816be1fab45e1f1e40f",
    "deepnote_cell_type": "text-cell-p",
    "formattedRanges": []
   },
   "source": [
    "Jika sudah, maka akan terlihat seperti tampilan diatas. Kita sudah memiliki dua cloud untuk MySQL dan PostgreSQL"
   ]
  },
  {
   "block_group": "5d4b37cee44e45b098501a7c9cdf7ba3",
   "cell_type": "markdown",
   "metadata": {
    "cell_id": "83449dbf94df416098e1f18c958c8bb5",
    "deepnote_cell_type": "text-cell-h2",
    "formattedRanges": []
   },
   "source": [
    "## HeidiSQL"
   ]
  },
  {
   "block_group": "887bcf54f7084e7b8083bfd943248552",
   "cell_type": "markdown",
   "metadata": {
    "cell_id": "941b1052e8f744b6a679d66eda79ff33",
    "deepnote_cell_type": "text-cell-p",
    "formattedRanges": []
   },
   "source": [
    "HeidiSQL adalah sebuah perangkat lunak manajemen basis data relasional yang dapat digunakan untuk mengelola dan mengelola server basis data seperti MySQL, MariaDB, PostgreSQL, dan Microsoft SQL Server. Ini adalah perangkat lunak sumber terbuka yang tersedia secara gratis dan kompatibel dengan sistem operasi Windows."
   ]
  },
  {
   "block_group": "7d43346bd4d546c784dd6096ea9e7771",
   "cell_type": "markdown",
   "metadata": {
    "cell_id": "7f7fd7f5f7804e3fb62f48ec4f909f26",
    "deepnote_cell_type": "text-cell-p",
    "formattedRanges": []
   },
   "source": [
    "Lakukan hosting atau cocokkan dengan yang ada pada aiven"
   ]
  },
  {
   "block_group": "5da3d474293047aab4a3cc2e4edec8b8",
   "cell_type": "markdown",
   "metadata": {
    "cell_id": "2d5e01ca585b42b28671e01a3f990d28",
    "deepnote_cell_type": "image",
    "deepnote_img_src": "image-20240320-202754.png"
   },
   "source": [
    "<img src=\"image-20240320-202754.png\" width=\"\" align=\"\" />"
   ]
  },
  {
   "block_group": "ed8d38c565474fdc981317c85dfbdb63",
   "cell_type": "markdown",
   "metadata": {
    "cell_id": "05bc1ba755b3469b9d4facabb270403c",
    "deepnote_cell_type": "text-cell-p",
    "formattedRanges": []
   },
   "source": [
    "Copy informasi di aiven seperti dibawah ini lalu masukkan pada heidisql. Lakukan hal yg sama untuk PostgreSQL"
   ]
  },
  {
   "block_group": "c6953752c6d0425ca6bb7944c2a2d09f",
   "cell_type": "markdown",
   "metadata": {
    "cell_id": "6df3ac05de404497960c64884aefb4b4",
    "deepnote_cell_type": "image",
    "deepnote_img_src": "image-20240320-203001.png"
   },
   "source": [
    "<img src=\"image-20240320-203001.png\" width=\"\" align=\"\" />"
   ]
  },
  {
   "block_group": "b7b94b99e14b4ce7bb58b1279ddd1ff9",
   "cell_type": "markdown",
   "metadata": {
    "cell_id": "043225d20a774b9ea407743409f3af63",
    "deepnote_cell_type": "text-cell-h2",
    "formattedRanges": []
   },
   "source": [
    "## Deepnote"
   ]
  },
  {
   "block_group": "e2a9d5d0a0be4321ac919222c69100f4",
   "cell_type": "markdown",
   "metadata": {
    "cell_id": "ff069bf8b6d8484195dee0dac139562f",
    "deepnote_cell_type": "text-cell-p",
    "formattedRanges": []
   },
   "source": [
    "Deepnote adalah platform yang memudahkan pengembangan dan kolaborasi dalam proyek data science dan machine learning. Ini menyediakan lingkungan cloud yang interaktif untuk menulis kode, menjalankan analisis data, dan membuat model machine learning tanpa perlu mengatur infrastruktur sendiri. Dengan fitur kolaboratif, pengguna dapat berbagi, bekerja bersama, dan mengkomunikasikan proyek mereka dengan tim. Deepnote juga menyediakan integrasi dengan berbagai sumber data dan alat analisis populer, membuatnya menjadi alat yang kuat bagi para praktisi data science dalam mengeksplorasi dan memodelkan data."
   ]
  },
  {
   "block_group": "23c9fb1b2f3c40a790b0cc5d458103c6",
   "cell_type": "markdown",
   "metadata": {
    "cell_id": "90fc9fb9e2644908881bdde947bf040e",
    "deepnote_cell_type": "text-cell-p",
    "formattedRanges": []
   },
   "source": [
    "Lakukan hosting atau konfigurasi juga pada deepnote dengan heidiSQL. Caranya sama dengan aiven ke heidiSQL tadi. Koneksikan sesuai kebutuhan pada MySQL atau PostgreSQL. Jangan lupa sesuaikan databasenya yang ada pada heidiSQL."
   ]
  },
  {
   "block_group": "de4169e555264e2d8763611716e0c19f",
   "cell_type": "markdown",
   "metadata": {
    "cell_id": "173091afc2ba4c16a73a605f63d33737",
    "deepnote_cell_type": "text-cell-h1",
    "formattedRanges": []
   },
   "source": [
    "#  TEKNIK PENGUMPULAN DAN PENARIKAN DATA"
   ]
  },
  {
   "block_group": "0ddaa6f2a1054d99b4184f4831f3dcb8",
   "cell_type": "markdown",
   "metadata": {
    "cell_id": "7ed42d3ea0c144d2bc6bbe7396883cf7",
    "deepnote_cell_type": "text-cell-h2",
    "formattedRanges": []
   },
   "source": [
    "## Menarik Data Irish"
   ]
  },
  {
   "block_group": "7e2840af388247e89a0636857949e473",
   "cell_type": "markdown",
   "metadata": {
    "cell_id": "e212a68950c54268b0192c93cb6a183b",
    "deepnote_cell_type": "text-cell-p",
    "formattedRanges": [
     {
      "fromCodePoint": 65,
      "ranges": [],
      "toCodePoint": 107,
      "type": "link",
      "url": "https://www.kaggle.com/datasets/uciml/iris"
     },
     {
      "fromCodePoint": 278,
      "ranges": [],
      "toCodePoint": 315,
      "type": "link",
      "url": "https://tableconvert.com/csv-to-sql. "
     }
    ]
   },
   "source": [
    "Lakukan penarikan atau pengambilan data iris pada link berikut : https://www.kaggle.com/datasets/uciml/iris. Jika sudah didownload maka akan muncul file iris.csv. Setelah itu, kita harus mengconvert data iris yg bertipe file csv menjadi sql. Banyak website yang bisa digunakan. https://tableconvert.com/csv-to-sql. "
   ]
  },
  {
   "block_group": "c98a7b692eab4b0fb1ead0252d85037b",
   "cell_type": "markdown",
   "metadata": {
    "cell_id": "c6782119f365420cb246825d02f5fbb4",
    "deepnote_cell_type": "text-cell-h2",
    "formattedRanges": []
   },
   "source": [
    "## Mengumpulkan data Pada MySQL dan PostgreSQL di HeidiSQL"
   ]
  },
  {
   "block_group": "ef1f5b9324ab4c16925faba2afebed60",
   "cell_type": "markdown",
   "metadata": {
    "cell_id": "a2d55ac0133c4e738bf83f878abf8916",
    "deepnote_cell_type": "text-cell-p",
    "formattedRanges": []
   },
   "source": [
    "Berikut adalah langkah-langkah umum untuk memasukkan data menggunakan HeidiSQL:"
   ]
  },
  {
   "block_group": "d3a845af613a44bca86b240761264358",
   "cell_type": "markdown",
   "metadata": {
    "cell_id": "c4efcb5655374fec9e66f002f6116ff1",
    "deepnote_cell_type": "text-cell-p",
    "formattedRanges": []
   },
   "source": [
    "1. Buka Koneksi: Buka aplikasi HeidiSQL dan buka koneksi ke server basis data yang ingin Anda gunakan. Pastikan Anda telah membuat koneksi dengan server basis data yang sesuai dengan basis data yang ingin Anda masuki."
   ]
  },
  {
   "block_group": "bef206a8c8e4479ebd8f1cdfeb7d1865",
   "cell_type": "markdown",
   "metadata": {
    "cell_id": "4e9995163139438fa9a40360787f59c5",
    "deepnote_cell_type": "text-cell-p",
    "formattedRanges": []
   },
   "source": [
    "2. Pilih Database: Setelah berhasil terhubung ke server, pilih database yang akan Anda masuki. Anda dapat melihat daftar database yang tersedia di panel di sebelah kiri antarmuka HeidiSQL."
   ]
  },
  {
   "block_group": "eccb07fd10d548548fe034a0523033a3",
   "cell_type": "markdown",
   "metadata": {
    "cell_id": "9f0290c744c34eaa9ca97f73e6aff941",
    "deepnote_cell_type": "text-cell-p",
    "formattedRanges": []
   },
   "source": [
    "3. Pilih Tabel: Pilih tabel tempat Anda ingin memasukkan data. Biasanya, tabel akan terdaftar di bawah nama database yang Anda pilih."
   ]
  },
  {
   "block_group": "ec3fa28be9a5441aa1422fdf1a1d616e",
   "cell_type": "markdown",
   "metadata": {
    "cell_id": "d3139ac05d4f471d8a4a34a90171cb99",
    "deepnote_cell_type": "text-cell-p",
    "formattedRanges": []
   },
   "source": [
    "4. Buka Editor Data: Klik kanan pada nama tabel yang ingin Anda masuki, lalu pilih \"Edit Data\" atau \"View Data\" dari menu yang muncul. Ini akan membuka editor data di mana Anda dapat memasukkan atau mengedit baris data."
   ]
  },
  {
   "block_group": "1d92a840871a4912ab738b027e2be0e6",
   "cell_type": "markdown",
   "metadata": {
    "cell_id": "9dbd910eea7645f3a23fd8e302b2cca2",
    "deepnote_cell_type": "text-cell-p",
    "formattedRanges": []
   },
   "source": [
    "5. Masukkan Data Baru: Di dalam editor data, Anda dapat menambahkan data baru dengan mengeklik baris kosong di bawah data yang ada atau mengeklik tombol \"Tambah\" atau \"+\" yang mungkin tersedia. Kemudian, isi nilai untuk setiap kolom dalam baris tersebut."
   ]
  },
  {
   "block_group": "17467c9c215543cdafdccea339f60d44",
   "cell_type": "markdown",
   "metadata": {
    "cell_id": "4b4faa7206e4439ba6b267141a5c8a77",
    "deepnote_cell_type": "text-cell-p",
    "formattedRanges": []
   },
   "source": [
    "6. Simpan Perubahan: Setelah Anda memasukkan semua data yang diperlukan, pastikan untuk menyimpan perubahan Anda. Biasanya, ada tombol \"Simpan\" atau \"Submit\" di antarmuka HeidiSQL untuk menyimpan perubahan yang Anda buat."
   ]
  },
  {
   "block_group": "13ea0ea57d83464a9a5e02cbb1229bd2",
   "cell_type": "markdown",
   "metadata": {
    "cell_id": "438f78a3c1a1444a878d1f1444986280",
    "deepnote_cell_type": "text-cell-p",
    "formattedRanges": []
   },
   "source": [
    "7. Verifikasi Data: Pastikan data yang Anda masukkan telah disimpan dengan benar dengan mengeksekusi query SELECT pada tabel yang sesuai atau dengan memeriksanya kembali melalui editor data."
   ]
  },
  {
   "block_group": "03c7b7563b644d559f0e920cf1eaaef6",
   "cell_type": "markdown",
   "metadata": {
    "cell_id": "4123fa7db43245a0a56ff2f0dc0228f7",
    "deepnote_cell_type": "text-cell-h1",
    "formattedRanges": []
   },
   "source": [
    "# DATA UNDERSTANDING"
   ]
  },
  {
   "block_group": "76c07b7a1e4e4f5a84b057b3cc23db9a",
   "cell_type": "markdown",
   "metadata": {
    "cell_id": "97920d52a0294960b0017595cd933293",
    "deepnote_cell_type": "text-cell-h2",
    "formattedRanges": []
   },
   "source": [
    "## Memahami Data"
   ]
  },
  {
   "block_group": "fee9996b2eff4431a18701feb7be5e2f",
   "cell_type": "markdown",
   "metadata": {
    "cell_id": "66f3b90304e24f48948b9c5e8deb0cc2",
    "deepnote_cell_type": "text-cell-p",
    "formattedRanges": []
   },
   "source": [
    "1. Deskripsi Fitur (Kolom):\r\n",
    "   - `Id`: Nomor identifikasi unik untuk setiap baris data.\r\n",
    "   - `SepalLengthCm`: Panjang sepal dalam sentimeter.\r\n",
    "   - `SepalWidthCm`: Lebar sepal dalam sentimeter.\r\n",
    "   - `PetalLengthCm`: Panjang petal dalam sentimeter.\r\n",
    "   - `PetalWidthCm`: Lebar petal dalam sentimeter.\r\n",
    "   - `Species`: Nama spesies bunga Iris.\r\n",
    "   "
   ]
  },
  {
   "block_group": "5ba02aa79d3949e98542b25db3b4da6f",
   "cell_type": "markdown",
   "metadata": {
    "cell_id": "1024a29e953c4463a50382bdda18cfb7",
    "deepnote_cell_type": "text-cell-p",
    "formattedRanges": []
   },
   "source": [
    "2. Jumlah Baris Data: Data yang diberikan adalah baris-baris yang menyimpan pengamatan atau catatan tentang spesimen bunga Iris. Jumlah baris data bisa bervariasi tergantung pada seberapa banyak pengamatan yang direkam. Pada data ini terdapat 150 data."
   ]
  },
  {
   "block_group": "d64ffd794951450e92ee94267f3f1720",
   "cell_type": "markdown",
   "metadata": {
    "cell_id": "1c2c940c29c84831ae550def11fe785f",
    "deepnote_cell_type": "text-cell-p",
    "formattedRanges": []
   },
   "source": [
    "3. Jumlah Fitur (Kolom): Terdapat 4 kolom atau fitur dalam dataset ini, 1 kolom id, dan satu kolom class"
   ]
  },
  {
   "block_group": "5cfdf55021f84693bf1e3d50ccb70382",
   "cell_type": "markdown",
   "metadata": {
    "cell_id": "ef77b12a9a8a4a249909f3acfb456ee4",
    "deepnote_cell_type": "text-cell-p",
    "formattedRanges": []
   },
   "source": [
    "4. Deskripsi Singkat: Dataset ini sepertinya merupakan hasil dari suatu analisis atau eksperimen yang berkaitan dengan spesies bunga Iris. Setiap baris data mencatat berbagai atribut fisik dari suatu spesimen bunga Iris, seperti panjang dan lebar sepal serta panjang dan lebar petal. Selain itu, terdapat informasi tentang nama spesies bunga Iris."
   ]
  },
  {
   "block_group": "9f9fc9c529da4f858a3865c9dfc0c93e",
   "cell_type": "markdown",
   "metadata": {
    "cell_id": "a06c00232ad94ddda4c9295dee9a07c1",
    "deepnote_cell_type": "text-cell-h2",
    "formattedRanges": []
   },
   "source": [
    "## Gambar Bunga Irish"
   ]
  },
  {
   "block_group": "e944467ddcc8410ea8f9fd11edf7471f",
   "cell_type": "markdown",
   "metadata": {
    "cell_id": "67f687e616314b1ab4089a3c86ae3a2c",
    "deepnote_cell_type": "image",
    "deepnote_img_src": "image-20240320-204823.png"
   },
   "source": [
    "<img src=\"image-20240320-204823.png\" width=\"\" align=\"\" />"
   ]
  },
  {
   "block_group": "e3cc92685ab94fb28b0edecfd4e55b56",
   "cell_type": "markdown",
   "metadata": {
    "cell_id": "6d4d13908a864291b91bb192edee576f",
    "deepnote_cell_type": "text-cell-h1",
    "formattedRanges": []
   },
   "source": [
    "# PREPROCESSING DATA"
   ]
  },
  {
   "block_group": "2acf2634e84a4be880bc1a9654680a6f",
   "cell_type": "markdown",
   "metadata": {
    "cell_id": "4302925111864cad973c3363c10d675a",
    "deepnote_cell_type": "text-cell-h2",
    "formattedRanges": []
   },
   "source": [
    "## Melakukan Pemisahan Pada Data Irish"
   ]
  },
  {
   "block_group": "dd4eb7fd6d7b4f3892870e9fcc32d67f",
   "cell_type": "markdown",
   "metadata": {
    "cell_id": "d12fc77d751e447c96671eb80bfd3034",
    "deepnote_cell_type": "text-cell-p",
    "formattedRanges": []
   },
   "source": [
    "Pemisahan ini kita lakukan, untuk mengskenariokan bahwa data terdapat pada dua tempat, yaitu di SQL dan POSTGRE. Sehingga kita lakukan pemisahan. Pada SQL akan ada id, sepallengt,sepalwidth, dan species. Maka lakukan penghapusan atau drop pada petallength dan petalwidth"
   ]
  },
  {
   "block_group": "87dc6468db744679af2607b0d20d7ce4",
   "cell_type": "code",
   "execution_count": 1,
   "metadata": {
    "cell_id": "9a902c79f1284200a63c33b1bf631985",
    "deepnote_cell_type": "sql",
    "deepnote_sql_source": "ALTER TABLE preminmean DROP COLUMN PetalWidthCm",
    "deepnote_to_be_reexecuted": false,
    "deepnote_variable_name": "df_2",
    "execution_millis": 3198,
    "execution_start": 1710245767876,
    "source_hash": null,
    "sql_integration_id": "0588f7a5-1b73-498d-a102-830b1faeb649"
   },
   "outputs": [
    {
     "ename": "NameError",
     "evalue": "name '_deepnote_execute_sql' is not defined",
     "output_type": "error",
     "traceback": [
      "\u001b[1;31m-------------------------------------\u001b[0m",
      "\u001b[1;31mNameError\u001b[0mTraceback (most recent call last)",
      "Cell \u001b[1;32mIn [1], line 1\u001b[0m\n\u001b[1;32m----> 1\u001b[0m df_2 \u001b[38;5;241m=\u001b[39m \u001b[43m_deepnote_execute_sql\u001b[49m(\u001b[38;5;124m'\u001b[39m\u001b[38;5;124mALTER TABLE preminmean DROP COLUMN PetalWidthCm\u001b[39m\u001b[38;5;124m'\u001b[39m, \u001b[38;5;124m'\u001b[39m\u001b[38;5;124mSQL_0588F7A5_1B73_498D_A102_830B1FAEB649\u001b[39m\u001b[38;5;124m'\u001b[39m, audit_sql_comment\u001b[38;5;241m=\u001b[39m\u001b[38;5;124m'\u001b[39m\u001b[38;5;124m'\u001b[39m, sql_cache_mode\u001b[38;5;241m=\u001b[39m\u001b[38;5;124m'\u001b[39m\u001b[38;5;124mcache_disabled\u001b[39m\u001b[38;5;124m'\u001b[39m)\n\u001b[0;32m      2\u001b[0m df_2\n",
      "\u001b[1;31mNameError\u001b[0m: name '_deepnote_execute_sql' is not defined"
     ]
    }
   ],
   "outputs_reference": null,
   "source": [
    "df_2 = _deepnote_execute_sql('ALTER TABLE preminmean DROP COLUMN PetalWidthCm', 'SQL_0588F7A5_1B73_498D_A102_830B1FAEB649', audit_sql_comment='', sql_cache_mode='cache_disabled')\n",
    "df_2"
   ]
  },
  {
   "block_group": "0a88c32cf6504a2590f88134de79cc60",
   "cell_type": "code",
   "execution_count": null,
   "metadata": {
    "cell_id": "f5b172eb1c114860a2e272fe39a729ac",
    "deepnote_cell_type": "sql",
    "deepnote_sql_source": "ALTER TABLE preminknn DROP COLUMN PetalWidthCm",
    "deepnote_to_be_reexecuted": false,
    "deepnote_variable_name": "df_3",
    "execution_millis": 3269,
    "execution_start": 1710245794843,
    "source_hash": null,
    "sql_integration_id": "0588f7a5-1b73-498d-a102-830b1faeb649"
   },
   "outputs": [],
   "outputs_reference": null,
   "source": [
    "df_3 = _deepnote_execute_sql('ALTER TABLE preminknn DROP COLUMN PetalWidthCm', 'SQL_0588F7A5_1B73_498D_A102_830B1FAEB649', audit_sql_comment='', sql_cache_mode='cache_disabled')\n",
    "df_3"
   ]
  },
  {
   "block_group": "4eff4dfa726b4cf48cbfdaad83de2054",
   "cell_type": "code",
   "execution_count": null,
   "metadata": {
    "cell_id": "4559b16da88b4f1aaec3dbde8230cafa",
    "deepnote_cell_type": "sql",
    "deepnote_sql_source": "ALTER TABLE tableName DROP COLUMN PetalLengthCm",
    "deepnote_to_be_reexecuted": false,
    "deepnote_variable_name": "df_4",
    "execution_millis": 3223,
    "execution_start": 1710245821415,
    "source_hash": null,
    "sql_integration_id": "0588f7a5-1b73-498d-a102-830b1faeb649"
   },
   "outputs": [],
   "outputs_reference": null,
   "source": [
    "df_4 = _deepnote_execute_sql('ALTER TABLE tableName DROP COLUMN PetalLengthCm', 'SQL_0588F7A5_1B73_498D_A102_830B1FAEB649', audit_sql_comment='', sql_cache_mode='cache_disabled')\n",
    "df_4"
   ]
  },
  {
   "block_group": "d4186db9bd6c4038b16c7db83b1ccfdc",
   "cell_type": "code",
   "execution_count": null,
   "metadata": {
    "cell_id": "be4fef0b9477415faae559063e632b80",
    "deepnote_cell_type": "sql",
    "deepnote_sql_source": "ALTER TABLE preminmean DROP COLUMN PetalLengthCm",
    "deepnote_to_be_reexecuted": false,
    "deepnote_variable_name": "df_5",
    "execution_millis": 3321,
    "execution_start": 1710245847626,
    "source_hash": null,
    "sql_integration_id": "0588f7a5-1b73-498d-a102-830b1faeb649"
   },
   "outputs": [],
   "outputs_reference": null,
   "source": [
    "df_5 = _deepnote_execute_sql('ALTER TABLE preminmean DROP COLUMN PetalLengthCm', 'SQL_0588F7A5_1B73_498D_A102_830B1FAEB649', audit_sql_comment='', sql_cache_mode='cache_disabled')\n",
    "df_5"
   ]
  },
  {
   "block_group": "894043e758814ae690aac41415244fad",
   "cell_type": "code",
   "execution_count": null,
   "metadata": {
    "cell_id": "f561518d770c411f9ff75ce654a29039",
    "deepnote_cell_type": "sql",
    "deepnote_sql_source": "ALTER TABLE preminknn DROP COLUMN PetalLengthCm",
    "deepnote_to_be_reexecuted": false,
    "deepnote_variable_name": "df_6",
    "execution_start": 1710245875769,
    "source_hash": null,
    "sql_integration_id": "0588f7a5-1b73-498d-a102-830b1faeb649"
   },
   "outputs": [],
   "outputs_reference": null,
   "source": [
    "df_6 = _deepnote_execute_sql('ALTER TABLE preminknn DROP COLUMN PetalLengthCm', 'SQL_0588F7A5_1B73_498D_A102_830B1FAEB649', audit_sql_comment='', sql_cache_mode='cache_disabled')\n",
    "df_6"
   ]
  },
  {
   "block_group": "f41ac4e86bb44873aadb6ac2cdc6da3b",
   "cell_type": "markdown",
   "metadata": {
    "cell_id": "f8f0672a4b1648a0babfb7c5b45b7f29",
    "deepnote_cell_type": "text-cell-p",
    "formattedRanges": []
   },
   "source": [
    "Setelah kita lakukan pemisahan, maka kita lakukan query untuk memunculkan data pada tabel tersebut. Sehingga, dapat dipastikan bahwa data pada SQL sudah sesuai dengan apa yang kita skenasiokan tadi. yaitu telah dihapus petalwidth dan petallength"
   ]
  },
  {
   "block_group": "b35ea18dfabf49e79efce1444458da2e",
   "cell_type": "code",
   "execution_count": null,
   "metadata": {
    "cell_id": "de1d3f15a6924997899c6d25cecd253f",
    "deepnote_cell_type": "sql",
    "deepnote_sql_source": "SELECT * FROM tableName",
    "deepnote_to_be_reexecuted": false,
    "deepnote_variable_name": "df_6",
    "execution_millis": 3293,
    "execution_start": 1710246349282,
    "source_hash": null,
    "sql_integration_id": "0588f7a5-1b73-498d-a102-830b1faeb649"
   },
   "outputs": [
    {
     "data": {
      "application/vnd.deepnote.sql-output-metadata+json": {
       "size_in_bytes": 14278,
       "status": "success_no_cache"
      }
     },
     "metadata": {},
     "output_type": "display_data"
    },
    {
     "data": {
      "application/vnd.deepnote.dataframe.v3+json": {
       "column_count": 4,
       "columns": [
        {
         "dtype": "int64",
         "name": "Id",
         "stats": {
          "histogram": [
           {
            "bin_end": 15.9,
            "bin_start": 1,
            "count": 15
           },
           {
            "bin_end": 30.8,
            "bin_start": 15.9,
            "count": 15
           },
           {
            "bin_end": 45.7,
            "bin_start": 30.8,
            "count": 15
           },
           {
            "bin_end": 60.6,
            "bin_start": 45.7,
            "count": 15
           },
           {
            "bin_end": 75.5,
            "bin_start": 60.6,
            "count": 15
           },
           {
            "bin_end": 90.4,
            "bin_start": 75.5,
            "count": 15
           },
           {
            "bin_end": 105.3,
            "bin_start": 90.4,
            "count": 15
           },
           {
            "bin_end": 120.2,
            "bin_start": 105.3,
            "count": 15
           },
           {
            "bin_end": 135.1,
            "bin_start": 120.2,
            "count": 15
           },
           {
            "bin_end": 150,
            "bin_start": 135.1,
            "count": 15
           }
          ],
          "max": "150",
          "min": "1",
          "nan_count": 0,
          "unique_count": 150
         }
        },
        {
         "dtype": "float64",
         "name": "SepalLengthCm",
         "stats": {
          "histogram": [
           {
            "bin_end": 4.66,
            "bin_start": 4.3,
            "count": 9
           },
           {
            "bin_end": 5.02,
            "bin_start": 4.66,
            "count": 23
           },
           {
            "bin_end": 5.38,
            "bin_start": 5.02,
            "count": 14
           },
           {
            "bin_end": 5.74,
            "bin_start": 5.38,
            "count": 27
           },
           {
            "bin_end": 6.1,
            "bin_start": 5.74,
            "count": 16
           },
           {
            "bin_end": 6.46,
            "bin_start": 6.1,
            "count": 26
           },
           {
            "bin_end": 6.82,
            "bin_start": 6.46,
            "count": 18
           },
           {
            "bin_end": 7.18,
            "bin_start": 6.82,
            "count": 6
           },
           {
            "bin_end": 7.54,
            "bin_start": 7.18,
            "count": 5
           },
           {
            "bin_end": 7.9,
            "bin_start": 7.54,
            "count": 6
           }
          ],
          "max": "7.9",
          "min": "4.3",
          "nan_count": 0,
          "unique_count": 35
         }
        },
        {
         "dtype": "float64",
         "name": "SepalWidthCm",
         "stats": {
          "histogram": [
           {
            "bin_end": 2.24,
            "bin_start": 2,
            "count": 4
           },
           {
            "bin_end": 2.48,
            "bin_start": 2.24,
            "count": 7
           },
           {
            "bin_end": 2.72,
            "bin_start": 2.48,
            "count": 22
           },
           {
            "bin_end": 2.96,
            "bin_start": 2.72,
            "count": 24
           },
           {
            "bin_end": 3.2,
            "bin_start": 2.96,
            "count": 38
           },
           {
            "bin_end": 3.4400000000000004,
            "bin_start": 3.2,
            "count": 31
           },
           {
            "bin_end": 3.6800000000000006,
            "bin_start": 3.4400000000000004,
            "count": 9
           },
           {
            "bin_end": 3.9200000000000004,
            "bin_start": 3.6800000000000006,
            "count": 11
           },
           {
            "bin_end": 4.16,
            "bin_start": 3.9200000000000004,
            "count": 2
           },
           {
            "bin_end": 4.4,
            "bin_start": 4.16,
            "count": 2
           }
          ],
          "max": "4.4",
          "min": "2.0",
          "nan_count": 0,
          "unique_count": 23
         }
        },
        {
         "dtype": "object",
         "name": "Species",
         "stats": {
          "categories": [
           {
            "count": 50,
            "name": "Iris-setosa"
           },
           {
            "count": 50,
            "name": "Iris-versicolor"
           },
           {
            "count": 50,
            "name": "Iris-virginica"
           }
          ],
          "nan_count": 0,
          "unique_count": 3
         }
        },
        {
         "dtype": "int64",
         "name": "_deepnote_index_column"
        }
       ],
       "row_count": 150,
       "rows": [
        {
         "Id": 1,
         "SepalLengthCm": 5.1,
         "SepalWidthCm": 3.5,
         "Species": "Iris-setosa",
         "_deepnote_index_column": 0
        },
        {
         "Id": 2,
         "SepalLengthCm": 4.9,
         "SepalWidthCm": 3,
         "Species": "Iris-setosa",
         "_deepnote_index_column": 1
        },
        {
         "Id": 3,
         "SepalLengthCm": 4.7,
         "SepalWidthCm": 3.2,
         "Species": "Iris-setosa",
         "_deepnote_index_column": 2
        },
        {
         "Id": 4,
         "SepalLengthCm": 4.6,
         "SepalWidthCm": 3.1,
         "Species": "Iris-setosa",
         "_deepnote_index_column": 3
        },
        {
         "Id": 5,
         "SepalLengthCm": 5,
         "SepalWidthCm": 3.6,
         "Species": "Iris-setosa",
         "_deepnote_index_column": 4
        },
        {
         "Id": 6,
         "SepalLengthCm": 5.4,
         "SepalWidthCm": 3.9,
         "Species": "Iris-setosa",
         "_deepnote_index_column": 5
        },
        {
         "Id": 7,
         "SepalLengthCm": 4.6,
         "SepalWidthCm": 3.4,
         "Species": "Iris-setosa",
         "_deepnote_index_column": 6
        },
        {
         "Id": 8,
         "SepalLengthCm": 5,
         "SepalWidthCm": 3.4,
         "Species": "Iris-setosa",
         "_deepnote_index_column": 7
        },
        {
         "Id": 9,
         "SepalLengthCm": 4.4,
         "SepalWidthCm": 2.9,
         "Species": "Iris-setosa",
         "_deepnote_index_column": 8
        },
        {
         "Id": 10,
         "SepalLengthCm": 4.9,
         "SepalWidthCm": 3.1,
         "Species": "Iris-setosa",
         "_deepnote_index_column": 9
        }
       ]
      },
      "text/html": [
       "<div>\n",
       "<style scoped>\n",
       "    .dataframe tbody tr th:only-of-type {\n",
       "        vertical-align: middle;\n",
       "    }\n",
       "\n",
       "    .dataframe tbody tr th {\n",
       "        vertical-align: top;\n",
       "    }\n",
       "\n",
       "    .dataframe thead th {\n",
       "        text-align: right;\n",
       "    }\n",
       "</style>\n",
       "<table border=\"1\" class=\"dataframe\">\n",
       "  <thead>\n",
       "    <tr style=\"text-align: right;\">\n",
       "      <th></th>\n",
       "      <th>Id</th>\n",
       "      <th>SepalLengthCm</th>\n",
       "      <th>SepalWidthCm</th>\n",
       "      <th>Species</th>\n",
       "    </tr>\n",
       "  </thead>\n",
       "  <tbody>\n",
       "    <tr>\n",
       "      <th>0</th>\n",
       "      <td>1</td>\n",
       "      <td>5.1</td>\n",
       "      <td>3.5</td>\n",
       "      <td>Iris-setosa</td>\n",
       "    </tr>\n",
       "    <tr>\n",
       "      <th>1</th>\n",
       "      <td>2</td>\n",
       "      <td>4.9</td>\n",
       "      <td>3.0</td>\n",
       "      <td>Iris-setosa</td>\n",
       "    </tr>\n",
       "    <tr>\n",
       "      <th>2</th>\n",
       "      <td>3</td>\n",
       "      <td>4.7</td>\n",
       "      <td>3.2</td>\n",
       "      <td>Iris-setosa</td>\n",
       "    </tr>\n",
       "    <tr>\n",
       "      <th>3</th>\n",
       "      <td>4</td>\n",
       "      <td>4.6</td>\n",
       "      <td>3.1</td>\n",
       "      <td>Iris-setosa</td>\n",
       "    </tr>\n",
       "    <tr>\n",
       "      <th>4</th>\n",
       "      <td>5</td>\n",
       "      <td>5.0</td>\n",
       "      <td>3.6</td>\n",
       "      <td>Iris-setosa</td>\n",
       "    </tr>\n",
       "    <tr>\n",
       "      <th>...</th>\n",
       "      <td>...</td>\n",
       "      <td>...</td>\n",
       "      <td>...</td>\n",
       "      <td>...</td>\n",
       "    </tr>\n",
       "    <tr>\n",
       "      <th>145</th>\n",
       "      <td>146</td>\n",
       "      <td>6.7</td>\n",
       "      <td>3.0</td>\n",
       "      <td>Iris-virginica</td>\n",
       "    </tr>\n",
       "    <tr>\n",
       "      <th>146</th>\n",
       "      <td>147</td>\n",
       "      <td>6.3</td>\n",
       "      <td>2.5</td>\n",
       "      <td>Iris-virginica</td>\n",
       "    </tr>\n",
       "    <tr>\n",
       "      <th>147</th>\n",
       "      <td>148</td>\n",
       "      <td>6.5</td>\n",
       "      <td>3.0</td>\n",
       "      <td>Iris-virginica</td>\n",
       "    </tr>\n",
       "    <tr>\n",
       "      <th>148</th>\n",
       "      <td>149</td>\n",
       "      <td>6.2</td>\n",
       "      <td>3.4</td>\n",
       "      <td>Iris-virginica</td>\n",
       "    </tr>\n",
       "    <tr>\n",
       "      <th>149</th>\n",
       "      <td>150</td>\n",
       "      <td>5.9</td>\n",
       "      <td>3.0</td>\n",
       "      <td>Iris-virginica</td>\n",
       "    </tr>\n",
       "  </tbody>\n",
       "</table>\n",
       "<p>150 rows × 4 columns</p>\n",
       "</div>"
      ],
      "text/plain": [
       "      Id  SepalLengthCm  SepalWidthCm         Species\n",
       "0      1            5.1           3.5     Iris-setosa\n",
       "1      2            4.9           3.0     Iris-setosa\n",
       "2      3            4.7           3.2     Iris-setosa\n",
       "3      4            4.6           3.1     Iris-setosa\n",
       "4      5            5.0           3.6     Iris-setosa\n",
       "..   ...            ...           ...             ...\n",
       "145  146            6.7           3.0  Iris-virginica\n",
       "146  147            6.3           2.5  Iris-virginica\n",
       "147  148            6.5           3.0  Iris-virginica\n",
       "148  149            6.2           3.4  Iris-virginica\n",
       "149  150            5.9           3.0  Iris-virginica\n",
       "\n",
       "[150 rows x 4 columns]"
      ]
     },
     "execution_count": 8,
     "metadata": {},
     "output_type": "execute_result"
    }
   ],
   "outputs_reference": "s3:deepnote-cell-outputs-production/5f73af4a-9b13-48fa-b720-0cca6d66273f",
   "source": [
    "df_6 = _deepnote_execute_sql('SELECT * FROM tableName', 'SQL_0588F7A5_1B73_498D_A102_830B1FAEB649', audit_sql_comment='', sql_cache_mode='cache_disabled')\n",
    "df_6"
   ]
  },
  {
   "block_group": "cf041891cd064fc1a66b0dafd58cebe8",
   "cell_type": "code",
   "execution_count": null,
   "metadata": {
    "cell_id": "82894b3915824e428a6f4e4a161bf3be",
    "deepnote_cell_type": "sql",
    "deepnote_sql_source": "SELECT * FROM preminmean",
    "deepnote_to_be_reexecuted": false,
    "deepnote_variable_name": "df_7",
    "execution_millis": 3207,
    "execution_start": 1710246475097,
    "source_hash": null,
    "sql_integration_id": "0588f7a5-1b73-498d-a102-830b1faeb649"
   },
   "outputs": [
    {
     "data": {
      "application/vnd.deepnote.sql-output-metadata+json": {
       "size_in_bytes": 14278,
       "status": "success_no_cache"
      }
     },
     "metadata": {},
     "output_type": "display_data"
    },
    {
     "data": {
      "application/vnd.deepnote.dataframe.v3+json": {
       "column_count": 4,
       "columns": [
        {
         "dtype": "int64",
         "name": "Id",
         "stats": {
          "histogram": [
           {
            "bin_end": 15.9,
            "bin_start": 1,
            "count": 15
           },
           {
            "bin_end": 30.8,
            "bin_start": 15.9,
            "count": 15
           },
           {
            "bin_end": 45.7,
            "bin_start": 30.8,
            "count": 15
           },
           {
            "bin_end": 60.6,
            "bin_start": 45.7,
            "count": 15
           },
           {
            "bin_end": 75.5,
            "bin_start": 60.6,
            "count": 15
           },
           {
            "bin_end": 90.4,
            "bin_start": 75.5,
            "count": 15
           },
           {
            "bin_end": 105.3,
            "bin_start": 90.4,
            "count": 15
           },
           {
            "bin_end": 120.2,
            "bin_start": 105.3,
            "count": 15
           },
           {
            "bin_end": 135.1,
            "bin_start": 120.2,
            "count": 15
           },
           {
            "bin_end": 150,
            "bin_start": 135.1,
            "count": 15
           }
          ],
          "max": "150",
          "min": "1",
          "nan_count": 0,
          "unique_count": 150
         }
        },
        {
         "dtype": "float64",
         "name": "SepalLengthCm",
         "stats": {
          "histogram": [
           {
            "bin_end": 4.66,
            "bin_start": 4.3,
            "count": 9
           },
           {
            "bin_end": 5.02,
            "bin_start": 4.66,
            "count": 23
           },
           {
            "bin_end": 5.38,
            "bin_start": 5.02,
            "count": 14
           },
           {
            "bin_end": 5.74,
            "bin_start": 5.38,
            "count": 27
           },
           {
            "bin_end": 6.1,
            "bin_start": 5.74,
            "count": 16
           },
           {
            "bin_end": 6.46,
            "bin_start": 6.1,
            "count": 26
           },
           {
            "bin_end": 6.82,
            "bin_start": 6.46,
            "count": 18
           },
           {
            "bin_end": 7.18,
            "bin_start": 6.82,
            "count": 6
           },
           {
            "bin_end": 7.54,
            "bin_start": 7.18,
            "count": 5
           },
           {
            "bin_end": 7.9,
            "bin_start": 7.54,
            "count": 6
           }
          ],
          "max": "7.9",
          "min": "4.3",
          "nan_count": 0,
          "unique_count": 35
         }
        },
        {
         "dtype": "float64",
         "name": "SepalWidthCm",
         "stats": {
          "histogram": [
           {
            "bin_end": 2.24,
            "bin_start": 2,
            "count": 4
           },
           {
            "bin_end": 2.48,
            "bin_start": 2.24,
            "count": 7
           },
           {
            "bin_end": 2.72,
            "bin_start": 2.48,
            "count": 22
           },
           {
            "bin_end": 2.96,
            "bin_start": 2.72,
            "count": 24
           },
           {
            "bin_end": 3.2,
            "bin_start": 2.96,
            "count": 38
           },
           {
            "bin_end": 3.4400000000000004,
            "bin_start": 3.2,
            "count": 31
           },
           {
            "bin_end": 3.6800000000000006,
            "bin_start": 3.4400000000000004,
            "count": 9
           },
           {
            "bin_end": 3.9200000000000004,
            "bin_start": 3.6800000000000006,
            "count": 11
           },
           {
            "bin_end": 4.16,
            "bin_start": 3.9200000000000004,
            "count": 2
           },
           {
            "bin_end": 4.4,
            "bin_start": 4.16,
            "count": 2
           }
          ],
          "max": "4.4",
          "min": "2.0",
          "nan_count": 0,
          "unique_count": 23
         }
        },
        {
         "dtype": "object",
         "name": "Species",
         "stats": {
          "categories": [
           {
            "count": 50,
            "name": "Iris-setosa"
           },
           {
            "count": 50,
            "name": "Iris-versicolor"
           },
           {
            "count": 50,
            "name": "Iris-virginica"
           }
          ],
          "nan_count": 0,
          "unique_count": 3
         }
        },
        {
         "dtype": "int64",
         "name": "_deepnote_index_column"
        }
       ],
       "row_count": 150,
       "rows": [
        {
         "Id": 1,
         "SepalLengthCm": 5.1,
         "SepalWidthCm": 3.5,
         "Species": "Iris-setosa",
         "_deepnote_index_column": 0
        },
        {
         "Id": 2,
         "SepalLengthCm": 4.9,
         "SepalWidthCm": 3,
         "Species": "Iris-setosa",
         "_deepnote_index_column": 1
        },
        {
         "Id": 3,
         "SepalLengthCm": 4.7,
         "SepalWidthCm": 3.2,
         "Species": "Iris-setosa",
         "_deepnote_index_column": 2
        },
        {
         "Id": 4,
         "SepalLengthCm": 4.6,
         "SepalWidthCm": 3.1,
         "Species": "Iris-setosa",
         "_deepnote_index_column": 3
        },
        {
         "Id": 5,
         "SepalLengthCm": 5,
         "SepalWidthCm": 3.6,
         "Species": "Iris-setosa",
         "_deepnote_index_column": 4
        },
        {
         "Id": 6,
         "SepalLengthCm": 5.4,
         "SepalWidthCm": 3.9,
         "Species": "Iris-setosa",
         "_deepnote_index_column": 5
        },
        {
         "Id": 7,
         "SepalLengthCm": 4.6,
         "SepalWidthCm": 3.4,
         "Species": "Iris-setosa",
         "_deepnote_index_column": 6
        },
        {
         "Id": 8,
         "SepalLengthCm": 5,
         "SepalWidthCm": 3.4,
         "Species": "Iris-setosa",
         "_deepnote_index_column": 7
        },
        {
         "Id": 9,
         "SepalLengthCm": 4.4,
         "SepalWidthCm": 2.9,
         "Species": "Iris-setosa",
         "_deepnote_index_column": 8
        },
        {
         "Id": 10,
         "SepalLengthCm": 4.9,
         "SepalWidthCm": 3.1,
         "Species": "Iris-setosa",
         "_deepnote_index_column": 9
        }
       ]
      },
      "text/html": [
       "<div>\n",
       "<style scoped>\n",
       "    .dataframe tbody tr th:only-of-type {\n",
       "        vertical-align: middle;\n",
       "    }\n",
       "\n",
       "    .dataframe tbody tr th {\n",
       "        vertical-align: top;\n",
       "    }\n",
       "\n",
       "    .dataframe thead th {\n",
       "        text-align: right;\n",
       "    }\n",
       "</style>\n",
       "<table border=\"1\" class=\"dataframe\">\n",
       "  <thead>\n",
       "    <tr style=\"text-align: right;\">\n",
       "      <th></th>\n",
       "      <th>Id</th>\n",
       "      <th>SepalLengthCm</th>\n",
       "      <th>SepalWidthCm</th>\n",
       "      <th>Species</th>\n",
       "    </tr>\n",
       "  </thead>\n",
       "  <tbody>\n",
       "    <tr>\n",
       "      <th>0</th>\n",
       "      <td>1</td>\n",
       "      <td>5.1</td>\n",
       "      <td>3.5</td>\n",
       "      <td>Iris-setosa</td>\n",
       "    </tr>\n",
       "    <tr>\n",
       "      <th>1</th>\n",
       "      <td>2</td>\n",
       "      <td>4.9</td>\n",
       "      <td>3.0</td>\n",
       "      <td>Iris-setosa</td>\n",
       "    </tr>\n",
       "    <tr>\n",
       "      <th>2</th>\n",
       "      <td>3</td>\n",
       "      <td>4.7</td>\n",
       "      <td>3.2</td>\n",
       "      <td>Iris-setosa</td>\n",
       "    </tr>\n",
       "    <tr>\n",
       "      <th>3</th>\n",
       "      <td>4</td>\n",
       "      <td>4.6</td>\n",
       "      <td>3.1</td>\n",
       "      <td>Iris-setosa</td>\n",
       "    </tr>\n",
       "    <tr>\n",
       "      <th>4</th>\n",
       "      <td>5</td>\n",
       "      <td>5.0</td>\n",
       "      <td>3.6</td>\n",
       "      <td>Iris-setosa</td>\n",
       "    </tr>\n",
       "    <tr>\n",
       "      <th>...</th>\n",
       "      <td>...</td>\n",
       "      <td>...</td>\n",
       "      <td>...</td>\n",
       "      <td>...</td>\n",
       "    </tr>\n",
       "    <tr>\n",
       "      <th>145</th>\n",
       "      <td>146</td>\n",
       "      <td>6.7</td>\n",
       "      <td>3.0</td>\n",
       "      <td>Iris-virginica</td>\n",
       "    </tr>\n",
       "    <tr>\n",
       "      <th>146</th>\n",
       "      <td>147</td>\n",
       "      <td>6.3</td>\n",
       "      <td>2.5</td>\n",
       "      <td>Iris-virginica</td>\n",
       "    </tr>\n",
       "    <tr>\n",
       "      <th>147</th>\n",
       "      <td>148</td>\n",
       "      <td>6.5</td>\n",
       "      <td>3.0</td>\n",
       "      <td>Iris-virginica</td>\n",
       "    </tr>\n",
       "    <tr>\n",
       "      <th>148</th>\n",
       "      <td>149</td>\n",
       "      <td>6.2</td>\n",
       "      <td>3.4</td>\n",
       "      <td>Iris-virginica</td>\n",
       "    </tr>\n",
       "    <tr>\n",
       "      <th>149</th>\n",
       "      <td>150</td>\n",
       "      <td>5.9</td>\n",
       "      <td>3.0</td>\n",
       "      <td>Iris-virginica</td>\n",
       "    </tr>\n",
       "  </tbody>\n",
       "</table>\n",
       "<p>150 rows × 4 columns</p>\n",
       "</div>"
      ],
      "text/plain": [
       "      Id  SepalLengthCm  SepalWidthCm         Species\n",
       "0      1            5.1           3.5     Iris-setosa\n",
       "1      2            4.9           3.0     Iris-setosa\n",
       "2      3            4.7           3.2     Iris-setosa\n",
       "3      4            4.6           3.1     Iris-setosa\n",
       "4      5            5.0           3.6     Iris-setosa\n",
       "..   ...            ...           ...             ...\n",
       "145  146            6.7           3.0  Iris-virginica\n",
       "146  147            6.3           2.5  Iris-virginica\n",
       "147  148            6.5           3.0  Iris-virginica\n",
       "148  149            6.2           3.4  Iris-virginica\n",
       "149  150            5.9           3.0  Iris-virginica\n",
       "\n",
       "[150 rows x 4 columns]"
      ]
     },
     "execution_count": 9,
     "metadata": {},
     "output_type": "execute_result"
    }
   ],
   "outputs_reference": "s3:deepnote-cell-outputs-production/a37aa965-1d8f-49ab-80e7-76f0703b8495",
   "source": [
    "df_7 = _deepnote_execute_sql('SELECT * FROM preminmean', 'SQL_0588F7A5_1B73_498D_A102_830B1FAEB649', audit_sql_comment='', sql_cache_mode='cache_disabled')\n",
    "df_7"
   ]
  },
  {
   "block_group": "e69e4c011e704c9186adb8d3148a35c8",
   "cell_type": "code",
   "execution_count": null,
   "metadata": {
    "cell_id": "56db8b50506742f4be0f99a1fa68dd5f",
    "deepnote_cell_type": "sql",
    "deepnote_sql_source": "SELECT * FROM preminknn",
    "deepnote_to_be_reexecuted": false,
    "deepnote_variable_name": "df_8",
    "execution_millis": 3150,
    "execution_start": 1710246495265,
    "source_hash": null,
    "sql_integration_id": "0588f7a5-1b73-498d-a102-830b1faeb649"
   },
   "outputs": [
    {
     "data": {
      "application/vnd.deepnote.sql-output-metadata+json": {
       "size_in_bytes": 14278,
       "status": "success_no_cache"
      }
     },
     "metadata": {},
     "output_type": "display_data"
    },
    {
     "data": {
      "application/vnd.deepnote.dataframe.v3+json": {
       "column_count": 4,
       "columns": [
        {
         "dtype": "int64",
         "name": "Id",
         "stats": {
          "histogram": [
           {
            "bin_end": 15.9,
            "bin_start": 1,
            "count": 15
           },
           {
            "bin_end": 30.8,
            "bin_start": 15.9,
            "count": 15
           },
           {
            "bin_end": 45.7,
            "bin_start": 30.8,
            "count": 15
           },
           {
            "bin_end": 60.6,
            "bin_start": 45.7,
            "count": 15
           },
           {
            "bin_end": 75.5,
            "bin_start": 60.6,
            "count": 15
           },
           {
            "bin_end": 90.4,
            "bin_start": 75.5,
            "count": 15
           },
           {
            "bin_end": 105.3,
            "bin_start": 90.4,
            "count": 15
           },
           {
            "bin_end": 120.2,
            "bin_start": 105.3,
            "count": 15
           },
           {
            "bin_end": 135.1,
            "bin_start": 120.2,
            "count": 15
           },
           {
            "bin_end": 150,
            "bin_start": 135.1,
            "count": 15
           }
          ],
          "max": "150",
          "min": "1",
          "nan_count": 0,
          "unique_count": 150
         }
        },
        {
         "dtype": "float64",
         "name": "SepalLengthCm",
         "stats": {
          "histogram": [
           {
            "bin_end": 4.66,
            "bin_start": 4.3,
            "count": 9
           },
           {
            "bin_end": 5.02,
            "bin_start": 4.66,
            "count": 23
           },
           {
            "bin_end": 5.38,
            "bin_start": 5.02,
            "count": 14
           },
           {
            "bin_end": 5.74,
            "bin_start": 5.38,
            "count": 27
           },
           {
            "bin_end": 6.1,
            "bin_start": 5.74,
            "count": 16
           },
           {
            "bin_end": 6.46,
            "bin_start": 6.1,
            "count": 26
           },
           {
            "bin_end": 6.82,
            "bin_start": 6.46,
            "count": 18
           },
           {
            "bin_end": 7.18,
            "bin_start": 6.82,
            "count": 6
           },
           {
            "bin_end": 7.54,
            "bin_start": 7.18,
            "count": 5
           },
           {
            "bin_end": 7.9,
            "bin_start": 7.54,
            "count": 6
           }
          ],
          "max": "7.9",
          "min": "4.3",
          "nan_count": 0,
          "unique_count": 35
         }
        },
        {
         "dtype": "float64",
         "name": "SepalWidthCm",
         "stats": {
          "histogram": [
           {
            "bin_end": 2.24,
            "bin_start": 2,
            "count": 4
           },
           {
            "bin_end": 2.48,
            "bin_start": 2.24,
            "count": 7
           },
           {
            "bin_end": 2.72,
            "bin_start": 2.48,
            "count": 22
           },
           {
            "bin_end": 2.96,
            "bin_start": 2.72,
            "count": 24
           },
           {
            "bin_end": 3.2,
            "bin_start": 2.96,
            "count": 38
           },
           {
            "bin_end": 3.4400000000000004,
            "bin_start": 3.2,
            "count": 31
           },
           {
            "bin_end": 3.6800000000000006,
            "bin_start": 3.4400000000000004,
            "count": 9
           },
           {
            "bin_end": 3.9200000000000004,
            "bin_start": 3.6800000000000006,
            "count": 11
           },
           {
            "bin_end": 4.16,
            "bin_start": 3.9200000000000004,
            "count": 2
           },
           {
            "bin_end": 4.4,
            "bin_start": 4.16,
            "count": 2
           }
          ],
          "max": "4.4",
          "min": "2.0",
          "nan_count": 0,
          "unique_count": 23
         }
        },
        {
         "dtype": "object",
         "name": "Species",
         "stats": {
          "categories": [
           {
            "count": 50,
            "name": "Iris-setosa"
           },
           {
            "count": 50,
            "name": "Iris-versicolor"
           },
           {
            "count": 50,
            "name": "Iris-virginica"
           }
          ],
          "nan_count": 0,
          "unique_count": 3
         }
        },
        {
         "dtype": "int64",
         "name": "_deepnote_index_column"
        }
       ],
       "row_count": 150,
       "rows": [
        {
         "Id": 1,
         "SepalLengthCm": 5.1,
         "SepalWidthCm": 3.5,
         "Species": "Iris-setosa",
         "_deepnote_index_column": 0
        },
        {
         "Id": 2,
         "SepalLengthCm": 4.9,
         "SepalWidthCm": 3,
         "Species": "Iris-setosa",
         "_deepnote_index_column": 1
        },
        {
         "Id": 3,
         "SepalLengthCm": 4.7,
         "SepalWidthCm": 3.2,
         "Species": "Iris-setosa",
         "_deepnote_index_column": 2
        },
        {
         "Id": 4,
         "SepalLengthCm": 4.6,
         "SepalWidthCm": 3.1,
         "Species": "Iris-setosa",
         "_deepnote_index_column": 3
        },
        {
         "Id": 5,
         "SepalLengthCm": 5,
         "SepalWidthCm": 3.6,
         "Species": "Iris-setosa",
         "_deepnote_index_column": 4
        },
        {
         "Id": 6,
         "SepalLengthCm": 5.4,
         "SepalWidthCm": 3.9,
         "Species": "Iris-setosa",
         "_deepnote_index_column": 5
        },
        {
         "Id": 7,
         "SepalLengthCm": 4.6,
         "SepalWidthCm": 3.4,
         "Species": "Iris-setosa",
         "_deepnote_index_column": 6
        },
        {
         "Id": 8,
         "SepalLengthCm": 5,
         "SepalWidthCm": 3.4,
         "Species": "Iris-setosa",
         "_deepnote_index_column": 7
        },
        {
         "Id": 9,
         "SepalLengthCm": 4.4,
         "SepalWidthCm": 2.9,
         "Species": "Iris-setosa",
         "_deepnote_index_column": 8
        },
        {
         "Id": 10,
         "SepalLengthCm": 4.9,
         "SepalWidthCm": 3.1,
         "Species": "Iris-setosa",
         "_deepnote_index_column": 9
        }
       ]
      },
      "text/html": [
       "<div>\n",
       "<style scoped>\n",
       "    .dataframe tbody tr th:only-of-type {\n",
       "        vertical-align: middle;\n",
       "    }\n",
       "\n",
       "    .dataframe tbody tr th {\n",
       "        vertical-align: top;\n",
       "    }\n",
       "\n",
       "    .dataframe thead th {\n",
       "        text-align: right;\n",
       "    }\n",
       "</style>\n",
       "<table border=\"1\" class=\"dataframe\">\n",
       "  <thead>\n",
       "    <tr style=\"text-align: right;\">\n",
       "      <th></th>\n",
       "      <th>Id</th>\n",
       "      <th>SepalLengthCm</th>\n",
       "      <th>SepalWidthCm</th>\n",
       "      <th>Species</th>\n",
       "    </tr>\n",
       "  </thead>\n",
       "  <tbody>\n",
       "    <tr>\n",
       "      <th>0</th>\n",
       "      <td>1</td>\n",
       "      <td>5.1</td>\n",
       "      <td>3.5</td>\n",
       "      <td>Iris-setosa</td>\n",
       "    </tr>\n",
       "    <tr>\n",
       "      <th>1</th>\n",
       "      <td>2</td>\n",
       "      <td>4.9</td>\n",
       "      <td>3.0</td>\n",
       "      <td>Iris-setosa</td>\n",
       "    </tr>\n",
       "    <tr>\n",
       "      <th>2</th>\n",
       "      <td>3</td>\n",
       "      <td>4.7</td>\n",
       "      <td>3.2</td>\n",
       "      <td>Iris-setosa</td>\n",
       "    </tr>\n",
       "    <tr>\n",
       "      <th>3</th>\n",
       "      <td>4</td>\n",
       "      <td>4.6</td>\n",
       "      <td>3.1</td>\n",
       "      <td>Iris-setosa</td>\n",
       "    </tr>\n",
       "    <tr>\n",
       "      <th>4</th>\n",
       "      <td>5</td>\n",
       "      <td>5.0</td>\n",
       "      <td>3.6</td>\n",
       "      <td>Iris-setosa</td>\n",
       "    </tr>\n",
       "    <tr>\n",
       "      <th>...</th>\n",
       "      <td>...</td>\n",
       "      <td>...</td>\n",
       "      <td>...</td>\n",
       "      <td>...</td>\n",
       "    </tr>\n",
       "    <tr>\n",
       "      <th>145</th>\n",
       "      <td>146</td>\n",
       "      <td>6.7</td>\n",
       "      <td>3.0</td>\n",
       "      <td>Iris-virginica</td>\n",
       "    </tr>\n",
       "    <tr>\n",
       "      <th>146</th>\n",
       "      <td>147</td>\n",
       "      <td>6.3</td>\n",
       "      <td>2.5</td>\n",
       "      <td>Iris-virginica</td>\n",
       "    </tr>\n",
       "    <tr>\n",
       "      <th>147</th>\n",
       "      <td>148</td>\n",
       "      <td>6.5</td>\n",
       "      <td>3.0</td>\n",
       "      <td>Iris-virginica</td>\n",
       "    </tr>\n",
       "    <tr>\n",
       "      <th>148</th>\n",
       "      <td>149</td>\n",
       "      <td>6.2</td>\n",
       "      <td>3.4</td>\n",
       "      <td>Iris-virginica</td>\n",
       "    </tr>\n",
       "    <tr>\n",
       "      <th>149</th>\n",
       "      <td>150</td>\n",
       "      <td>5.9</td>\n",
       "      <td>3.0</td>\n",
       "      <td>Iris-virginica</td>\n",
       "    </tr>\n",
       "  </tbody>\n",
       "</table>\n",
       "<p>150 rows × 4 columns</p>\n",
       "</div>"
      ],
      "text/plain": [
       "      Id  SepalLengthCm  SepalWidthCm         Species\n",
       "0      1            5.1           3.5     Iris-setosa\n",
       "1      2            4.9           3.0     Iris-setosa\n",
       "2      3            4.7           3.2     Iris-setosa\n",
       "3      4            4.6           3.1     Iris-setosa\n",
       "4      5            5.0           3.6     Iris-setosa\n",
       "..   ...            ...           ...             ...\n",
       "145  146            6.7           3.0  Iris-virginica\n",
       "146  147            6.3           2.5  Iris-virginica\n",
       "147  148            6.5           3.0  Iris-virginica\n",
       "148  149            6.2           3.4  Iris-virginica\n",
       "149  150            5.9           3.0  Iris-virginica\n",
       "\n",
       "[150 rows x 4 columns]"
      ]
     },
     "execution_count": 10,
     "metadata": {},
     "output_type": "execute_result"
    }
   ],
   "outputs_reference": "s3:deepnote-cell-outputs-production/c236b594-0117-4a66-96da-0d143a9112ed",
   "source": [
    "df_8 = _deepnote_execute_sql('SELECT * FROM preminknn', 'SQL_0588F7A5_1B73_498D_A102_830B1FAEB649', audit_sql_comment='', sql_cache_mode='cache_disabled')\n",
    "df_8"
   ]
  },
  {
   "block_group": "4a907618f4314dd1bffa61b60e4327ab",
   "cell_type": "markdown",
   "metadata": {
    "cell_id": "cd55d08a476247d6a126b83660a1fcbf",
    "deepnote_cell_type": "text-cell-p",
    "formattedRanges": []
   },
   "source": [
    "pada postgree yang kita butuhkan adalah id, petallength, petalwidth, dan species. maka pada sepallength dan sepalwidthnya kita lakukan penghapusan atau drop."
   ]
  },
  {
   "block_group": "868be48c6d334d5b8b08f2d1d38117f2",
   "cell_type": "code",
   "execution_count": null,
   "metadata": {
    "cell_id": "3a9cf12babcc409ea155d8a1aae58b2e",
    "deepnote_cell_type": "sql",
    "deepnote_sql_source": "ALTER TABLE tablename DROP COLUMN sepallengthcm",
    "deepnote_to_be_reexecuted": false,
    "deepnote_variable_name": "df_9",
    "execution_millis": 3896,
    "execution_start": 1710247882447,
    "source_hash": null,
    "sql_integration_id": "e83c161a-c437-4e4c-8544-e318581c8846"
   },
   "outputs": [],
   "outputs_reference": null,
   "source": [
    "df_9 = _deepnote_execute_sql('ALTER TABLE tablename DROP COLUMN sepallengthcm', 'SQL_E83C161A_C437_4E4C_8544_E318581C8846', audit_sql_comment='', sql_cache_mode='cache_disabled')\n",
    "df_9"
   ]
  },
  {
   "block_group": "cf60d63668c347eb88a47f5336c42c24",
   "cell_type": "code",
   "execution_count": null,
   "metadata": {
    "cell_id": "646fbc88fc7d4763b95d573ae5121bed",
    "deepnote_cell_type": "sql",
    "deepnote_sql_source": "ALTER TABLE preminmean DROP COLUMN sepallengthcm",
    "deepnote_to_be_reexecuted": false,
    "deepnote_variable_name": "df_10",
    "execution_millis": 3701,
    "execution_start": 1710247915416,
    "source_hash": null,
    "sql_integration_id": "e83c161a-c437-4e4c-8544-e318581c8846"
   },
   "outputs": [],
   "outputs_reference": null,
   "source": [
    "df_10 = _deepnote_execute_sql('ALTER TABLE preminmean DROP COLUMN sepallengthcm', 'SQL_E83C161A_C437_4E4C_8544_E318581C8846', audit_sql_comment='', sql_cache_mode='cache_disabled')\n",
    "df_10"
   ]
  },
  {
   "block_group": "e322b6975c804c498979672af6bd0250",
   "cell_type": "code",
   "execution_count": null,
   "metadata": {
    "cell_id": "49e16f037188494daf82a541d277bc48",
    "deepnote_cell_type": "sql",
    "deepnote_sql_source": "ALTER TABLE preminknn DROP COLUMN sepallengthcm",
    "deepnote_to_be_reexecuted": false,
    "deepnote_variable_name": "df_11",
    "execution_millis": 3663,
    "execution_start": 1710247937468,
    "source_hash": null,
    "sql_integration_id": "e83c161a-c437-4e4c-8544-e318581c8846"
   },
   "outputs": [],
   "outputs_reference": null,
   "source": [
    "df_11 = _deepnote_execute_sql('ALTER TABLE preminknn DROP COLUMN sepallengthcm', 'SQL_E83C161A_C437_4E4C_8544_E318581C8846', audit_sql_comment='', sql_cache_mode='cache_disabled')\n",
    "df_11"
   ]
  },
  {
   "block_group": "11d937c8284c489bba5eaaeca23a0b70",
   "cell_type": "code",
   "execution_count": null,
   "metadata": {
    "cell_id": "34576939840246ccb4693b021fb1c20d",
    "deepnote_cell_type": "sql",
    "deepnote_sql_source": "ALTER TABLE tablename DROP COLUMN sepalwidthcm",
    "deepnote_to_be_reexecuted": false,
    "deepnote_variable_name": "df_12",
    "execution_millis": 3707,
    "execution_start": 1710247961221,
    "source_hash": null,
    "sql_integration_id": "e83c161a-c437-4e4c-8544-e318581c8846"
   },
   "outputs": [],
   "outputs_reference": null,
   "source": [
    "df_12 = _deepnote_execute_sql('ALTER TABLE tablename DROP COLUMN sepalwidthcm', 'SQL_E83C161A_C437_4E4C_8544_E318581C8846', audit_sql_comment='', sql_cache_mode='cache_disabled')\n",
    "df_12"
   ]
  },
  {
   "block_group": "f86101f1f40e4101b825c35906ab1676",
   "cell_type": "code",
   "execution_count": null,
   "metadata": {
    "cell_id": "9af99fd6505940c0ae9bd88873a4fa14",
    "deepnote_cell_type": "sql",
    "deepnote_sql_source": "ALTER TABLE preminmean DROP COLUMN sepalwidthcm",
    "deepnote_to_be_reexecuted": false,
    "deepnote_variable_name": "df_13",
    "execution_millis": 3673,
    "execution_start": 1710247973165,
    "source_hash": null,
    "sql_integration_id": "e83c161a-c437-4e4c-8544-e318581c8846"
   },
   "outputs": [],
   "outputs_reference": null,
   "source": [
    "df_13 = _deepnote_execute_sql('ALTER TABLE preminmean DROP COLUMN sepalwidthcm', 'SQL_E83C161A_C437_4E4C_8544_E318581C8846', audit_sql_comment='', sql_cache_mode='cache_disabled')\n",
    "df_13"
   ]
  },
  {
   "block_group": "cbdef06f307d4988ae506a006b99a29e",
   "cell_type": "code",
   "execution_count": null,
   "metadata": {
    "cell_id": "06589b8a8d7047668d729402d43e8a68",
    "deepnote_cell_type": "sql",
    "deepnote_sql_source": "ALTER TABLE preminknn DROP COLUMN sepalwidthcm",
    "deepnote_to_be_reexecuted": false,
    "deepnote_variable_name": "df_14",
    "execution_millis": 3671,
    "execution_start": 1710247994097,
    "source_hash": null,
    "sql_integration_id": "e83c161a-c437-4e4c-8544-e318581c8846"
   },
   "outputs": [],
   "outputs_reference": null,
   "source": [
    "df_14 = _deepnote_execute_sql('ALTER TABLE preminknn DROP COLUMN sepalwidthcm', 'SQL_E83C161A_C437_4E4C_8544_E318581C8846', audit_sql_comment='', sql_cache_mode='cache_disabled')\n",
    "df_14"
   ]
  },
  {
   "block_group": "129959af43784d6fbe3dd9750e9b78c9",
   "cell_type": "markdown",
   "metadata": {
    "cell_id": "42814e7cfb6d44a091d158c44804ecce",
    "deepnote_cell_type": "text-cell-p",
    "formattedRanges": []
   },
   "source": [
    "lalu kita cek, apakah sudah sesuai dengan skenario yang kita inginkan tadi."
   ]
  },
  {
   "block_group": "56adebc6c3854fd484ba2ce9aad9bc05",
   "cell_type": "code",
   "execution_count": null,
   "metadata": {
    "cell_id": "f3ee372096a643b2a76f195607b929e1",
    "deepnote_cell_type": "sql",
    "deepnote_sql_source": "SELECT * FROM tablename",
    "deepnote_to_be_reexecuted": false,
    "deepnote_variable_name": "df_15",
    "execution_millis": 3855,
    "execution_start": 1710248014169,
    "source_hash": null,
    "sql_integration_id": "e83c161a-c437-4e4c-8544-e318581c8846"
   },
   "outputs": [
    {
     "data": {
      "application/vnd.deepnote.sql-output-metadata+json": {
       "size_in_bytes": 14278,
       "status": "success_no_cache"
      }
     },
     "metadata": {},
     "output_type": "display_data"
    },
    {
     "data": {
      "application/vnd.deepnote.dataframe.v3+json": {
       "column_count": 4,
       "columns": [
        {
         "dtype": "int64",
         "name": "id",
         "stats": {
          "histogram": [
           {
            "bin_end": 15.9,
            "bin_start": 1,
            "count": 15
           },
           {
            "bin_end": 30.8,
            "bin_start": 15.9,
            "count": 15
           },
           {
            "bin_end": 45.7,
            "bin_start": 30.8,
            "count": 15
           },
           {
            "bin_end": 60.6,
            "bin_start": 45.7,
            "count": 15
           },
           {
            "bin_end": 75.5,
            "bin_start": 60.6,
            "count": 15
           },
           {
            "bin_end": 90.4,
            "bin_start": 75.5,
            "count": 15
           },
           {
            "bin_end": 105.3,
            "bin_start": 90.4,
            "count": 15
           },
           {
            "bin_end": 120.2,
            "bin_start": 105.3,
            "count": 15
           },
           {
            "bin_end": 135.1,
            "bin_start": 120.2,
            "count": 15
           },
           {
            "bin_end": 150,
            "bin_start": 135.1,
            "count": 15
           }
          ],
          "max": "150",
          "min": "1",
          "nan_count": 0,
          "unique_count": 150
         }
        },
        {
         "dtype": "float64",
         "name": "petallengthcm",
         "stats": {
          "histogram": [
           {
            "bin_end": 1.59,
            "bin_start": 1,
            "count": 37
           },
           {
            "bin_end": 2.18,
            "bin_start": 1.59,
            "count": 13
           },
           {
            "bin_end": 2.7700000000000005,
            "bin_start": 2.18,
            "count": 0
           },
           {
            "bin_end": 3.3600000000000003,
            "bin_start": 2.7700000000000005,
            "count": 3
           },
           {
            "bin_end": 3.95,
            "bin_start": 3.3600000000000003,
            "count": 8
           },
           {
            "bin_end": 4.540000000000001,
            "bin_start": 3.95,
            "count": 26
           },
           {
            "bin_end": 5.130000000000001,
            "bin_start": 4.540000000000001,
            "count": 29
           },
           {
            "bin_end": 5.720000000000001,
            "bin_start": 5.130000000000001,
            "count": 18
           },
           {
            "bin_end": 6.3100000000000005,
            "bin_start": 5.720000000000001,
            "count": 11
           },
           {
            "bin_end": 6.9,
            "bin_start": 6.3100000000000005,
            "count": 5
           }
          ],
          "max": "6.9",
          "min": "1.0",
          "nan_count": 0,
          "unique_count": 43
         }
        },
        {
         "dtype": "float64",
         "name": "petalwidthcm",
         "stats": {
          "histogram": [
           {
            "bin_end": 0.33999999999999997,
            "bin_start": 0.1,
            "count": 41
           },
           {
            "bin_end": 0.58,
            "bin_start": 0.33999999999999997,
            "count": 8
           },
           {
            "bin_end": 0.82,
            "bin_start": 0.58,
            "count": 1
           },
           {
            "bin_end": 1.06,
            "bin_start": 0.82,
            "count": 7
           },
           {
            "bin_end": 1.3,
            "bin_start": 1.06,
            "count": 8
           },
           {
            "bin_end": 1.54,
            "bin_start": 1.3,
            "count": 33
           },
           {
            "bin_end": 1.78,
            "bin_start": 1.54,
            "count": 6
           },
           {
            "bin_end": 2.02,
            "bin_start": 1.78,
            "count": 23
           },
           {
            "bin_end": 2.2600000000000002,
            "bin_start": 2.02,
            "count": 9
           },
           {
            "bin_end": 2.5,
            "bin_start": 2.2600000000000002,
            "count": 14
           }
          ],
          "max": "2.5",
          "min": "0.1",
          "nan_count": 0,
          "unique_count": 22
         }
        },
        {
         "dtype": "object",
         "name": "species",
         "stats": {
          "categories": [
           {
            "count": 50,
            "name": "Iris-setosa"
           },
           {
            "count": 50,
            "name": "Iris-versicolor"
           },
           {
            "count": 50,
            "name": "Iris-virginica"
           }
          ],
          "nan_count": 0,
          "unique_count": 3
         }
        },
        {
         "dtype": "int64",
         "name": "_deepnote_index_column"
        }
       ],
       "row_count": 150,
       "rows": [
        {
         "_deepnote_index_column": 0,
         "id": 1,
         "petallengthcm": 1.4,
         "petalwidthcm": 0.2,
         "species": "Iris-setosa"
        },
        {
         "_deepnote_index_column": 1,
         "id": 2,
         "petallengthcm": 1.4,
         "petalwidthcm": 0.2,
         "species": "Iris-setosa"
        },
        {
         "_deepnote_index_column": 2,
         "id": 3,
         "petallengthcm": 1.3,
         "petalwidthcm": 0.2,
         "species": "Iris-setosa"
        },
        {
         "_deepnote_index_column": 3,
         "id": 4,
         "petallengthcm": 1.5,
         "petalwidthcm": 0.2,
         "species": "Iris-setosa"
        },
        {
         "_deepnote_index_column": 4,
         "id": 5,
         "petallengthcm": 1.4,
         "petalwidthcm": 0.2,
         "species": "Iris-setosa"
        },
        {
         "_deepnote_index_column": 5,
         "id": 6,
         "petallengthcm": 1.7,
         "petalwidthcm": 0.4,
         "species": "Iris-setosa"
        },
        {
         "_deepnote_index_column": 6,
         "id": 7,
         "petallengthcm": 1.4,
         "petalwidthcm": 0.3,
         "species": "Iris-setosa"
        },
        {
         "_deepnote_index_column": 7,
         "id": 8,
         "petallengthcm": 1.5,
         "petalwidthcm": 0.2,
         "species": "Iris-setosa"
        },
        {
         "_deepnote_index_column": 8,
         "id": 9,
         "petallengthcm": 1.4,
         "petalwidthcm": 0.2,
         "species": "Iris-setosa"
        },
        {
         "_deepnote_index_column": 9,
         "id": 10,
         "petallengthcm": 1.5,
         "petalwidthcm": 0.1,
         "species": "Iris-setosa"
        }
       ]
      },
      "text/html": [
       "<div>\n",
       "<style scoped>\n",
       "    .dataframe tbody tr th:only-of-type {\n",
       "        vertical-align: middle;\n",
       "    }\n",
       "\n",
       "    .dataframe tbody tr th {\n",
       "        vertical-align: top;\n",
       "    }\n",
       "\n",
       "    .dataframe thead th {\n",
       "        text-align: right;\n",
       "    }\n",
       "</style>\n",
       "<table border=\"1\" class=\"dataframe\">\n",
       "  <thead>\n",
       "    <tr style=\"text-align: right;\">\n",
       "      <th></th>\n",
       "      <th>id</th>\n",
       "      <th>petallengthcm</th>\n",
       "      <th>petalwidthcm</th>\n",
       "      <th>species</th>\n",
       "    </tr>\n",
       "  </thead>\n",
       "  <tbody>\n",
       "    <tr>\n",
       "      <th>0</th>\n",
       "      <td>1</td>\n",
       "      <td>1.4</td>\n",
       "      <td>0.2</td>\n",
       "      <td>Iris-setosa</td>\n",
       "    </tr>\n",
       "    <tr>\n",
       "      <th>1</th>\n",
       "      <td>2</td>\n",
       "      <td>1.4</td>\n",
       "      <td>0.2</td>\n",
       "      <td>Iris-setosa</td>\n",
       "    </tr>\n",
       "    <tr>\n",
       "      <th>2</th>\n",
       "      <td>3</td>\n",
       "      <td>1.3</td>\n",
       "      <td>0.2</td>\n",
       "      <td>Iris-setosa</td>\n",
       "    </tr>\n",
       "    <tr>\n",
       "      <th>3</th>\n",
       "      <td>4</td>\n",
       "      <td>1.5</td>\n",
       "      <td>0.2</td>\n",
       "      <td>Iris-setosa</td>\n",
       "    </tr>\n",
       "    <tr>\n",
       "      <th>4</th>\n",
       "      <td>5</td>\n",
       "      <td>1.4</td>\n",
       "      <td>0.2</td>\n",
       "      <td>Iris-setosa</td>\n",
       "    </tr>\n",
       "    <tr>\n",
       "      <th>...</th>\n",
       "      <td>...</td>\n",
       "      <td>...</td>\n",
       "      <td>...</td>\n",
       "      <td>...</td>\n",
       "    </tr>\n",
       "    <tr>\n",
       "      <th>145</th>\n",
       "      <td>146</td>\n",
       "      <td>5.2</td>\n",
       "      <td>2.3</td>\n",
       "      <td>Iris-virginica</td>\n",
       "    </tr>\n",
       "    <tr>\n",
       "      <th>146</th>\n",
       "      <td>147</td>\n",
       "      <td>5.0</td>\n",
       "      <td>1.9</td>\n",
       "      <td>Iris-virginica</td>\n",
       "    </tr>\n",
       "    <tr>\n",
       "      <th>147</th>\n",
       "      <td>148</td>\n",
       "      <td>5.2</td>\n",
       "      <td>2.0</td>\n",
       "      <td>Iris-virginica</td>\n",
       "    </tr>\n",
       "    <tr>\n",
       "      <th>148</th>\n",
       "      <td>149</td>\n",
       "      <td>5.4</td>\n",
       "      <td>2.3</td>\n",
       "      <td>Iris-virginica</td>\n",
       "    </tr>\n",
       "    <tr>\n",
       "      <th>149</th>\n",
       "      <td>150</td>\n",
       "      <td>5.1</td>\n",
       "      <td>1.8</td>\n",
       "      <td>Iris-virginica</td>\n",
       "    </tr>\n",
       "  </tbody>\n",
       "</table>\n",
       "<p>150 rows × 4 columns</p>\n",
       "</div>"
      ],
      "text/plain": [
       "      id  petallengthcm  petalwidthcm         species\n",
       "0      1            1.4           0.2     Iris-setosa\n",
       "1      2            1.4           0.2     Iris-setosa\n",
       "2      3            1.3           0.2     Iris-setosa\n",
       "3      4            1.5           0.2     Iris-setosa\n",
       "4      5            1.4           0.2     Iris-setosa\n",
       "..   ...            ...           ...             ...\n",
       "145  146            5.2           2.3  Iris-virginica\n",
       "146  147            5.0           1.9  Iris-virginica\n",
       "147  148            5.2           2.0  Iris-virginica\n",
       "148  149            5.4           2.3  Iris-virginica\n",
       "149  150            5.1           1.8  Iris-virginica\n",
       "\n",
       "[150 rows x 4 columns]"
      ]
     },
     "execution_count": 10,
     "metadata": {},
     "output_type": "execute_result"
    }
   ],
   "outputs_reference": "s3:deepnote-cell-outputs-production/41e5f411-2f1d-4632-868c-033a4ae550c5",
   "source": [
    "df_15 = _deepnote_execute_sql('SELECT * FROM tablename', 'SQL_E83C161A_C437_4E4C_8544_E318581C8846', audit_sql_comment='', sql_cache_mode='cache_disabled')\n",
    "df_15"
   ]
  },
  {
   "block_group": "70e74b75c9994904872e58370a0c98bb",
   "cell_type": "code",
   "execution_count": null,
   "metadata": {
    "cell_id": "a6c3161388bd4c0e863aa6e840b0f6ca",
    "deepnote_cell_type": "sql",
    "deepnote_sql_source": "SELECT * FROM preminknn",
    "deepnote_to_be_reexecuted": false,
    "deepnote_variable_name": "df_16",
    "execution_millis": 3925,
    "execution_start": 1710248037306,
    "source_hash": null,
    "sql_integration_id": "e83c161a-c437-4e4c-8544-e318581c8846"
   },
   "outputs": [
    {
     "data": {
      "application/vnd.deepnote.sql-output-metadata+json": {
       "size_in_bytes": 14278,
       "status": "success_no_cache"
      }
     },
     "metadata": {},
     "output_type": "display_data"
    },
    {
     "data": {
      "application/vnd.deepnote.dataframe.v3+json": {
       "column_count": 4,
       "columns": [
        {
         "dtype": "int64",
         "name": "id",
         "stats": {
          "histogram": [
           {
            "bin_end": 15.9,
            "bin_start": 1,
            "count": 15
           },
           {
            "bin_end": 30.8,
            "bin_start": 15.9,
            "count": 15
           },
           {
            "bin_end": 45.7,
            "bin_start": 30.8,
            "count": 15
           },
           {
            "bin_end": 60.6,
            "bin_start": 45.7,
            "count": 15
           },
           {
            "bin_end": 75.5,
            "bin_start": 60.6,
            "count": 15
           },
           {
            "bin_end": 90.4,
            "bin_start": 75.5,
            "count": 15
           },
           {
            "bin_end": 105.3,
            "bin_start": 90.4,
            "count": 15
           },
           {
            "bin_end": 120.2,
            "bin_start": 105.3,
            "count": 15
           },
           {
            "bin_end": 135.1,
            "bin_start": 120.2,
            "count": 15
           },
           {
            "bin_end": 150,
            "bin_start": 135.1,
            "count": 15
           }
          ],
          "max": "150",
          "min": "1",
          "nan_count": 0,
          "unique_count": 150
         }
        },
        {
         "dtype": "float64",
         "name": "petallengthcm",
         "stats": {
          "histogram": [
           {
            "bin_end": 1.59,
            "bin_start": 1,
            "count": 37
           },
           {
            "bin_end": 2.18,
            "bin_start": 1.59,
            "count": 13
           },
           {
            "bin_end": 2.7700000000000005,
            "bin_start": 2.18,
            "count": 0
           },
           {
            "bin_end": 3.3600000000000003,
            "bin_start": 2.7700000000000005,
            "count": 3
           },
           {
            "bin_end": 3.95,
            "bin_start": 3.3600000000000003,
            "count": 8
           },
           {
            "bin_end": 4.540000000000001,
            "bin_start": 3.95,
            "count": 26
           },
           {
            "bin_end": 5.130000000000001,
            "bin_start": 4.540000000000001,
            "count": 29
           },
           {
            "bin_end": 5.720000000000001,
            "bin_start": 5.130000000000001,
            "count": 18
           },
           {
            "bin_end": 6.3100000000000005,
            "bin_start": 5.720000000000001,
            "count": 11
           },
           {
            "bin_end": 6.9,
            "bin_start": 6.3100000000000005,
            "count": 5
           }
          ],
          "max": "6.9",
          "min": "1.0",
          "nan_count": 0,
          "unique_count": 43
         }
        },
        {
         "dtype": "float64",
         "name": "petalwidthcm",
         "stats": {
          "histogram": [
           {
            "bin_end": 0.33999999999999997,
            "bin_start": 0.1,
            "count": 41
           },
           {
            "bin_end": 0.58,
            "bin_start": 0.33999999999999997,
            "count": 8
           },
           {
            "bin_end": 0.82,
            "bin_start": 0.58,
            "count": 1
           },
           {
            "bin_end": 1.06,
            "bin_start": 0.82,
            "count": 7
           },
           {
            "bin_end": 1.3,
            "bin_start": 1.06,
            "count": 8
           },
           {
            "bin_end": 1.54,
            "bin_start": 1.3,
            "count": 33
           },
           {
            "bin_end": 1.78,
            "bin_start": 1.54,
            "count": 6
           },
           {
            "bin_end": 2.02,
            "bin_start": 1.78,
            "count": 23
           },
           {
            "bin_end": 2.2600000000000002,
            "bin_start": 2.02,
            "count": 9
           },
           {
            "bin_end": 2.5,
            "bin_start": 2.2600000000000002,
            "count": 14
           }
          ],
          "max": "2.5",
          "min": "0.1",
          "nan_count": 0,
          "unique_count": 22
         }
        },
        {
         "dtype": "object",
         "name": "species",
         "stats": {
          "categories": [
           {
            "count": 50,
            "name": "Iris-setosa"
           },
           {
            "count": 50,
            "name": "Iris-versicolor"
           },
           {
            "count": 50,
            "name": "Iris-virginica"
           }
          ],
          "nan_count": 0,
          "unique_count": 3
         }
        },
        {
         "dtype": "int64",
         "name": "_deepnote_index_column"
        }
       ],
       "row_count": 150,
       "rows": [
        {
         "_deepnote_index_column": 0,
         "id": 1,
         "petallengthcm": 1.4,
         "petalwidthcm": 0.2,
         "species": "Iris-setosa"
        },
        {
         "_deepnote_index_column": 1,
         "id": 2,
         "petallengthcm": 1.4,
         "petalwidthcm": 0.2,
         "species": "Iris-setosa"
        },
        {
         "_deepnote_index_column": 2,
         "id": 3,
         "petallengthcm": 1.3,
         "petalwidthcm": 0.2,
         "species": "Iris-setosa"
        },
        {
         "_deepnote_index_column": 3,
         "id": 4,
         "petallengthcm": 1.5,
         "petalwidthcm": 0.2,
         "species": "Iris-setosa"
        },
        {
         "_deepnote_index_column": 4,
         "id": 5,
         "petallengthcm": 1.4,
         "petalwidthcm": 0.2,
         "species": "Iris-setosa"
        },
        {
         "_deepnote_index_column": 5,
         "id": 6,
         "petallengthcm": 1.7,
         "petalwidthcm": 0.4,
         "species": "Iris-setosa"
        },
        {
         "_deepnote_index_column": 6,
         "id": 7,
         "petallengthcm": 1.4,
         "petalwidthcm": 0.3,
         "species": "Iris-setosa"
        },
        {
         "_deepnote_index_column": 7,
         "id": 8,
         "petallengthcm": 1.5,
         "petalwidthcm": 0.2,
         "species": "Iris-setosa"
        },
        {
         "_deepnote_index_column": 8,
         "id": 9,
         "petallengthcm": 1.4,
         "petalwidthcm": 0.2,
         "species": "Iris-setosa"
        },
        {
         "_deepnote_index_column": 9,
         "id": 10,
         "petallengthcm": 1.5,
         "petalwidthcm": 0.1,
         "species": "Iris-setosa"
        }
       ]
      },
      "text/html": [
       "<div>\n",
       "<style scoped>\n",
       "    .dataframe tbody tr th:only-of-type {\n",
       "        vertical-align: middle;\n",
       "    }\n",
       "\n",
       "    .dataframe tbody tr th {\n",
       "        vertical-align: top;\n",
       "    }\n",
       "\n",
       "    .dataframe thead th {\n",
       "        text-align: right;\n",
       "    }\n",
       "</style>\n",
       "<table border=\"1\" class=\"dataframe\">\n",
       "  <thead>\n",
       "    <tr style=\"text-align: right;\">\n",
       "      <th></th>\n",
       "      <th>id</th>\n",
       "      <th>petallengthcm</th>\n",
       "      <th>petalwidthcm</th>\n",
       "      <th>species</th>\n",
       "    </tr>\n",
       "  </thead>\n",
       "  <tbody>\n",
       "    <tr>\n",
       "      <th>0</th>\n",
       "      <td>1</td>\n",
       "      <td>1.4</td>\n",
       "      <td>0.2</td>\n",
       "      <td>Iris-setosa</td>\n",
       "    </tr>\n",
       "    <tr>\n",
       "      <th>1</th>\n",
       "      <td>2</td>\n",
       "      <td>1.4</td>\n",
       "      <td>0.2</td>\n",
       "      <td>Iris-setosa</td>\n",
       "    </tr>\n",
       "    <tr>\n",
       "      <th>2</th>\n",
       "      <td>3</td>\n",
       "      <td>1.3</td>\n",
       "      <td>0.2</td>\n",
       "      <td>Iris-setosa</td>\n",
       "    </tr>\n",
       "    <tr>\n",
       "      <th>3</th>\n",
       "      <td>4</td>\n",
       "      <td>1.5</td>\n",
       "      <td>0.2</td>\n",
       "      <td>Iris-setosa</td>\n",
       "    </tr>\n",
       "    <tr>\n",
       "      <th>4</th>\n",
       "      <td>5</td>\n",
       "      <td>1.4</td>\n",
       "      <td>0.2</td>\n",
       "      <td>Iris-setosa</td>\n",
       "    </tr>\n",
       "    <tr>\n",
       "      <th>...</th>\n",
       "      <td>...</td>\n",
       "      <td>...</td>\n",
       "      <td>...</td>\n",
       "      <td>...</td>\n",
       "    </tr>\n",
       "    <tr>\n",
       "      <th>145</th>\n",
       "      <td>146</td>\n",
       "      <td>5.2</td>\n",
       "      <td>2.3</td>\n",
       "      <td>Iris-virginica</td>\n",
       "    </tr>\n",
       "    <tr>\n",
       "      <th>146</th>\n",
       "      <td>147</td>\n",
       "      <td>5.0</td>\n",
       "      <td>1.9</td>\n",
       "      <td>Iris-virginica</td>\n",
       "    </tr>\n",
       "    <tr>\n",
       "      <th>147</th>\n",
       "      <td>148</td>\n",
       "      <td>5.2</td>\n",
       "      <td>2.0</td>\n",
       "      <td>Iris-virginica</td>\n",
       "    </tr>\n",
       "    <tr>\n",
       "      <th>148</th>\n",
       "      <td>149</td>\n",
       "      <td>5.4</td>\n",
       "      <td>2.3</td>\n",
       "      <td>Iris-virginica</td>\n",
       "    </tr>\n",
       "    <tr>\n",
       "      <th>149</th>\n",
       "      <td>150</td>\n",
       "      <td>5.1</td>\n",
       "      <td>1.8</td>\n",
       "      <td>Iris-virginica</td>\n",
       "    </tr>\n",
       "  </tbody>\n",
       "</table>\n",
       "<p>150 rows × 4 columns</p>\n",
       "</div>"
      ],
      "text/plain": [
       "      id  petallengthcm  petalwidthcm         species\n",
       "0      1            1.4           0.2     Iris-setosa\n",
       "1      2            1.4           0.2     Iris-setosa\n",
       "2      3            1.3           0.2     Iris-setosa\n",
       "3      4            1.5           0.2     Iris-setosa\n",
       "4      5            1.4           0.2     Iris-setosa\n",
       "..   ...            ...           ...             ...\n",
       "145  146            5.2           2.3  Iris-virginica\n",
       "146  147            5.0           1.9  Iris-virginica\n",
       "147  148            5.2           2.0  Iris-virginica\n",
       "148  149            5.4           2.3  Iris-virginica\n",
       "149  150            5.1           1.8  Iris-virginica\n",
       "\n",
       "[150 rows x 4 columns]"
      ]
     },
     "execution_count": 11,
     "metadata": {},
     "output_type": "execute_result"
    }
   ],
   "outputs_reference": "s3:deepnote-cell-outputs-production/a9644073-4ea4-49f7-8722-e6a59d5c20ca",
   "source": [
    "df_16 = _deepnote_execute_sql('SELECT * FROM preminknn', 'SQL_E83C161A_C437_4E4C_8544_E318581C8846', audit_sql_comment='', sql_cache_mode='cache_disabled')\n",
    "df_16"
   ]
  },
  {
   "block_group": "13be27cf7dfb460785b66523d8c5e21f",
   "cell_type": "code",
   "execution_count": null,
   "metadata": {
    "cell_id": "896ecea2eb0448efa89097a155bb569b",
    "deepnote_cell_type": "sql",
    "deepnote_sql_source": "SELECT * FROM preminmean",
    "deepnote_to_be_reexecuted": false,
    "deepnote_variable_name": "df_17",
    "execution_millis": 4011,
    "execution_start": 1710248057270,
    "source_hash": null,
    "sql_integration_id": "e83c161a-c437-4e4c-8544-e318581c8846"
   },
   "outputs": [
    {
     "data": {
      "application/vnd.deepnote.sql-output-metadata+json": {
       "size_in_bytes": 14278,
       "status": "success_no_cache"
      }
     },
     "metadata": {},
     "output_type": "display_data"
    },
    {
     "data": {
      "application/vnd.deepnote.dataframe.v3+json": {
       "column_count": 4,
       "columns": [
        {
         "dtype": "int64",
         "name": "id",
         "stats": {
          "histogram": [
           {
            "bin_end": 15.9,
            "bin_start": 1,
            "count": 15
           },
           {
            "bin_end": 30.8,
            "bin_start": 15.9,
            "count": 15
           },
           {
            "bin_end": 45.7,
            "bin_start": 30.8,
            "count": 15
           },
           {
            "bin_end": 60.6,
            "bin_start": 45.7,
            "count": 15
           },
           {
            "bin_end": 75.5,
            "bin_start": 60.6,
            "count": 15
           },
           {
            "bin_end": 90.4,
            "bin_start": 75.5,
            "count": 15
           },
           {
            "bin_end": 105.3,
            "bin_start": 90.4,
            "count": 15
           },
           {
            "bin_end": 120.2,
            "bin_start": 105.3,
            "count": 15
           },
           {
            "bin_end": 135.1,
            "bin_start": 120.2,
            "count": 15
           },
           {
            "bin_end": 150,
            "bin_start": 135.1,
            "count": 15
           }
          ],
          "max": "150",
          "min": "1",
          "nan_count": 0,
          "unique_count": 150
         }
        },
        {
         "dtype": "float64",
         "name": "petallengthcm",
         "stats": {
          "histogram": [
           {
            "bin_end": 1.59,
            "bin_start": 1,
            "count": 37
           },
           {
            "bin_end": 2.18,
            "bin_start": 1.59,
            "count": 13
           },
           {
            "bin_end": 2.7700000000000005,
            "bin_start": 2.18,
            "count": 0
           },
           {
            "bin_end": 3.3600000000000003,
            "bin_start": 2.7700000000000005,
            "count": 3
           },
           {
            "bin_end": 3.95,
            "bin_start": 3.3600000000000003,
            "count": 8
           },
           {
            "bin_end": 4.540000000000001,
            "bin_start": 3.95,
            "count": 26
           },
           {
            "bin_end": 5.130000000000001,
            "bin_start": 4.540000000000001,
            "count": 29
           },
           {
            "bin_end": 5.720000000000001,
            "bin_start": 5.130000000000001,
            "count": 18
           },
           {
            "bin_end": 6.3100000000000005,
            "bin_start": 5.720000000000001,
            "count": 11
           },
           {
            "bin_end": 6.9,
            "bin_start": 6.3100000000000005,
            "count": 5
           }
          ],
          "max": "6.9",
          "min": "1.0",
          "nan_count": 0,
          "unique_count": 43
         }
        },
        {
         "dtype": "float64",
         "name": "petalwidthcm",
         "stats": {
          "histogram": [
           {
            "bin_end": 0.33999999999999997,
            "bin_start": 0.1,
            "count": 41
           },
           {
            "bin_end": 0.58,
            "bin_start": 0.33999999999999997,
            "count": 8
           },
           {
            "bin_end": 0.82,
            "bin_start": 0.58,
            "count": 1
           },
           {
            "bin_end": 1.06,
            "bin_start": 0.82,
            "count": 7
           },
           {
            "bin_end": 1.3,
            "bin_start": 1.06,
            "count": 8
           },
           {
            "bin_end": 1.54,
            "bin_start": 1.3,
            "count": 33
           },
           {
            "bin_end": 1.78,
            "bin_start": 1.54,
            "count": 6
           },
           {
            "bin_end": 2.02,
            "bin_start": 1.78,
            "count": 23
           },
           {
            "bin_end": 2.2600000000000002,
            "bin_start": 2.02,
            "count": 9
           },
           {
            "bin_end": 2.5,
            "bin_start": 2.2600000000000002,
            "count": 14
           }
          ],
          "max": "2.5",
          "min": "0.1",
          "nan_count": 0,
          "unique_count": 22
         }
        },
        {
         "dtype": "object",
         "name": "species",
         "stats": {
          "categories": [
           {
            "count": 50,
            "name": "Iris-setosa"
           },
           {
            "count": 50,
            "name": "Iris-versicolor"
           },
           {
            "count": 50,
            "name": "Iris-virginica"
           }
          ],
          "nan_count": 0,
          "unique_count": 3
         }
        },
        {
         "dtype": "int64",
         "name": "_deepnote_index_column"
        }
       ],
       "row_count": 150,
       "rows": [
        {
         "_deepnote_index_column": 0,
         "id": 1,
         "petallengthcm": 1.4,
         "petalwidthcm": 0.2,
         "species": "Iris-setosa"
        },
        {
         "_deepnote_index_column": 1,
         "id": 2,
         "petallengthcm": 1.4,
         "petalwidthcm": 0.2,
         "species": "Iris-setosa"
        },
        {
         "_deepnote_index_column": 2,
         "id": 3,
         "petallengthcm": 1.3,
         "petalwidthcm": 0.2,
         "species": "Iris-setosa"
        },
        {
         "_deepnote_index_column": 3,
         "id": 4,
         "petallengthcm": 1.5,
         "petalwidthcm": 0.2,
         "species": "Iris-setosa"
        },
        {
         "_deepnote_index_column": 4,
         "id": 5,
         "petallengthcm": 1.4,
         "petalwidthcm": 0.2,
         "species": "Iris-setosa"
        },
        {
         "_deepnote_index_column": 5,
         "id": 6,
         "petallengthcm": 1.7,
         "petalwidthcm": 0.4,
         "species": "Iris-setosa"
        },
        {
         "_deepnote_index_column": 6,
         "id": 7,
         "petallengthcm": 1.4,
         "petalwidthcm": 0.3,
         "species": "Iris-setosa"
        },
        {
         "_deepnote_index_column": 7,
         "id": 8,
         "petallengthcm": 1.5,
         "petalwidthcm": 0.2,
         "species": "Iris-setosa"
        },
        {
         "_deepnote_index_column": 8,
         "id": 9,
         "petallengthcm": 1.4,
         "petalwidthcm": 0.2,
         "species": "Iris-setosa"
        },
        {
         "_deepnote_index_column": 9,
         "id": 10,
         "petallengthcm": 1.5,
         "petalwidthcm": 0.1,
         "species": "Iris-setosa"
        }
       ]
      },
      "text/html": [
       "<div>\n",
       "<style scoped>\n",
       "    .dataframe tbody tr th:only-of-type {\n",
       "        vertical-align: middle;\n",
       "    }\n",
       "\n",
       "    .dataframe tbody tr th {\n",
       "        vertical-align: top;\n",
       "    }\n",
       "\n",
       "    .dataframe thead th {\n",
       "        text-align: right;\n",
       "    }\n",
       "</style>\n",
       "<table border=\"1\" class=\"dataframe\">\n",
       "  <thead>\n",
       "    <tr style=\"text-align: right;\">\n",
       "      <th></th>\n",
       "      <th>id</th>\n",
       "      <th>petallengthcm</th>\n",
       "      <th>petalwidthcm</th>\n",
       "      <th>species</th>\n",
       "    </tr>\n",
       "  </thead>\n",
       "  <tbody>\n",
       "    <tr>\n",
       "      <th>0</th>\n",
       "      <td>1</td>\n",
       "      <td>1.4</td>\n",
       "      <td>0.2</td>\n",
       "      <td>Iris-setosa</td>\n",
       "    </tr>\n",
       "    <tr>\n",
       "      <th>1</th>\n",
       "      <td>2</td>\n",
       "      <td>1.4</td>\n",
       "      <td>0.2</td>\n",
       "      <td>Iris-setosa</td>\n",
       "    </tr>\n",
       "    <tr>\n",
       "      <th>2</th>\n",
       "      <td>3</td>\n",
       "      <td>1.3</td>\n",
       "      <td>0.2</td>\n",
       "      <td>Iris-setosa</td>\n",
       "    </tr>\n",
       "    <tr>\n",
       "      <th>3</th>\n",
       "      <td>4</td>\n",
       "      <td>1.5</td>\n",
       "      <td>0.2</td>\n",
       "      <td>Iris-setosa</td>\n",
       "    </tr>\n",
       "    <tr>\n",
       "      <th>4</th>\n",
       "      <td>5</td>\n",
       "      <td>1.4</td>\n",
       "      <td>0.2</td>\n",
       "      <td>Iris-setosa</td>\n",
       "    </tr>\n",
       "    <tr>\n",
       "      <th>...</th>\n",
       "      <td>...</td>\n",
       "      <td>...</td>\n",
       "      <td>...</td>\n",
       "      <td>...</td>\n",
       "    </tr>\n",
       "    <tr>\n",
       "      <th>145</th>\n",
       "      <td>146</td>\n",
       "      <td>5.2</td>\n",
       "      <td>2.3</td>\n",
       "      <td>Iris-virginica</td>\n",
       "    </tr>\n",
       "    <tr>\n",
       "      <th>146</th>\n",
       "      <td>147</td>\n",
       "      <td>5.0</td>\n",
       "      <td>1.9</td>\n",
       "      <td>Iris-virginica</td>\n",
       "    </tr>\n",
       "    <tr>\n",
       "      <th>147</th>\n",
       "      <td>148</td>\n",
       "      <td>5.2</td>\n",
       "      <td>2.0</td>\n",
       "      <td>Iris-virginica</td>\n",
       "    </tr>\n",
       "    <tr>\n",
       "      <th>148</th>\n",
       "      <td>149</td>\n",
       "      <td>5.4</td>\n",
       "      <td>2.3</td>\n",
       "      <td>Iris-virginica</td>\n",
       "    </tr>\n",
       "    <tr>\n",
       "      <th>149</th>\n",
       "      <td>150</td>\n",
       "      <td>5.1</td>\n",
       "      <td>1.8</td>\n",
       "      <td>Iris-virginica</td>\n",
       "    </tr>\n",
       "  </tbody>\n",
       "</table>\n",
       "<p>150 rows × 4 columns</p>\n",
       "</div>"
      ],
      "text/plain": [
       "      id  petallengthcm  petalwidthcm         species\n",
       "0      1            1.4           0.2     Iris-setosa\n",
       "1      2            1.4           0.2     Iris-setosa\n",
       "2      3            1.3           0.2     Iris-setosa\n",
       "3      4            1.5           0.2     Iris-setosa\n",
       "4      5            1.4           0.2     Iris-setosa\n",
       "..   ...            ...           ...             ...\n",
       "145  146            5.2           2.3  Iris-virginica\n",
       "146  147            5.0           1.9  Iris-virginica\n",
       "147  148            5.2           2.0  Iris-virginica\n",
       "148  149            5.4           2.3  Iris-virginica\n",
       "149  150            5.1           1.8  Iris-virginica\n",
       "\n",
       "[150 rows x 4 columns]"
      ]
     },
     "execution_count": 12,
     "metadata": {},
     "output_type": "execute_result"
    }
   ],
   "outputs_reference": "s3:deepnote-cell-outputs-production/d48be5dc-d49e-42a2-9728-01b38c731f0a",
   "source": [
    "df_17 = _deepnote_execute_sql('SELECT * FROM preminmean', 'SQL_E83C161A_C437_4E4C_8544_E318581C8846', audit_sql_comment='', sql_cache_mode='cache_disabled')\n",
    "df_17"
   ]
  },
  {
   "block_group": "3ca538db4e8d4da098bd649fb2fe9b7d",
   "cell_type": "markdown",
   "metadata": {
    "cell_id": "340a0884baff4894bf656c7de9b677d2",
    "deepnote_cell_type": "text-cell-h2",
    "formattedRanges": []
   },
   "source": [
    "## Instalasi Connector SQL"
   ]
  },
  {
   "block_group": "3bd404aecbae432d9f129ba899f3a1af",
   "cell_type": "markdown",
   "metadata": {
    "cell_id": "13d2f53dff3b4b99995ddeaebb4b2397",
    "deepnote_cell_type": "text-cell-p",
    "formattedRanges": []
   },
   "source": [
    "Untuk memasukkan data tableName pada postgree dan sql ke dataframesql, kita perlu melakukan install connector sql dan postgree. Jika koneksi jaringan terputus, maka perlu di run lagi connectornya."
   ]
  },
  {
   "block_group": "c2c33a9ef29844179753d34fc11d6a5f",
   "cell_type": "code",
   "execution_count": null,
   "metadata": {
    "cell_id": "cd9871103a4d4ba587b87983c7c81124",
    "deepnote_cell_type": "code",
    "deepnote_to_be_reexecuted": false,
    "execution_millis": 8487,
    "execution_start": 1712157777744,
    "source_hash": null
   },
   "outputs": [
    {
     "name": "stdout",
     "output_type": "stream",
     "text": [
      "Collecting mysql-connector-python\n",
      "  Downloading mysql_connector_python-8.3.0-cp39-cp39-manylinux_2_17_x86_64.whl (21.5 MB)\n",
      "\u001b[2K     \u001b[90m━━━━━━━━━━━━━━━━━━━━━━━━━━━━━━━━━━━━━━━━\u001b[0m \u001b[32m21.5/21.5 MB\u001b[0m \u001b[31m44.4 MB/s\u001b[0m eta \u001b[36m0:00:00\u001b[0m\n",
      "\u001b[?25hInstalling collected packages: mysql-connector-python\n",
      "Successfully installed mysql-connector-python-8.3.0\n",
      "\n",
      "\u001b[1m[\u001b[0m\u001b[34;49mnotice\u001b[0m\u001b[1;39;49m]\u001b[0m\u001b[39;49m A new release of pip is available: \u001b[0m\u001b[31;49m23.0.1\u001b[0m\u001b[39;49m -> \u001b[0m\u001b[32;49m24.0\u001b[0m\n",
      "\u001b[1m[\u001b[0m\u001b[34;49mnotice\u001b[0m\u001b[1;39;49m]\u001b[0m\u001b[39;49m To update, run: \u001b[0m\u001b[32;49mpip install --upgrade pip\u001b[0m\n"
     ]
    }
   ],
   "outputs_reference": "dbtable:cell_outputs/d26acf8e-1205-4519-bb6a-e63fc303d29b",
   "source": [
    "!pip install mysql-connector-python"
   ]
  },
  {
   "block_group": "3cb5abb18c124f98b80ff35ea3915773",
   "cell_type": "markdown",
   "metadata": {
    "cell_id": "caa59d42e82246bf9cdf61881237e0a6",
    "deepnote_cell_type": "text-cell-h2",
    "formattedRanges": []
   },
   "source": [
    "## Instalasi Connector PostgreSQL"
   ]
  },
  {
   "block_group": "2dc360384592447cb51c23371b5aa3d2",
   "cell_type": "code",
   "execution_count": null,
   "metadata": {
    "cell_id": "b38c03f6a46c424a9f53206f4cb2c8bc",
    "deepnote_cell_type": "code",
    "deepnote_to_be_reexecuted": false,
    "execution_millis": 4343,
    "execution_start": 1710943404330,
    "source_hash": null
   },
   "outputs": [
    {
     "name": "stdout",
     "output_type": "stream",
     "text": [
      "Requirement already satisfied: psycopg2-binary in /shared-libs/python3.9/py/lib/python3.9/site-packages (2.9.4)\n",
      "\n",
      "\u001b[1m[\u001b[0m\u001b[34;49mnotice\u001b[0m\u001b[1;39;49m]\u001b[0m\u001b[39;49m A new release of pip is available: \u001b[0m\u001b[31;49m23.0.1\u001b[0m\u001b[39;49m -> \u001b[0m\u001b[32;49m24.0\u001b[0m\n",
      "\u001b[1m[\u001b[0m\u001b[34;49mnotice\u001b[0m\u001b[1;39;49m]\u001b[0m\u001b[39;49m To update, run: \u001b[0m\u001b[32;49mpip install --upgrade pip\u001b[0m\n"
     ]
    }
   ],
   "outputs_reference": "dbtable:cell_outputs/2b288c69-dc96-4f88-952f-0045d21fd624",
   "source": [
    "!pip install psycopg2-binary"
   ]
  },
  {
   "block_group": "e4d5bdd62d5a40cb8e446b3497990aab",
   "cell_type": "markdown",
   "metadata": {
    "cell_id": "9cf53060c5db44b78ce6b37b891b0d21",
    "deepnote_cell_type": "text-cell-h2",
    "formattedRanges": []
   },
   "source": [
    "## KONEKSI DATABASE KE DATAFRAME DEEPNOTE"
   ]
  },
  {
   "block_group": "159f046a2d3f42c18e1cf2b0d21d7a63",
   "cell_type": "markdown",
   "metadata": {
    "cell_id": "b28127b399cb48929967cfe5f9e6588d",
    "deepnote_cell_type": "text-cell-p",
    "formattedRanges": []
   },
   "source": [
    "Setelah itu kita akses server kita di aiven, sesuaikan dengan server postgree dan sqlnya."
   ]
  },
  {
   "block_group": "52f70675e3d24d368268b1191ec24010",
   "cell_type": "code",
   "execution_count": null,
   "metadata": {
    "cell_id": "2b54bb2df1434ff480367b9486544a96",
    "deepnote_cell_type": "code",
    "deepnote_to_be_reexecuted": false,
    "execution_millis": 5074,
    "execution_start": 1710248983509,
    "source_hash": null
   },
   "outputs": [
    {
     "name": "stderr",
     "output_type": "stream",
     "text": [
      "/tmp/ipykernel_40/1721441225.py:22: UserWarning: pandas only supports SQLAlchemy connectable (engine/connection) or database string URI or sqlite3 DBAPI2 connection. Other DBAPI2 objects are not tested. Please consider using SQLAlchemy.\n",
      "  data_sql = pd.read_sql(sql_query, sql_connection)\n",
      "/tmp/ipykernel_40/1721441225.py:25: UserWarning: pandas only supports SQLAlchemy connectable (engine/connection) or database string URI or sqlite3 DBAPI2 connection. Other DBAPI2 objects are not tested. Please consider using SQLAlchemy.\n",
      "  data_sql_mean = pd.read_sql(sql_query1, sql_connection)\n",
      "/tmp/ipykernel_40/1721441225.py:28: UserWarning: pandas only supports SQLAlchemy connectable (engine/connection) or database string URI or sqlite3 DBAPI2 connection. Other DBAPI2 objects are not tested. Please consider using SQLAlchemy.\n",
      "  data_sql_knn = pd.read_sql(sql_query2, sql_connection)\n",
      "/tmp/ipykernel_40/1721441225.py:31: UserWarning: pandas only supports SQLAlchemy connectable (engine/connection) or database string URI or sqlite3 DBAPI2 connection. Other DBAPI2 objects are not tested. Please consider using SQLAlchemy.\n",
      "  data_postgres = pd.read_sql(postgres_query, postgres_connection)\n",
      "/tmp/ipykernel_40/1721441225.py:34: UserWarning: pandas only supports SQLAlchemy connectable (engine/connection) or database string URI or sqlite3 DBAPI2 connection. Other DBAPI2 objects are not tested. Please consider using SQLAlchemy.\n",
      "  data_postgres_mean = pd.read_sql(postgres_query1, postgres_connection)\n",
      "/tmp/ipykernel_40/1721441225.py:37: UserWarning: pandas only supports SQLAlchemy connectable (engine/connection) or database string URI or sqlite3 DBAPI2 connection. Other DBAPI2 objects are not tested. Please consider using SQLAlchemy.\n",
      "  data_postgres_knn = pd.read_sql(postgres_query2, postgres_connection)\n"
     ]
    }
   ],
   "outputs_reference": "s3:deepnote-cell-outputs-production/c78efee7-3d72-4d8d-8843-2d631a9bb8f0",
   "source": [
    "import pandas as pd\n",
    "import mysql.connector\n",
    "import psycopg2\n",
    "\n",
    "sql_connection = mysql.connector.connect(\n",
    "    host=\"datamining2-widiya22063.a.aivencloud.com\",\n",
    "    user=\"avnadmin\",\n",
    "    password=\"AVNS_zh-wEX0C7VGAmX7jB3J\",\n",
    "    port = \"27022\",\n",
    "    database=\"db_datairish\"\n",
    ")\n",
    "\n",
    "postgres_connection = psycopg2.connect(\n",
    "    host=\"datamining-widiya22063.a.aivencloud.com\",\n",
    "    database=\"db_datapostgree\",\n",
    "    user=\"avnadmin\",\n",
    "    port=\"27022\",\n",
    "    password=\"AVNS_mLPV9Vh_YdFtx_Zk7Pr\"\n",
    ")\n",
    "\n",
    "sql_query = \"SELECT * FROM tableName\"\n",
    "data_sql = pd.read_sql(sql_query, sql_connection)\n",
    "\n",
    "sql_query1 = \"SELECT * FROM preminmean\"\n",
    "data_sql_mean = pd.read_sql(sql_query1, sql_connection)\n",
    "\n",
    "sql_query2 = \"SELECT * FROM preminknn\"\n",
    "data_sql_knn = pd.read_sql(sql_query2, sql_connection)\n",
    "\n",
    "postgres_query = \"SELECT * FROM tablename\"\n",
    "data_postgres = pd.read_sql(postgres_query, postgres_connection)\n",
    "\n",
    "postgres_query1 = \"SELECT * FROM preminmean\"\n",
    "data_postgres_mean = pd.read_sql(postgres_query1, postgres_connection)\n",
    "\n",
    "postgres_query2 = \"SELECT * FROM preminknn\"\n",
    "data_postgres_knn = pd.read_sql(postgres_query2, postgres_connection)"
   ]
  },
  {
   "block_group": "e21e7f8503164a859349c02f9699349c",
   "cell_type": "markdown",
   "metadata": {
    "cell_id": "f08dbe9505f148fb8aae6ab695e874e4",
    "deepnote_cell_type": "text-cell-h2",
    "formattedRanges": []
   },
   "source": [
    "## Pengaksesan Data Frame Pada Data Asli"
   ]
  },
  {
   "block_group": "a224ccb6c6ea4fd7a55ae3d2470206d5",
   "cell_type": "markdown",
   "metadata": {
    "cell_id": "8b8c1dd914ad48918b21af2201e21dd7",
    "deepnote_cell_type": "text-cell-p",
    "formattedRanges": []
   },
   "source": [
    "Langkah selanjutnya adalah melakukan akses data frame yang sudah dikonfigurasikan sebelumnya dengan menggunakan inner join pada data postgree id = data sql id"
   ]
  },
  {
   "block_group": "eef828bf342e46dc8ad206ac572ae21e",
   "cell_type": "code",
   "execution_count": null,
   "metadata": {
    "cell_id": "50276aa6dab24e6184933ec5fc34edad",
    "deepnote_cell_type": "sql",
    "deepnote_sql_source": "SELECT * FROM data_postgres INNER JOIN data_sql ON data_postgres.id = data_sql.id",
    "deepnote_to_be_reexecuted": false,
    "deepnote_variable_name": "df_18",
    "execution_millis": 1921,
    "execution_start": 1710249130437,
    "source_hash": null,
    "sql_integration_id": "deepnote-dataframe-sql"
   },
   "outputs": [
    {
     "data": {
      "application/vnd.deepnote.dataframe.v3+json": {
       "column_count": 8,
       "columns": [
        {
         "dtype": "int64",
         "name": "id",
         "stats": {
          "histogram": [
           {
            "bin_end": 15.9,
            "bin_start": 1,
            "count": 15
           },
           {
            "bin_end": 30.8,
            "bin_start": 15.9,
            "count": 15
           },
           {
            "bin_end": 45.7,
            "bin_start": 30.8,
            "count": 15
           },
           {
            "bin_end": 60.6,
            "bin_start": 45.7,
            "count": 15
           },
           {
            "bin_end": 75.5,
            "bin_start": 60.6,
            "count": 15
           },
           {
            "bin_end": 90.4,
            "bin_start": 75.5,
            "count": 15
           },
           {
            "bin_end": 105.3,
            "bin_start": 90.4,
            "count": 15
           },
           {
            "bin_end": 120.2,
            "bin_start": 105.3,
            "count": 15
           },
           {
            "bin_end": 135.1,
            "bin_start": 120.2,
            "count": 15
           },
           {
            "bin_end": 150,
            "bin_start": 135.1,
            "count": 15
           }
          ],
          "max": "150",
          "min": "1",
          "nan_count": 0,
          "unique_count": 150
         }
        },
        {
         "dtype": "float64",
         "name": "petallengthcm",
         "stats": {
          "histogram": [
           {
            "bin_end": 1.59,
            "bin_start": 1,
            "count": 37
           },
           {
            "bin_end": 2.18,
            "bin_start": 1.59,
            "count": 13
           },
           {
            "bin_end": 2.7700000000000005,
            "bin_start": 2.18,
            "count": 0
           },
           {
            "bin_end": 3.3600000000000003,
            "bin_start": 2.7700000000000005,
            "count": 3
           },
           {
            "bin_end": 3.95,
            "bin_start": 3.3600000000000003,
            "count": 8
           },
           {
            "bin_end": 4.540000000000001,
            "bin_start": 3.95,
            "count": 26
           },
           {
            "bin_end": 5.130000000000001,
            "bin_start": 4.540000000000001,
            "count": 29
           },
           {
            "bin_end": 5.720000000000001,
            "bin_start": 5.130000000000001,
            "count": 18
           },
           {
            "bin_end": 6.3100000000000005,
            "bin_start": 5.720000000000001,
            "count": 11
           },
           {
            "bin_end": 6.9,
            "bin_start": 6.3100000000000005,
            "count": 5
           }
          ],
          "max": "6.9",
          "min": "1.0",
          "nan_count": 0,
          "unique_count": 43
         }
        },
        {
         "dtype": "float64",
         "name": "petalwidthcm",
         "stats": {
          "histogram": [
           {
            "bin_end": 0.33999999999999997,
            "bin_start": 0.1,
            "count": 41
           },
           {
            "bin_end": 0.58,
            "bin_start": 0.33999999999999997,
            "count": 8
           },
           {
            "bin_end": 0.82,
            "bin_start": 0.58,
            "count": 1
           },
           {
            "bin_end": 1.06,
            "bin_start": 0.82,
            "count": 7
           },
           {
            "bin_end": 1.3,
            "bin_start": 1.06,
            "count": 8
           },
           {
            "bin_end": 1.54,
            "bin_start": 1.3,
            "count": 33
           },
           {
            "bin_end": 1.78,
            "bin_start": 1.54,
            "count": 6
           },
           {
            "bin_end": 2.02,
            "bin_start": 1.78,
            "count": 23
           },
           {
            "bin_end": 2.2600000000000002,
            "bin_start": 2.02,
            "count": 9
           },
           {
            "bin_end": 2.5,
            "bin_start": 2.2600000000000002,
            "count": 14
           }
          ],
          "max": "2.5",
          "min": "0.1",
          "nan_count": 0,
          "unique_count": 22
         }
        },
        {
         "dtype": "object",
         "name": "species",
         "stats": {
          "categories": [
           {
            "count": 50,
            "name": "Iris-setosa"
           },
           {
            "count": 50,
            "name": "Iris-versicolor"
           },
           {
            "count": 50,
            "name": "Iris-virginica"
           }
          ],
          "nan_count": 0,
          "unique_count": 3
         }
        },
        {
         "dtype": "int64",
         "name": "Id",
         "stats": {
          "histogram": [
           {
            "bin_end": 15.9,
            "bin_start": 1,
            "count": 15
           },
           {
            "bin_end": 30.8,
            "bin_start": 15.9,
            "count": 15
           },
           {
            "bin_end": 45.7,
            "bin_start": 30.8,
            "count": 15
           },
           {
            "bin_end": 60.6,
            "bin_start": 45.7,
            "count": 15
           },
           {
            "bin_end": 75.5,
            "bin_start": 60.6,
            "count": 15
           },
           {
            "bin_end": 90.4,
            "bin_start": 75.5,
            "count": 15
           },
           {
            "bin_end": 105.3,
            "bin_start": 90.4,
            "count": 15
           },
           {
            "bin_end": 120.2,
            "bin_start": 105.3,
            "count": 15
           },
           {
            "bin_end": 135.1,
            "bin_start": 120.2,
            "count": 15
           },
           {
            "bin_end": 150,
            "bin_start": 135.1,
            "count": 15
           }
          ],
          "max": "150",
          "min": "1",
          "nan_count": 0,
          "unique_count": 150
         }
        },
        {
         "dtype": "float64",
         "name": "SepalLengthCm",
         "stats": {
          "histogram": [
           {
            "bin_end": 4.66,
            "bin_start": 4.3,
            "count": 9
           },
           {
            "bin_end": 5.02,
            "bin_start": 4.66,
            "count": 23
           },
           {
            "bin_end": 5.38,
            "bin_start": 5.02,
            "count": 14
           },
           {
            "bin_end": 5.74,
            "bin_start": 5.38,
            "count": 27
           },
           {
            "bin_end": 6.1,
            "bin_start": 5.74,
            "count": 16
           },
           {
            "bin_end": 6.46,
            "bin_start": 6.1,
            "count": 26
           },
           {
            "bin_end": 6.82,
            "bin_start": 6.46,
            "count": 18
           },
           {
            "bin_end": 7.18,
            "bin_start": 6.82,
            "count": 6
           },
           {
            "bin_end": 7.54,
            "bin_start": 7.18,
            "count": 5
           },
           {
            "bin_end": 7.9,
            "bin_start": 7.54,
            "count": 6
           }
          ],
          "max": "7.9",
          "min": "4.3",
          "nan_count": 0,
          "unique_count": 35
         }
        },
        {
         "dtype": "float64",
         "name": "SepalWidthCm",
         "stats": {
          "histogram": [
           {
            "bin_end": 2.24,
            "bin_start": 2,
            "count": 4
           },
           {
            "bin_end": 2.48,
            "bin_start": 2.24,
            "count": 7
           },
           {
            "bin_end": 2.72,
            "bin_start": 2.48,
            "count": 22
           },
           {
            "bin_end": 2.96,
            "bin_start": 2.72,
            "count": 24
           },
           {
            "bin_end": 3.2,
            "bin_start": 2.96,
            "count": 38
           },
           {
            "bin_end": 3.4400000000000004,
            "bin_start": 3.2,
            "count": 31
           },
           {
            "bin_end": 3.6800000000000006,
            "bin_start": 3.4400000000000004,
            "count": 9
           },
           {
            "bin_end": 3.9200000000000004,
            "bin_start": 3.6800000000000006,
            "count": 11
           },
           {
            "bin_end": 4.16,
            "bin_start": 3.9200000000000004,
            "count": 2
           },
           {
            "bin_end": 4.4,
            "bin_start": 4.16,
            "count": 2
           }
          ],
          "max": "4.4",
          "min": "2.0",
          "nan_count": 0,
          "unique_count": 23
         }
        },
        {
         "dtype": "object",
         "name": "Species",
         "stats": {
          "categories": [
           {
            "count": 50,
            "name": "Iris-setosa"
           },
           {
            "count": 50,
            "name": "Iris-versicolor"
           },
           {
            "count": 50,
            "name": "Iris-virginica"
           }
          ],
          "nan_count": 0,
          "unique_count": 3
         }
        },
        {
         "dtype": "int64",
         "name": "_deepnote_index_column"
        }
       ],
       "row_count": 150,
       "rows": [
        {
         "Id": 1,
         "SepalLengthCm": 5.1,
         "SepalWidthCm": 3.5,
         "Species": "Iris-setosa",
         "_deepnote_index_column": 0,
         "id": 1,
         "petallengthcm": 1.4,
         "petalwidthcm": 0.2,
         "species": "Iris-setosa"
        },
        {
         "Id": 2,
         "SepalLengthCm": 4.9,
         "SepalWidthCm": 3,
         "Species": "Iris-setosa",
         "_deepnote_index_column": 1,
         "id": 2,
         "petallengthcm": 1.4,
         "petalwidthcm": 0.2,
         "species": "Iris-setosa"
        },
        {
         "Id": 3,
         "SepalLengthCm": 4.7,
         "SepalWidthCm": 3.2,
         "Species": "Iris-setosa",
         "_deepnote_index_column": 2,
         "id": 3,
         "petallengthcm": 1.3,
         "petalwidthcm": 0.2,
         "species": "Iris-setosa"
        },
        {
         "Id": 4,
         "SepalLengthCm": 4.6,
         "SepalWidthCm": 3.1,
         "Species": "Iris-setosa",
         "_deepnote_index_column": 3,
         "id": 4,
         "petallengthcm": 1.5,
         "petalwidthcm": 0.2,
         "species": "Iris-setosa"
        },
        {
         "Id": 5,
         "SepalLengthCm": 5,
         "SepalWidthCm": 3.6,
         "Species": "Iris-setosa",
         "_deepnote_index_column": 4,
         "id": 5,
         "petallengthcm": 1.4,
         "petalwidthcm": 0.2,
         "species": "Iris-setosa"
        },
        {
         "Id": 6,
         "SepalLengthCm": 5.4,
         "SepalWidthCm": 3.9,
         "Species": "Iris-setosa",
         "_deepnote_index_column": 5,
         "id": 6,
         "petallengthcm": 1.7,
         "petalwidthcm": 0.4,
         "species": "Iris-setosa"
        },
        {
         "Id": 7,
         "SepalLengthCm": 4.6,
         "SepalWidthCm": 3.4,
         "Species": "Iris-setosa",
         "_deepnote_index_column": 6,
         "id": 7,
         "petallengthcm": 1.4,
         "petalwidthcm": 0.3,
         "species": "Iris-setosa"
        },
        {
         "Id": 8,
         "SepalLengthCm": 5,
         "SepalWidthCm": 3.4,
         "Species": "Iris-setosa",
         "_deepnote_index_column": 7,
         "id": 8,
         "petallengthcm": 1.5,
         "petalwidthcm": 0.2,
         "species": "Iris-setosa"
        },
        {
         "Id": 9,
         "SepalLengthCm": 4.4,
         "SepalWidthCm": 2.9,
         "Species": "Iris-setosa",
         "_deepnote_index_column": 8,
         "id": 9,
         "petallengthcm": 1.4,
         "petalwidthcm": 0.2,
         "species": "Iris-setosa"
        },
        {
         "Id": 10,
         "SepalLengthCm": 4.9,
         "SepalWidthCm": 3.1,
         "Species": "Iris-setosa",
         "_deepnote_index_column": 9,
         "id": 10,
         "petallengthcm": 1.5,
         "petalwidthcm": 0.1,
         "species": "Iris-setosa"
        }
       ]
      },
      "text/html": [
       "<div>\n",
       "<style scoped>\n",
       "    .dataframe tbody tr th:only-of-type {\n",
       "        vertical-align: middle;\n",
       "    }\n",
       "\n",
       "    .dataframe tbody tr th {\n",
       "        vertical-align: top;\n",
       "    }\n",
       "\n",
       "    .dataframe thead th {\n",
       "        text-align: right;\n",
       "    }\n",
       "</style>\n",
       "<table border=\"1\" class=\"dataframe\">\n",
       "  <thead>\n",
       "    <tr style=\"text-align: right;\">\n",
       "      <th></th>\n",
       "      <th>id</th>\n",
       "      <th>petallengthcm</th>\n",
       "      <th>petalwidthcm</th>\n",
       "      <th>species</th>\n",
       "      <th>Id</th>\n",
       "      <th>SepalLengthCm</th>\n",
       "      <th>SepalWidthCm</th>\n",
       "      <th>Species</th>\n",
       "    </tr>\n",
       "  </thead>\n",
       "  <tbody>\n",
       "    <tr>\n",
       "      <th>0</th>\n",
       "      <td>1</td>\n",
       "      <td>1.4</td>\n",
       "      <td>0.2</td>\n",
       "      <td>Iris-setosa</td>\n",
       "      <td>1</td>\n",
       "      <td>5.1</td>\n",
       "      <td>3.5</td>\n",
       "      <td>Iris-setosa</td>\n",
       "    </tr>\n",
       "    <tr>\n",
       "      <th>1</th>\n",
       "      <td>2</td>\n",
       "      <td>1.4</td>\n",
       "      <td>0.2</td>\n",
       "      <td>Iris-setosa</td>\n",
       "      <td>2</td>\n",
       "      <td>4.9</td>\n",
       "      <td>3.0</td>\n",
       "      <td>Iris-setosa</td>\n",
       "    </tr>\n",
       "    <tr>\n",
       "      <th>2</th>\n",
       "      <td>3</td>\n",
       "      <td>1.3</td>\n",
       "      <td>0.2</td>\n",
       "      <td>Iris-setosa</td>\n",
       "      <td>3</td>\n",
       "      <td>4.7</td>\n",
       "      <td>3.2</td>\n",
       "      <td>Iris-setosa</td>\n",
       "    </tr>\n",
       "    <tr>\n",
       "      <th>3</th>\n",
       "      <td>4</td>\n",
       "      <td>1.5</td>\n",
       "      <td>0.2</td>\n",
       "      <td>Iris-setosa</td>\n",
       "      <td>4</td>\n",
       "      <td>4.6</td>\n",
       "      <td>3.1</td>\n",
       "      <td>Iris-setosa</td>\n",
       "    </tr>\n",
       "    <tr>\n",
       "      <th>4</th>\n",
       "      <td>5</td>\n",
       "      <td>1.4</td>\n",
       "      <td>0.2</td>\n",
       "      <td>Iris-setosa</td>\n",
       "      <td>5</td>\n",
       "      <td>5.0</td>\n",
       "      <td>3.6</td>\n",
       "      <td>Iris-setosa</td>\n",
       "    </tr>\n",
       "    <tr>\n",
       "      <th>...</th>\n",
       "      <td>...</td>\n",
       "      <td>...</td>\n",
       "      <td>...</td>\n",
       "      <td>...</td>\n",
       "      <td>...</td>\n",
       "      <td>...</td>\n",
       "      <td>...</td>\n",
       "      <td>...</td>\n",
       "    </tr>\n",
       "    <tr>\n",
       "      <th>145</th>\n",
       "      <td>104</td>\n",
       "      <td>5.6</td>\n",
       "      <td>1.8</td>\n",
       "      <td>Iris-virginica</td>\n",
       "      <td>104</td>\n",
       "      <td>6.3</td>\n",
       "      <td>2.9</td>\n",
       "      <td>Iris-virginica</td>\n",
       "    </tr>\n",
       "    <tr>\n",
       "      <th>146</th>\n",
       "      <td>115</td>\n",
       "      <td>5.1</td>\n",
       "      <td>2.4</td>\n",
       "      <td>Iris-virginica</td>\n",
       "      <td>115</td>\n",
       "      <td>5.8</td>\n",
       "      <td>2.8</td>\n",
       "      <td>Iris-virginica</td>\n",
       "    </tr>\n",
       "    <tr>\n",
       "      <th>147</th>\n",
       "      <td>142</td>\n",
       "      <td>5.1</td>\n",
       "      <td>2.3</td>\n",
       "      <td>Iris-virginica</td>\n",
       "      <td>142</td>\n",
       "      <td>6.9</td>\n",
       "      <td>3.1</td>\n",
       "      <td>Iris-virginica</td>\n",
       "    </tr>\n",
       "    <tr>\n",
       "      <th>148</th>\n",
       "      <td>143</td>\n",
       "      <td>5.1</td>\n",
       "      <td>1.9</td>\n",
       "      <td>Iris-virginica</td>\n",
       "      <td>143</td>\n",
       "      <td>5.8</td>\n",
       "      <td>2.7</td>\n",
       "      <td>Iris-virginica</td>\n",
       "    </tr>\n",
       "    <tr>\n",
       "      <th>149</th>\n",
       "      <td>74</td>\n",
       "      <td>4.7</td>\n",
       "      <td>1.2</td>\n",
       "      <td>Iris-versicolor</td>\n",
       "      <td>74</td>\n",
       "      <td>6.1</td>\n",
       "      <td>2.8</td>\n",
       "      <td>Iris-versicolor</td>\n",
       "    </tr>\n",
       "  </tbody>\n",
       "</table>\n",
       "<p>150 rows × 8 columns</p>\n",
       "</div>"
      ],
      "text/plain": [
       "      id  petallengthcm  petalwidthcm          species   Id  SepalLengthCm  \\\n",
       "0      1            1.4           0.2      Iris-setosa    1            5.1   \n",
       "1      2            1.4           0.2      Iris-setosa    2            4.9   \n",
       "2      3            1.3           0.2      Iris-setosa    3            4.7   \n",
       "3      4            1.5           0.2      Iris-setosa    4            4.6   \n",
       "4      5            1.4           0.2      Iris-setosa    5            5.0   \n",
       "..   ...            ...           ...              ...  ...            ...   \n",
       "145  104            5.6           1.8   Iris-virginica  104            6.3   \n",
       "146  115            5.1           2.4   Iris-virginica  115            5.8   \n",
       "147  142            5.1           2.3   Iris-virginica  142            6.9   \n",
       "148  143            5.1           1.9   Iris-virginica  143            5.8   \n",
       "149   74            4.7           1.2  Iris-versicolor   74            6.1   \n",
       "\n",
       "     SepalWidthCm          Species  \n",
       "0             3.5      Iris-setosa  \n",
       "1             3.0      Iris-setosa  \n",
       "2             3.2      Iris-setosa  \n",
       "3             3.1      Iris-setosa  \n",
       "4             3.6      Iris-setosa  \n",
       "..            ...              ...  \n",
       "145           2.9   Iris-virginica  \n",
       "146           2.8   Iris-virginica  \n",
       "147           3.1   Iris-virginica  \n",
       "148           2.7   Iris-virginica  \n",
       "149           2.8  Iris-versicolor  \n",
       "\n",
       "[150 rows x 8 columns]"
      ]
     },
     "execution_count": 16,
     "metadata": {},
     "output_type": "execute_result"
    }
   ],
   "outputs_reference": "s3:deepnote-cell-outputs-production/5592c2b7-ca39-4ee2-885a-23bb5347663b",
   "source": [
    "df_18 = _deepnote_execute_sql('SELECT * FROM data_postgres INNER JOIN data_sql ON data_postgres.id = data_sql.id', 'SQL_DEEPNOTE_DATAFRAME_SQL', audit_sql_comment='', sql_cache_mode='cache_disabled')\n",
    "df_18"
   ]
  },
  {
   "block_group": "d9bec16c37e84165a3c2153b3d362b10",
   "cell_type": "markdown",
   "metadata": {
    "cell_id": "956e0adfc64d482189e97256a7f540f9",
    "deepnote_cell_type": "text-cell-h2",
    "formattedRanges": []
   },
   "source": [
    "## Identifikasi Missing Value"
   ]
  },
  {
   "block_group": "e07599918ddb4466a2c7edae44a989b5",
   "cell_type": "markdown",
   "metadata": {
    "cell_id": "a9132045b0ab4a1f9912834ef017d53b",
    "deepnote_cell_type": "text-cell-p",
    "formattedRanges": []
   },
   "source": [
    "Kita skenariokan disini, bahwa pada data irish tersebut terdapat data yang hilang ( missing value)"
   ]
  },
  {
   "block_group": "60906f27b1124ed0a124f741b5ab93b7",
   "cell_type": "code",
   "execution_count": null,
   "metadata": {
    "cell_id": "fad36e6aa82a4b7895c9bdbf13a4a9bd",
    "deepnote_cell_type": "sql",
    "deepnote_sql_source": "UPDATE preminmean set SepalLengthCm = NULL WHERE id = 3",
    "deepnote_to_be_reexecuted": false,
    "deepnote_variable_name": "df_19",
    "execution_millis": 3365,
    "execution_start": 1710249295357,
    "source_hash": null,
    "sql_integration_id": "0588f7a5-1b73-498d-a102-830b1faeb649"
   },
   "outputs": [],
   "outputs_reference": null,
   "source": [
    "df_19 = _deepnote_execute_sql('UPDATE preminmean set SepalLengthCm = NULL WHERE id = 3', 'SQL_0588F7A5_1B73_498D_A102_830B1FAEB649', audit_sql_comment='', sql_cache_mode='cache_disabled')\n",
    "df_19"
   ]
  },
  {
   "block_group": "c280ad2b3f80472d8d57f5c790311b63",
   "cell_type": "code",
   "execution_count": null,
   "metadata": {
    "cell_id": "731c3b5319fe4af087839a044a6a4d1c",
    "deepnote_cell_type": "sql",
    "deepnote_sql_source": "UPDATE preminmean set SepalLengthCm = NULL WHERE id = 4",
    "deepnote_to_be_reexecuted": false,
    "deepnote_variable_name": "df_20",
    "execution_millis": 3260,
    "execution_start": 1710253812426,
    "source_hash": null,
    "sql_integration_id": "0588f7a5-1b73-498d-a102-830b1faeb649"
   },
   "outputs": [],
   "outputs_reference": null,
   "source": [
    "df_20 = _deepnote_execute_sql('UPDATE preminmean set SepalLengthCm = NULL WHERE id = 4', 'SQL_0588F7A5_1B73_498D_A102_830B1FAEB649', audit_sql_comment='', sql_cache_mode='cache_disabled')\n",
    "df_20"
   ]
  },
  {
   "block_group": "177560978da34427b05c87aaacfbaa40",
   "cell_type": "code",
   "execution_count": null,
   "metadata": {
    "cell_id": "ea5381618cab4283857a5ce71d4690fc",
    "deepnote_cell_type": "sql",
    "deepnote_sql_source": "UPDATE preminmean set SepalLengthCm = NULL WHERE id = 6",
    "deepnote_to_be_reexecuted": false,
    "deepnote_variable_name": "df_21",
    "execution_millis": 3191,
    "execution_start": 1710253866853,
    "source_hash": null,
    "sql_integration_id": "0588f7a5-1b73-498d-a102-830b1faeb649"
   },
   "outputs": [],
   "outputs_reference": null,
   "source": [
    "df_21 = _deepnote_execute_sql('UPDATE preminmean set SepalLengthCm = NULL WHERE id = 6', 'SQL_0588F7A5_1B73_498D_A102_830B1FAEB649', audit_sql_comment='', sql_cache_mode='cache_disabled')\n",
    "df_21"
   ]
  },
  {
   "block_group": "b394ab2581084d889d19c2e3baf98a97",
   "cell_type": "code",
   "execution_count": null,
   "metadata": {
    "cell_id": "25c44046fc9a4cebb736b36e1db83593",
    "deepnote_cell_type": "sql",
    "deepnote_sql_source": "UPDATE preminmean set SepalLengthCm = NULL WHERE id = 8",
    "deepnote_to_be_reexecuted": false,
    "deepnote_variable_name": "df_22",
    "execution_millis": 3175,
    "execution_start": 1710253929706,
    "source_hash": null,
    "sql_integration_id": "0588f7a5-1b73-498d-a102-830b1faeb649"
   },
   "outputs": [],
   "outputs_reference": null,
   "source": [
    "df_22 = _deepnote_execute_sql('UPDATE preminmean set SepalLengthCm = NULL WHERE id = 8', 'SQL_0588F7A5_1B73_498D_A102_830B1FAEB649', audit_sql_comment='', sql_cache_mode='cache_disabled')\n",
    "df_22"
   ]
  },
  {
   "block_group": "9699a040813643e985a5866d225043d3",
   "cell_type": "markdown",
   "metadata": {
    "cell_id": "a64cd1ac03e54ccd8ef1dd5c078f8204",
    "deepnote_cell_type": "text-cell-p",
    "formattedRanges": []
   },
   "source": [
    "Kita lakukan juga update pada dataframe"
   ]
  },
  {
   "block_group": "7d123e42a91b4cd78cee5817361fb65d",
   "cell_type": "code",
   "execution_count": null,
   "metadata": {
    "cell_id": "b0ace53579014d55a92a5d41f7b34a1b",
    "deepnote_cell_type": "code",
    "deepnote_to_be_reexecuted": false,
    "execution_millis": 3627,
    "execution_start": 1710254877669,
    "source_hash": null
   },
   "outputs": [
    {
     "name": "stderr",
     "output_type": "stream",
     "text": [
      "/tmp/ipykernel_37/2084947656.py:24: UserWarning: pandas only supports SQLAlchemy connectable (engine/connection) or database string URI or sqlite3 DBAPI2 connection. Other DBAPI2 objects are not tested. Please consider using SQLAlchemy.\n",
      "  data_sql_mean = pd.read_sql(sql_query1, sql_connection)\n",
      "/tmp/ipykernel_37/2084947656.py:27: UserWarning: pandas only supports SQLAlchemy connectable (engine/connection) or database string URI or sqlite3 DBAPI2 connection. Other DBAPI2 objects are not tested. Please consider using SQLAlchemy.\n",
      "  data_postgres_mean = pd.read_sql(postgres_query1, postgres_connection)\n"
     ]
    }
   ],
   "outputs_reference": "dbtable:cell_outputs/43646465-b2d4-48e8-a2c6-3e9c6e370bb6",
   "source": [
    "import pandas as pd\n",
    "import mysql.connector\n",
    "import psycopg2\n",
    "\n",
    "sql_connection = mysql.connector.connect(\n",
    "    host=\"datamining2-widiya22063.a.aivencloud.com\",\n",
    "    user=\"avnadmin\",\n",
    "    password=\"AVNS_zh-wEX0C7VGAmX7jB3J\",\n",
    "    port = \"27022\",\n",
    "    database=\"db_datairish\"\n",
    ")\n",
    "\n",
    "postgres_connection = psycopg2.connect(\n",
    "    host=\"datamining-widiya22063.a.aivencloud.com\",\n",
    "    database=\"db_datapostgree\",\n",
    "    user=\"avnadmin\",\n",
    "    port=\"27022\",\n",
    "    password=\"AVNS_mLPV9Vh_YdFtx_Zk7Pr\"\n",
    ")\n",
    "\n",
    "\n",
    "\n",
    "sql_query1 = \"SELECT * FROM preminmean\"\n",
    "data_sql_mean = pd.read_sql(sql_query1, sql_connection)\n",
    "\n",
    "postgres_query1 = \"SELECT * FROM preminmean\"\n",
    "data_postgres_mean = pd.read_sql(postgres_query1, postgres_connection)\n",
    "\n"
   ]
  },
  {
   "block_group": "4e9369c7dc684adda05ff39efd51774d",
   "cell_type": "markdown",
   "metadata": {
    "cell_id": "75763db4aac54a269850f0683010953e",
    "deepnote_cell_type": "text-cell-h2",
    "formattedRanges": []
   },
   "source": [
    "## Pengaksesan Data Frame Pada Data Asli"
   ]
  },
  {
   "block_group": "0855977311ca42a59b6621d7339e9e16",
   "cell_type": "markdown",
   "metadata": {
    "cell_id": "9d0cae78c4d44f33987f00be6ca4dfa1",
    "deepnote_cell_type": "text-cell-p",
    "formattedRanges": []
   },
   "source": [
    "Selanjutnya, kita lakukan akses data frame yang sudah kita konfigurasi sebelumnya dengan melakukan inner join pada data postgre id = data sql id"
   ]
  },
  {
   "block_group": "9ebf5bd5b14e47b8835d230623b1fd27",
   "cell_type": "code",
   "execution_count": null,
   "metadata": {
    "cell_id": "b3a6b1db24c14f19994dfe235b1c7380",
    "deepnote_cell_type": "sql",
    "deepnote_sql_source": "SELECT * FROM data_postgres_mean INNER JOIN data_sql_mean ON data_postgres_mean.id = data_sql_mean.id",
    "deepnote_to_be_reexecuted": false,
    "deepnote_variable_name": "df_23",
    "execution_millis": 453,
    "execution_start": 1710255160426,
    "source_hash": null,
    "sql_integration_id": "deepnote-dataframe-sql"
   },
   "outputs": [
    {
     "data": {
      "application/vnd.deepnote.dataframe.v3+json": {
       "column_count": 8,
       "columns": [
        {
         "dtype": "int64",
         "name": "id",
         "stats": {
          "histogram": [
           {
            "bin_end": 15.9,
            "bin_start": 1,
            "count": 15
           },
           {
            "bin_end": 30.8,
            "bin_start": 15.9,
            "count": 15
           },
           {
            "bin_end": 45.7,
            "bin_start": 30.8,
            "count": 15
           },
           {
            "bin_end": 60.6,
            "bin_start": 45.7,
            "count": 15
           },
           {
            "bin_end": 75.5,
            "bin_start": 60.6,
            "count": 15
           },
           {
            "bin_end": 90.4,
            "bin_start": 75.5,
            "count": 15
           },
           {
            "bin_end": 105.3,
            "bin_start": 90.4,
            "count": 15
           },
           {
            "bin_end": 120.2,
            "bin_start": 105.3,
            "count": 15
           },
           {
            "bin_end": 135.1,
            "bin_start": 120.2,
            "count": 15
           },
           {
            "bin_end": 150,
            "bin_start": 135.1,
            "count": 15
           }
          ],
          "max": "150",
          "min": "1",
          "nan_count": 0,
          "unique_count": 150
         }
        },
        {
         "dtype": "float64",
         "name": "petallengthcm",
         "stats": {
          "histogram": [
           {
            "bin_end": 1.59,
            "bin_start": 1,
            "count": 37
           },
           {
            "bin_end": 2.18,
            "bin_start": 1.59,
            "count": 13
           },
           {
            "bin_end": 2.7700000000000005,
            "bin_start": 2.18,
            "count": 0
           },
           {
            "bin_end": 3.3600000000000003,
            "bin_start": 2.7700000000000005,
            "count": 3
           },
           {
            "bin_end": 3.95,
            "bin_start": 3.3600000000000003,
            "count": 8
           },
           {
            "bin_end": 4.540000000000001,
            "bin_start": 3.95,
            "count": 26
           },
           {
            "bin_end": 5.130000000000001,
            "bin_start": 4.540000000000001,
            "count": 29
           },
           {
            "bin_end": 5.720000000000001,
            "bin_start": 5.130000000000001,
            "count": 18
           },
           {
            "bin_end": 6.3100000000000005,
            "bin_start": 5.720000000000001,
            "count": 11
           },
           {
            "bin_end": 6.9,
            "bin_start": 6.3100000000000005,
            "count": 5
           }
          ],
          "max": "6.9",
          "min": "1.0",
          "nan_count": 0,
          "unique_count": 43
         }
        },
        {
         "dtype": "float64",
         "name": "petalwidthcm",
         "stats": {
          "histogram": [
           {
            "bin_end": 0.33999999999999997,
            "bin_start": 0.1,
            "count": 41
           },
           {
            "bin_end": 0.58,
            "bin_start": 0.33999999999999997,
            "count": 8
           },
           {
            "bin_end": 0.82,
            "bin_start": 0.58,
            "count": 1
           },
           {
            "bin_end": 1.06,
            "bin_start": 0.82,
            "count": 7
           },
           {
            "bin_end": 1.3,
            "bin_start": 1.06,
            "count": 8
           },
           {
            "bin_end": 1.54,
            "bin_start": 1.3,
            "count": 33
           },
           {
            "bin_end": 1.78,
            "bin_start": 1.54,
            "count": 6
           },
           {
            "bin_end": 2.02,
            "bin_start": 1.78,
            "count": 23
           },
           {
            "bin_end": 2.2600000000000002,
            "bin_start": 2.02,
            "count": 9
           },
           {
            "bin_end": 2.5,
            "bin_start": 2.2600000000000002,
            "count": 14
           }
          ],
          "max": "2.5",
          "min": "0.1",
          "nan_count": 0,
          "unique_count": 22
         }
        },
        {
         "dtype": "object",
         "name": "species",
         "stats": {
          "categories": [
           {
            "count": 50,
            "name": "Iris-setosa"
           },
           {
            "count": 50,
            "name": "Iris-versicolor"
           },
           {
            "count": 50,
            "name": "Iris-virginica"
           }
          ],
          "nan_count": 0,
          "unique_count": 3
         }
        },
        {
         "dtype": "int64",
         "name": "Id",
         "stats": {
          "histogram": [
           {
            "bin_end": 15.9,
            "bin_start": 1,
            "count": 15
           },
           {
            "bin_end": 30.8,
            "bin_start": 15.9,
            "count": 15
           },
           {
            "bin_end": 45.7,
            "bin_start": 30.8,
            "count": 15
           },
           {
            "bin_end": 60.6,
            "bin_start": 45.7,
            "count": 15
           },
           {
            "bin_end": 75.5,
            "bin_start": 60.6,
            "count": 15
           },
           {
            "bin_end": 90.4,
            "bin_start": 75.5,
            "count": 15
           },
           {
            "bin_end": 105.3,
            "bin_start": 90.4,
            "count": 15
           },
           {
            "bin_end": 120.2,
            "bin_start": 105.3,
            "count": 15
           },
           {
            "bin_end": 135.1,
            "bin_start": 120.2,
            "count": 15
           },
           {
            "bin_end": 150,
            "bin_start": 135.1,
            "count": 15
           }
          ],
          "max": "150",
          "min": "1",
          "nan_count": 0,
          "unique_count": 150
         }
        },
        {
         "dtype": "float64",
         "name": "SepalLengthCm",
         "stats": {
          "histogram": [
           {
            "bin_end": 4.66,
            "bin_start": 4.3,
            "count": 8
           },
           {
            "bin_end": 5.02,
            "bin_start": 4.66,
            "count": 21
           },
           {
            "bin_end": 5.38,
            "bin_start": 5.02,
            "count": 14
           },
           {
            "bin_end": 5.74,
            "bin_start": 5.38,
            "count": 26
           },
           {
            "bin_end": 6.1,
            "bin_start": 5.74,
            "count": 16
           },
           {
            "bin_end": 6.46,
            "bin_start": 6.1,
            "count": 26
           },
           {
            "bin_end": 6.82,
            "bin_start": 6.46,
            "count": 18
           },
           {
            "bin_end": 7.18,
            "bin_start": 6.82,
            "count": 6
           },
           {
            "bin_end": 7.54,
            "bin_start": 7.18,
            "count": 5
           },
           {
            "bin_end": 7.9,
            "bin_start": 7.54,
            "count": 6
           }
          ],
          "max": "7.9",
          "min": "4.3",
          "nan_count": 4,
          "unique_count": 35
         }
        },
        {
         "dtype": "float64",
         "name": "SepalWidthCm",
         "stats": {
          "histogram": [
           {
            "bin_end": 2.24,
            "bin_start": 2,
            "count": 4
           },
           {
            "bin_end": 2.48,
            "bin_start": 2.24,
            "count": 7
           },
           {
            "bin_end": 2.72,
            "bin_start": 2.48,
            "count": 22
           },
           {
            "bin_end": 2.96,
            "bin_start": 2.72,
            "count": 24
           },
           {
            "bin_end": 3.2,
            "bin_start": 2.96,
            "count": 38
           },
           {
            "bin_end": 3.4400000000000004,
            "bin_start": 3.2,
            "count": 31
           },
           {
            "bin_end": 3.6800000000000006,
            "bin_start": 3.4400000000000004,
            "count": 9
           },
           {
            "bin_end": 3.9200000000000004,
            "bin_start": 3.6800000000000006,
            "count": 11
           },
           {
            "bin_end": 4.16,
            "bin_start": 3.9200000000000004,
            "count": 2
           },
           {
            "bin_end": 4.4,
            "bin_start": 4.16,
            "count": 2
           }
          ],
          "max": "4.4",
          "min": "2.0",
          "nan_count": 0,
          "unique_count": 23
         }
        },
        {
         "dtype": "object",
         "name": "Species",
         "stats": {
          "categories": [
           {
            "count": 50,
            "name": "Iris-setosa"
           },
           {
            "count": 50,
            "name": "Iris-versicolor"
           },
           {
            "count": 50,
            "name": "Iris-virginica"
           }
          ],
          "nan_count": 0,
          "unique_count": 3
         }
        },
        {
         "dtype": "int64",
         "name": "_deepnote_index_column"
        }
       ],
       "row_count": 150,
       "rows": [
        {
         "Id": 1,
         "SepalLengthCm": 5.1,
         "SepalWidthCm": 3.5,
         "Species": "Iris-setosa",
         "_deepnote_index_column": 0,
         "id": 1,
         "petallengthcm": 1.4,
         "petalwidthcm": 0.2,
         "species": "Iris-setosa"
        },
        {
         "Id": 2,
         "SepalLengthCm": 4.9,
         "SepalWidthCm": 3,
         "Species": "Iris-setosa",
         "_deepnote_index_column": 1,
         "id": 2,
         "petallengthcm": 1.4,
         "petalwidthcm": 0.2,
         "species": "Iris-setosa"
        },
        {
         "Id": 3,
         "SepalLengthCm": "nan",
         "SepalWidthCm": 3.2,
         "Species": "Iris-setosa",
         "_deepnote_index_column": 2,
         "id": 3,
         "petallengthcm": 1.3,
         "petalwidthcm": 0.2,
         "species": "Iris-setosa"
        },
        {
         "Id": 4,
         "SepalLengthCm": "nan",
         "SepalWidthCm": 3.1,
         "Species": "Iris-setosa",
         "_deepnote_index_column": 3,
         "id": 4,
         "petallengthcm": 1.5,
         "petalwidthcm": 0.2,
         "species": "Iris-setosa"
        },
        {
         "Id": 5,
         "SepalLengthCm": 5,
         "SepalWidthCm": 3.6,
         "Species": "Iris-setosa",
         "_deepnote_index_column": 4,
         "id": 5,
         "petallengthcm": 1.4,
         "petalwidthcm": 0.2,
         "species": "Iris-setosa"
        },
        {
         "Id": 6,
         "SepalLengthCm": "nan",
         "SepalWidthCm": 3.9,
         "Species": "Iris-setosa",
         "_deepnote_index_column": 5,
         "id": 6,
         "petallengthcm": 1.7,
         "petalwidthcm": 0.4,
         "species": "Iris-setosa"
        },
        {
         "Id": 7,
         "SepalLengthCm": 4.6,
         "SepalWidthCm": 3.4,
         "Species": "Iris-setosa",
         "_deepnote_index_column": 6,
         "id": 7,
         "petallengthcm": 1.4,
         "petalwidthcm": 0.3,
         "species": "Iris-setosa"
        },
        {
         "Id": 8,
         "SepalLengthCm": "nan",
         "SepalWidthCm": 3.4,
         "Species": "Iris-setosa",
         "_deepnote_index_column": 7,
         "id": 8,
         "petallengthcm": 1.5,
         "petalwidthcm": 0.2,
         "species": "Iris-setosa"
        },
        {
         "Id": 9,
         "SepalLengthCm": 4.4,
         "SepalWidthCm": 2.9,
         "Species": "Iris-setosa",
         "_deepnote_index_column": 8,
         "id": 9,
         "petallengthcm": 1.4,
         "petalwidthcm": 0.2,
         "species": "Iris-setosa"
        },
        {
         "Id": 10,
         "SepalLengthCm": 4.9,
         "SepalWidthCm": 3.1,
         "Species": "Iris-setosa",
         "_deepnote_index_column": 9,
         "id": 10,
         "petallengthcm": 1.5,
         "petalwidthcm": 0.1,
         "species": "Iris-setosa"
        }
       ]
      },
      "text/html": [
       "<div>\n",
       "<style scoped>\n",
       "    .dataframe tbody tr th:only-of-type {\n",
       "        vertical-align: middle;\n",
       "    }\n",
       "\n",
       "    .dataframe tbody tr th {\n",
       "        vertical-align: top;\n",
       "    }\n",
       "\n",
       "    .dataframe thead th {\n",
       "        text-align: right;\n",
       "    }\n",
       "</style>\n",
       "<table border=\"1\" class=\"dataframe\">\n",
       "  <thead>\n",
       "    <tr style=\"text-align: right;\">\n",
       "      <th></th>\n",
       "      <th>id</th>\n",
       "      <th>petallengthcm</th>\n",
       "      <th>petalwidthcm</th>\n",
       "      <th>species</th>\n",
       "      <th>Id</th>\n",
       "      <th>SepalLengthCm</th>\n",
       "      <th>SepalWidthCm</th>\n",
       "      <th>Species</th>\n",
       "    </tr>\n",
       "  </thead>\n",
       "  <tbody>\n",
       "    <tr>\n",
       "      <th>0</th>\n",
       "      <td>1</td>\n",
       "      <td>1.4</td>\n",
       "      <td>0.2</td>\n",
       "      <td>Iris-setosa</td>\n",
       "      <td>1</td>\n",
       "      <td>5.1</td>\n",
       "      <td>3.5</td>\n",
       "      <td>Iris-setosa</td>\n",
       "    </tr>\n",
       "    <tr>\n",
       "      <th>1</th>\n",
       "      <td>2</td>\n",
       "      <td>1.4</td>\n",
       "      <td>0.2</td>\n",
       "      <td>Iris-setosa</td>\n",
       "      <td>2</td>\n",
       "      <td>4.9</td>\n",
       "      <td>3.0</td>\n",
       "      <td>Iris-setosa</td>\n",
       "    </tr>\n",
       "    <tr>\n",
       "      <th>2</th>\n",
       "      <td>3</td>\n",
       "      <td>1.3</td>\n",
       "      <td>0.2</td>\n",
       "      <td>Iris-setosa</td>\n",
       "      <td>3</td>\n",
       "      <td>NaN</td>\n",
       "      <td>3.2</td>\n",
       "      <td>Iris-setosa</td>\n",
       "    </tr>\n",
       "    <tr>\n",
       "      <th>3</th>\n",
       "      <td>4</td>\n",
       "      <td>1.5</td>\n",
       "      <td>0.2</td>\n",
       "      <td>Iris-setosa</td>\n",
       "      <td>4</td>\n",
       "      <td>NaN</td>\n",
       "      <td>3.1</td>\n",
       "      <td>Iris-setosa</td>\n",
       "    </tr>\n",
       "    <tr>\n",
       "      <th>4</th>\n",
       "      <td>5</td>\n",
       "      <td>1.4</td>\n",
       "      <td>0.2</td>\n",
       "      <td>Iris-setosa</td>\n",
       "      <td>5</td>\n",
       "      <td>5.0</td>\n",
       "      <td>3.6</td>\n",
       "      <td>Iris-setosa</td>\n",
       "    </tr>\n",
       "    <tr>\n",
       "      <th>...</th>\n",
       "      <td>...</td>\n",
       "      <td>...</td>\n",
       "      <td>...</td>\n",
       "      <td>...</td>\n",
       "      <td>...</td>\n",
       "      <td>...</td>\n",
       "      <td>...</td>\n",
       "      <td>...</td>\n",
       "    </tr>\n",
       "    <tr>\n",
       "      <th>145</th>\n",
       "      <td>104</td>\n",
       "      <td>5.6</td>\n",
       "      <td>1.8</td>\n",
       "      <td>Iris-virginica</td>\n",
       "      <td>104</td>\n",
       "      <td>6.3</td>\n",
       "      <td>2.9</td>\n",
       "      <td>Iris-virginica</td>\n",
       "    </tr>\n",
       "    <tr>\n",
       "      <th>146</th>\n",
       "      <td>115</td>\n",
       "      <td>5.1</td>\n",
       "      <td>2.4</td>\n",
       "      <td>Iris-virginica</td>\n",
       "      <td>115</td>\n",
       "      <td>5.8</td>\n",
       "      <td>2.8</td>\n",
       "      <td>Iris-virginica</td>\n",
       "    </tr>\n",
       "    <tr>\n",
       "      <th>147</th>\n",
       "      <td>142</td>\n",
       "      <td>5.1</td>\n",
       "      <td>2.3</td>\n",
       "      <td>Iris-virginica</td>\n",
       "      <td>142</td>\n",
       "      <td>6.9</td>\n",
       "      <td>3.1</td>\n",
       "      <td>Iris-virginica</td>\n",
       "    </tr>\n",
       "    <tr>\n",
       "      <th>148</th>\n",
       "      <td>143</td>\n",
       "      <td>5.1</td>\n",
       "      <td>1.9</td>\n",
       "      <td>Iris-virginica</td>\n",
       "      <td>143</td>\n",
       "      <td>5.8</td>\n",
       "      <td>2.7</td>\n",
       "      <td>Iris-virginica</td>\n",
       "    </tr>\n",
       "    <tr>\n",
       "      <th>149</th>\n",
       "      <td>74</td>\n",
       "      <td>4.7</td>\n",
       "      <td>1.2</td>\n",
       "      <td>Iris-versicolor</td>\n",
       "      <td>74</td>\n",
       "      <td>6.1</td>\n",
       "      <td>2.8</td>\n",
       "      <td>Iris-versicolor</td>\n",
       "    </tr>\n",
       "  </tbody>\n",
       "</table>\n",
       "<p>150 rows × 8 columns</p>\n",
       "</div>"
      ],
      "text/plain": [
       "      id  petallengthcm  petalwidthcm          species   Id  SepalLengthCm  \\\n",
       "0      1            1.4           0.2      Iris-setosa    1            5.1   \n",
       "1      2            1.4           0.2      Iris-setosa    2            4.9   \n",
       "2      3            1.3           0.2      Iris-setosa    3            NaN   \n",
       "3      4            1.5           0.2      Iris-setosa    4            NaN   \n",
       "4      5            1.4           0.2      Iris-setosa    5            5.0   \n",
       "..   ...            ...           ...              ...  ...            ...   \n",
       "145  104            5.6           1.8   Iris-virginica  104            6.3   \n",
       "146  115            5.1           2.4   Iris-virginica  115            5.8   \n",
       "147  142            5.1           2.3   Iris-virginica  142            6.9   \n",
       "148  143            5.1           1.9   Iris-virginica  143            5.8   \n",
       "149   74            4.7           1.2  Iris-versicolor   74            6.1   \n",
       "\n",
       "     SepalWidthCm          Species  \n",
       "0             3.5      Iris-setosa  \n",
       "1             3.0      Iris-setosa  \n",
       "2             3.2      Iris-setosa  \n",
       "3             3.1      Iris-setosa  \n",
       "4             3.6      Iris-setosa  \n",
       "..            ...              ...  \n",
       "145           2.9   Iris-virginica  \n",
       "146           2.8   Iris-virginica  \n",
       "147           3.1   Iris-virginica  \n",
       "148           2.7   Iris-virginica  \n",
       "149           2.8  Iris-versicolor  \n",
       "\n",
       "[150 rows x 8 columns]"
      ]
     },
     "execution_count": 12,
     "metadata": {},
     "output_type": "execute_result"
    }
   ],
   "outputs_reference": "s3:deepnote-cell-outputs-production/bdf1269e-4e1c-4912-96f4-188e9d3e3c35",
   "source": [
    "df_23 = _deepnote_execute_sql('SELECT * FROM data_postgres_mean INNER JOIN data_sql_mean ON data_postgres_mean.id = data_sql_mean.id', 'SQL_DEEPNOTE_DATAFRAME_SQL', audit_sql_comment='', sql_cache_mode='cache_disabled')\n",
    "df_23"
   ]
  },
  {
   "block_group": "d573d3dffda04e229c8eb5263bf9a961",
   "cell_type": "markdown",
   "metadata": {
    "cell_id": "80293318305f424283ea6d29cd701cf0",
    "deepnote_cell_type": "text-cell-p",
    "formattedRanges": []
   },
   "source": [
    "Pada data diatas, dapat kita lihat adanya missing value pada data yang dimiliki. Untuk memecahkan missing value, ada 2 metode yang akan kita gunakan. Metode mean dan metode knn."
   ]
  },
  {
   "block_group": "aeea8003f1d749d1aee00b5a6fba73d5",
   "cell_type": "markdown",
   "metadata": {
    "cell_id": "b9d86302b3aa4ad49a53838123bde1b2",
    "deepnote_cell_type": "text-cell-h2",
    "formattedRanges": []
   },
   "source": [
    "## Metode Mean"
   ]
  },
  {
   "block_group": "52cbdfaa08554be28b54c69a99a39018",
   "cell_type": "markdown",
   "metadata": {
    "cell_id": "acfee7c469b840aaa42f663718c67f6e",
    "deepnote_cell_type": "text-cell-p",
    "formattedRanges": []
   },
   "source": [
    "Hal pertama yang harus dilakukan adalah, melihat atau mencari dimana saja data yang hilang. Setelah ditelusuri maka data yang hilang berada pada species iris-setosa. Maka kita akan mencari rata-rata dari data yang hilang dari species tersebut. Missing value terletak pada sepallength. Setelah rata-rata ditemukan kita lakukan updating data. "
   ]
  },
  {
   "block_group": "4f8e8556686a4c4ba99d66c680d300f6",
   "cell_type": "code",
   "execution_count": null,
   "metadata": {
    "cell_id": "5042a9c330754275b025b726a3ddc84d",
    "deepnote_cell_type": "sql",
    "deepnote_sql_source": "SELECT avg(SepalLengthCm) from preminmean where SepalLengthCm",
    "deepnote_to_be_reexecuted": false,
    "deepnote_variable_name": "df_24",
    "execution_millis": 3246,
    "execution_start": 1710255392189,
    "source_hash": null,
    "sql_integration_id": "0588f7a5-1b73-498d-a102-830b1faeb649"
   },
   "outputs": [
    {
     "data": {
      "application/vnd.deepnote.sql-output-metadata+json": {
       "size_in_bytes": 136,
       "status": "success_no_cache"
      }
     },
     "metadata": {},
     "output_type": "display_data"
    },
    {
     "data": {
      "application/vnd.deepnote.dataframe.v3+json": {
       "column_count": 1,
       "columns": [
        {
         "dtype": "float64",
         "name": "avg(SepalLengthCm)",
         "stats": {
          "histogram": [
           {
            "bin_end": 5.468493145459319,
            "bin_start": 5.368493145459319,
            "count": 0
           },
           {
            "bin_end": 5.568493145459319,
            "bin_start": 5.468493145459319,
            "count": 0
           },
           {
            "bin_end": 5.668493145459319,
            "bin_start": 5.568493145459319,
            "count": 0
           },
           {
            "bin_end": 5.76849314545932,
            "bin_start": 5.668493145459319,
            "count": 0
           },
           {
            "bin_end": 5.868493145459319,
            "bin_start": 5.76849314545932,
            "count": 0
           },
           {
            "bin_end": 5.96849314545932,
            "bin_start": 5.868493145459319,
            "count": 1
           },
           {
            "bin_end": 6.068493145459319,
            "bin_start": 5.96849314545932,
            "count": 0
           },
           {
            "bin_end": 6.168493145459319,
            "bin_start": 6.068493145459319,
            "count": 0
           },
           {
            "bin_end": 6.26849314545932,
            "bin_start": 6.168493145459319,
            "count": 0
           },
           {
            "bin_end": 6.368493145459319,
            "bin_start": 6.26849314545932,
            "count": 0
           }
          ],
          "max": "5.868493145459319",
          "min": "5.868493145459319",
          "nan_count": 0,
          "unique_count": 1
         }
        },
        {
         "dtype": "int64",
         "name": "_deepnote_index_column"
        }
       ],
       "row_count": 1,
       "rows": [
        {
         "_deepnote_index_column": 0,
         "avg(SepalLengthCm)": 5.868493145459319
        }
       ]
      },
      "text/html": [
       "<div>\n",
       "<style scoped>\n",
       "    .dataframe tbody tr th:only-of-type {\n",
       "        vertical-align: middle;\n",
       "    }\n",
       "\n",
       "    .dataframe tbody tr th {\n",
       "        vertical-align: top;\n",
       "    }\n",
       "\n",
       "    .dataframe thead th {\n",
       "        text-align: right;\n",
       "    }\n",
       "</style>\n",
       "<table border=\"1\" class=\"dataframe\">\n",
       "  <thead>\n",
       "    <tr style=\"text-align: right;\">\n",
       "      <th></th>\n",
       "      <th>avg(SepalLengthCm)</th>\n",
       "    </tr>\n",
       "  </thead>\n",
       "  <tbody>\n",
       "    <tr>\n",
       "      <th>0</th>\n",
       "      <td>5.868493</td>\n",
       "    </tr>\n",
       "  </tbody>\n",
       "</table>\n",
       "</div>"
      ],
      "text/plain": [
       "   avg(SepalLengthCm)\n",
       "0            5.868493"
      ]
     },
     "execution_count": 13,
     "metadata": {},
     "output_type": "execute_result"
    }
   ],
   "outputs_reference": "s3:deepnote-cell-outputs-production/85e4a3d5-2de7-4f45-9763-b12bfe4fac80",
   "source": [
    "df_24 = _deepnote_execute_sql('SELECT avg(SepalLengthCm) from preminmean where SepalLengthCm', 'SQL_0588F7A5_1B73_498D_A102_830B1FAEB649', audit_sql_comment='', sql_cache_mode='cache_disabled')\n",
    "df_24"
   ]
  },
  {
   "block_group": "5ea431ff9ffb4f12bf0e115e40f561b8",
   "cell_type": "markdown",
   "metadata": {
    "cell_id": "bad31bd0d97848fa92a9906de0a9ef22",
    "deepnote_cell_type": "text-cell-h3",
    "formattedRanges": []
   },
   "source": [
    "### Imputasi Missing Value"
   ]
  },
  {
   "block_group": "aea324f2e21144acbfe3c185fa5facca",
   "cell_type": "code",
   "execution_count": null,
   "metadata": {
    "cell_id": "a638b3d6f4e147fd88415f631a3b2e04",
    "deepnote_cell_type": "sql",
    "deepnote_sql_source": "UPDATE preminmean set SepalLengthCm = 5.8 WHERE SepalLengthCm is NULL",
    "deepnote_to_be_reexecuted": false,
    "deepnote_variable_name": "df_25",
    "execution_millis": 3343,
    "execution_start": 1710255608995,
    "source_hash": null,
    "sql_integration_id": "0588f7a5-1b73-498d-a102-830b1faeb649"
   },
   "outputs": [],
   "outputs_reference": null,
   "source": [
    "df_25 = _deepnote_execute_sql('UPDATE preminmean set SepalLengthCm = 5.8 WHERE SepalLengthCm is NULL', 'SQL_0588F7A5_1B73_498D_A102_830B1FAEB649', audit_sql_comment='', sql_cache_mode='cache_disabled')\n",
    "df_25"
   ]
  },
  {
   "block_group": "c87ef8a6d1c947d9bc4102cc75d46719",
   "cell_type": "code",
   "execution_count": null,
   "metadata": {
    "cell_id": "18dcb1459540460897e509ce367e330a",
    "deepnote_cell_type": "code",
    "deepnote_to_be_reexecuted": false,
    "execution_millis": 3545,
    "execution_start": 1710255647628,
    "source_hash": null
   },
   "outputs": [
    {
     "name": "stderr",
     "output_type": "stream",
     "text": [
      "/tmp/ipykernel_37/2084947656.py:24: UserWarning: pandas only supports SQLAlchemy connectable (engine/connection) or database string URI or sqlite3 DBAPI2 connection. Other DBAPI2 objects are not tested. Please consider using SQLAlchemy.\n",
      "  data_sql_mean = pd.read_sql(sql_query1, sql_connection)\n",
      "/tmp/ipykernel_37/2084947656.py:27: UserWarning: pandas only supports SQLAlchemy connectable (engine/connection) or database string URI or sqlite3 DBAPI2 connection. Other DBAPI2 objects are not tested. Please consider using SQLAlchemy.\n",
      "  data_postgres_mean = pd.read_sql(postgres_query1, postgres_connection)\n"
     ]
    }
   ],
   "outputs_reference": "dbtable:cell_outputs/90789ea3-c6f0-4960-8975-a235360f2c54",
   "source": [
    "import pandas as pd\n",
    "import mysql.connector\n",
    "import psycopg2\n",
    "\n",
    "sql_connection = mysql.connector.connect(\n",
    "    host=\"datamining2-widiya22063.a.aivencloud.com\",\n",
    "    user=\"avnadmin\",\n",
    "    password=\"AVNS_zh-wEX0C7VGAmX7jB3J\",\n",
    "    port = \"27022\",\n",
    "    database=\"db_datairish\"\n",
    ")\n",
    "\n",
    "postgres_connection = psycopg2.connect(\n",
    "    host=\"datamining-widiya22063.a.aivencloud.com\",\n",
    "    database=\"db_datapostgree\",\n",
    "    user=\"avnadmin\",\n",
    "    port=\"27022\",\n",
    "    password=\"AVNS_mLPV9Vh_YdFtx_Zk7Pr\"\n",
    ")\n",
    "\n",
    "\n",
    "\n",
    "sql_query1 = \"SELECT * FROM preminmean\"\n",
    "data_sql_mean = pd.read_sql(sql_query1, sql_connection)\n",
    "\n",
    "postgres_query1 = \"SELECT * FROM preminmean\"\n",
    "data_postgres_mean = pd.read_sql(postgres_query1, postgres_connection)\n",
    "\n"
   ]
  },
  {
   "block_group": "a3a001d8764340e6ad504dd6131dece0",
   "cell_type": "markdown",
   "metadata": {
    "cell_id": "8403e74d1259461084214ae29e089543",
    "deepnote_cell_type": "text-cell-p",
    "formattedRanges": []
   },
   "source": [
    "Selanjutnya tampilkan data frame, untuk memastikan apakah missing value sudah terisi."
   ]
  },
  {
   "block_group": "e8110e7794c745a1962431b05628e865",
   "cell_type": "code",
   "execution_count": null,
   "metadata": {
    "cell_id": "eebe1da6ddd0462389c7a097f6aae6aa",
    "deepnote_cell_type": "sql",
    "deepnote_sql_source": "SELECT * FROM data_postgres_mean INNER JOIN data_sql_mean ON data_postgres_mean.id = data_sql_mean.id",
    "deepnote_to_be_reexecuted": false,
    "deepnote_variable_name": "df_26",
    "execution_millis": 73,
    "execution_start": 1710255753002,
    "source_hash": null,
    "sql_integration_id": "deepnote-dataframe-sql"
   },
   "outputs": [
    {
     "data": {
      "application/vnd.deepnote.dataframe.v3+json": {
       "column_count": 8,
       "columns": [
        {
         "dtype": "int64",
         "name": "id",
         "stats": {
          "histogram": [
           {
            "bin_end": 15.9,
            "bin_start": 1,
            "count": 15
           },
           {
            "bin_end": 30.8,
            "bin_start": 15.9,
            "count": 15
           },
           {
            "bin_end": 45.7,
            "bin_start": 30.8,
            "count": 15
           },
           {
            "bin_end": 60.6,
            "bin_start": 45.7,
            "count": 15
           },
           {
            "bin_end": 75.5,
            "bin_start": 60.6,
            "count": 15
           },
           {
            "bin_end": 90.4,
            "bin_start": 75.5,
            "count": 15
           },
           {
            "bin_end": 105.3,
            "bin_start": 90.4,
            "count": 15
           },
           {
            "bin_end": 120.2,
            "bin_start": 105.3,
            "count": 15
           },
           {
            "bin_end": 135.1,
            "bin_start": 120.2,
            "count": 15
           },
           {
            "bin_end": 150,
            "bin_start": 135.1,
            "count": 15
           }
          ],
          "max": "150",
          "min": "1",
          "nan_count": 0,
          "unique_count": 150
         }
        },
        {
         "dtype": "float64",
         "name": "petallengthcm",
         "stats": {
          "histogram": [
           {
            "bin_end": 1.59,
            "bin_start": 1,
            "count": 37
           },
           {
            "bin_end": 2.18,
            "bin_start": 1.59,
            "count": 13
           },
           {
            "bin_end": 2.7700000000000005,
            "bin_start": 2.18,
            "count": 0
           },
           {
            "bin_end": 3.3600000000000003,
            "bin_start": 2.7700000000000005,
            "count": 3
           },
           {
            "bin_end": 3.95,
            "bin_start": 3.3600000000000003,
            "count": 8
           },
           {
            "bin_end": 4.540000000000001,
            "bin_start": 3.95,
            "count": 26
           },
           {
            "bin_end": 5.130000000000001,
            "bin_start": 4.540000000000001,
            "count": 29
           },
           {
            "bin_end": 5.720000000000001,
            "bin_start": 5.130000000000001,
            "count": 18
           },
           {
            "bin_end": 6.3100000000000005,
            "bin_start": 5.720000000000001,
            "count": 11
           },
           {
            "bin_end": 6.9,
            "bin_start": 6.3100000000000005,
            "count": 5
           }
          ],
          "max": "6.9",
          "min": "1.0",
          "nan_count": 0,
          "unique_count": 43
         }
        },
        {
         "dtype": "float64",
         "name": "petalwidthcm",
         "stats": {
          "histogram": [
           {
            "bin_end": 0.33999999999999997,
            "bin_start": 0.1,
            "count": 41
           },
           {
            "bin_end": 0.58,
            "bin_start": 0.33999999999999997,
            "count": 8
           },
           {
            "bin_end": 0.82,
            "bin_start": 0.58,
            "count": 1
           },
           {
            "bin_end": 1.06,
            "bin_start": 0.82,
            "count": 7
           },
           {
            "bin_end": 1.3,
            "bin_start": 1.06,
            "count": 8
           },
           {
            "bin_end": 1.54,
            "bin_start": 1.3,
            "count": 33
           },
           {
            "bin_end": 1.78,
            "bin_start": 1.54,
            "count": 6
           },
           {
            "bin_end": 2.02,
            "bin_start": 1.78,
            "count": 23
           },
           {
            "bin_end": 2.2600000000000002,
            "bin_start": 2.02,
            "count": 9
           },
           {
            "bin_end": 2.5,
            "bin_start": 2.2600000000000002,
            "count": 14
           }
          ],
          "max": "2.5",
          "min": "0.1",
          "nan_count": 0,
          "unique_count": 22
         }
        },
        {
         "dtype": "object",
         "name": "species",
         "stats": {
          "categories": [
           {
            "count": 50,
            "name": "Iris-setosa"
           },
           {
            "count": 50,
            "name": "Iris-versicolor"
           },
           {
            "count": 50,
            "name": "Iris-virginica"
           }
          ],
          "nan_count": 0,
          "unique_count": 3
         }
        },
        {
         "dtype": "int64",
         "name": "Id",
         "stats": {
          "histogram": [
           {
            "bin_end": 15.9,
            "bin_start": 1,
            "count": 15
           },
           {
            "bin_end": 30.8,
            "bin_start": 15.9,
            "count": 15
           },
           {
            "bin_end": 45.7,
            "bin_start": 30.8,
            "count": 15
           },
           {
            "bin_end": 60.6,
            "bin_start": 45.7,
            "count": 15
           },
           {
            "bin_end": 75.5,
            "bin_start": 60.6,
            "count": 15
           },
           {
            "bin_end": 90.4,
            "bin_start": 75.5,
            "count": 15
           },
           {
            "bin_end": 105.3,
            "bin_start": 90.4,
            "count": 15
           },
           {
            "bin_end": 120.2,
            "bin_start": 105.3,
            "count": 15
           },
           {
            "bin_end": 135.1,
            "bin_start": 120.2,
            "count": 15
           },
           {
            "bin_end": 150,
            "bin_start": 135.1,
            "count": 15
           }
          ],
          "max": "150",
          "min": "1",
          "nan_count": 0,
          "unique_count": 150
         }
        },
        {
         "dtype": "float64",
         "name": "SepalLengthCm",
         "stats": {
          "histogram": [
           {
            "bin_end": 4.66,
            "bin_start": 4.3,
            "count": 8
           },
           {
            "bin_end": 5.02,
            "bin_start": 4.66,
            "count": 21
           },
           {
            "bin_end": 5.38,
            "bin_start": 5.02,
            "count": 14
           },
           {
            "bin_end": 5.74,
            "bin_start": 5.38,
            "count": 26
           },
           {
            "bin_end": 6.1,
            "bin_start": 5.74,
            "count": 20
           },
           {
            "bin_end": 6.46,
            "bin_start": 6.1,
            "count": 26
           },
           {
            "bin_end": 6.82,
            "bin_start": 6.46,
            "count": 18
           },
           {
            "bin_end": 7.18,
            "bin_start": 6.82,
            "count": 6
           },
           {
            "bin_end": 7.54,
            "bin_start": 7.18,
            "count": 5
           },
           {
            "bin_end": 7.9,
            "bin_start": 7.54,
            "count": 6
           }
          ],
          "max": "7.9",
          "min": "4.3",
          "nan_count": 0,
          "unique_count": 35
         }
        },
        {
         "dtype": "float64",
         "name": "SepalWidthCm",
         "stats": {
          "histogram": [
           {
            "bin_end": 2.24,
            "bin_start": 2,
            "count": 4
           },
           {
            "bin_end": 2.48,
            "bin_start": 2.24,
            "count": 7
           },
           {
            "bin_end": 2.72,
            "bin_start": 2.48,
            "count": 22
           },
           {
            "bin_end": 2.96,
            "bin_start": 2.72,
            "count": 24
           },
           {
            "bin_end": 3.2,
            "bin_start": 2.96,
            "count": 38
           },
           {
            "bin_end": 3.4400000000000004,
            "bin_start": 3.2,
            "count": 31
           },
           {
            "bin_end": 3.6800000000000006,
            "bin_start": 3.4400000000000004,
            "count": 9
           },
           {
            "bin_end": 3.9200000000000004,
            "bin_start": 3.6800000000000006,
            "count": 11
           },
           {
            "bin_end": 4.16,
            "bin_start": 3.9200000000000004,
            "count": 2
           },
           {
            "bin_end": 4.4,
            "bin_start": 4.16,
            "count": 2
           }
          ],
          "max": "4.4",
          "min": "2.0",
          "nan_count": 0,
          "unique_count": 23
         }
        },
        {
         "dtype": "object",
         "name": "Species",
         "stats": {
          "categories": [
           {
            "count": 50,
            "name": "Iris-setosa"
           },
           {
            "count": 50,
            "name": "Iris-versicolor"
           },
           {
            "count": 50,
            "name": "Iris-virginica"
           }
          ],
          "nan_count": 0,
          "unique_count": 3
         }
        },
        {
         "dtype": "int64",
         "name": "_deepnote_index_column"
        }
       ],
       "row_count": 150,
       "rows": [
        {
         "Id": 1,
         "SepalLengthCm": 5.1,
         "SepalWidthCm": 3.5,
         "Species": "Iris-setosa",
         "_deepnote_index_column": 0,
         "id": 1,
         "petallengthcm": 1.4,
         "petalwidthcm": 0.2,
         "species": "Iris-setosa"
        },
        {
         "Id": 2,
         "SepalLengthCm": 4.9,
         "SepalWidthCm": 3,
         "Species": "Iris-setosa",
         "_deepnote_index_column": 1,
         "id": 2,
         "petallengthcm": 1.4,
         "petalwidthcm": 0.2,
         "species": "Iris-setosa"
        },
        {
         "Id": 3,
         "SepalLengthCm": 5.8,
         "SepalWidthCm": 3.2,
         "Species": "Iris-setosa",
         "_deepnote_index_column": 2,
         "id": 3,
         "petallengthcm": 1.3,
         "petalwidthcm": 0.2,
         "species": "Iris-setosa"
        },
        {
         "Id": 4,
         "SepalLengthCm": 5.8,
         "SepalWidthCm": 3.1,
         "Species": "Iris-setosa",
         "_deepnote_index_column": 3,
         "id": 4,
         "petallengthcm": 1.5,
         "petalwidthcm": 0.2,
         "species": "Iris-setosa"
        },
        {
         "Id": 5,
         "SepalLengthCm": 5,
         "SepalWidthCm": 3.6,
         "Species": "Iris-setosa",
         "_deepnote_index_column": 4,
         "id": 5,
         "petallengthcm": 1.4,
         "petalwidthcm": 0.2,
         "species": "Iris-setosa"
        },
        {
         "Id": 6,
         "SepalLengthCm": 5.8,
         "SepalWidthCm": 3.9,
         "Species": "Iris-setosa",
         "_deepnote_index_column": 5,
         "id": 6,
         "petallengthcm": 1.7,
         "petalwidthcm": 0.4,
         "species": "Iris-setosa"
        },
        {
         "Id": 7,
         "SepalLengthCm": 4.6,
         "SepalWidthCm": 3.4,
         "Species": "Iris-setosa",
         "_deepnote_index_column": 6,
         "id": 7,
         "petallengthcm": 1.4,
         "petalwidthcm": 0.3,
         "species": "Iris-setosa"
        },
        {
         "Id": 8,
         "SepalLengthCm": 5.8,
         "SepalWidthCm": 3.4,
         "Species": "Iris-setosa",
         "_deepnote_index_column": 7,
         "id": 8,
         "petallengthcm": 1.5,
         "petalwidthcm": 0.2,
         "species": "Iris-setosa"
        },
        {
         "Id": 9,
         "SepalLengthCm": 4.4,
         "SepalWidthCm": 2.9,
         "Species": "Iris-setosa",
         "_deepnote_index_column": 8,
         "id": 9,
         "petallengthcm": 1.4,
         "petalwidthcm": 0.2,
         "species": "Iris-setosa"
        },
        {
         "Id": 10,
         "SepalLengthCm": 4.9,
         "SepalWidthCm": 3.1,
         "Species": "Iris-setosa",
         "_deepnote_index_column": 9,
         "id": 10,
         "petallengthcm": 1.5,
         "petalwidthcm": 0.1,
         "species": "Iris-setosa"
        }
       ]
      },
      "text/html": [
       "<div>\n",
       "<style scoped>\n",
       "    .dataframe tbody tr th:only-of-type {\n",
       "        vertical-align: middle;\n",
       "    }\n",
       "\n",
       "    .dataframe tbody tr th {\n",
       "        vertical-align: top;\n",
       "    }\n",
       "\n",
       "    .dataframe thead th {\n",
       "        text-align: right;\n",
       "    }\n",
       "</style>\n",
       "<table border=\"1\" class=\"dataframe\">\n",
       "  <thead>\n",
       "    <tr style=\"text-align: right;\">\n",
       "      <th></th>\n",
       "      <th>id</th>\n",
       "      <th>petallengthcm</th>\n",
       "      <th>petalwidthcm</th>\n",
       "      <th>species</th>\n",
       "      <th>Id</th>\n",
       "      <th>SepalLengthCm</th>\n",
       "      <th>SepalWidthCm</th>\n",
       "      <th>Species</th>\n",
       "    </tr>\n",
       "  </thead>\n",
       "  <tbody>\n",
       "    <tr>\n",
       "      <th>0</th>\n",
       "      <td>1</td>\n",
       "      <td>1.4</td>\n",
       "      <td>0.2</td>\n",
       "      <td>Iris-setosa</td>\n",
       "      <td>1</td>\n",
       "      <td>5.1</td>\n",
       "      <td>3.5</td>\n",
       "      <td>Iris-setosa</td>\n",
       "    </tr>\n",
       "    <tr>\n",
       "      <th>1</th>\n",
       "      <td>2</td>\n",
       "      <td>1.4</td>\n",
       "      <td>0.2</td>\n",
       "      <td>Iris-setosa</td>\n",
       "      <td>2</td>\n",
       "      <td>4.9</td>\n",
       "      <td>3.0</td>\n",
       "      <td>Iris-setosa</td>\n",
       "    </tr>\n",
       "    <tr>\n",
       "      <th>2</th>\n",
       "      <td>3</td>\n",
       "      <td>1.3</td>\n",
       "      <td>0.2</td>\n",
       "      <td>Iris-setosa</td>\n",
       "      <td>3</td>\n",
       "      <td>5.8</td>\n",
       "      <td>3.2</td>\n",
       "      <td>Iris-setosa</td>\n",
       "    </tr>\n",
       "    <tr>\n",
       "      <th>3</th>\n",
       "      <td>4</td>\n",
       "      <td>1.5</td>\n",
       "      <td>0.2</td>\n",
       "      <td>Iris-setosa</td>\n",
       "      <td>4</td>\n",
       "      <td>5.8</td>\n",
       "      <td>3.1</td>\n",
       "      <td>Iris-setosa</td>\n",
       "    </tr>\n",
       "    <tr>\n",
       "      <th>4</th>\n",
       "      <td>5</td>\n",
       "      <td>1.4</td>\n",
       "      <td>0.2</td>\n",
       "      <td>Iris-setosa</td>\n",
       "      <td>5</td>\n",
       "      <td>5.0</td>\n",
       "      <td>3.6</td>\n",
       "      <td>Iris-setosa</td>\n",
       "    </tr>\n",
       "    <tr>\n",
       "      <th>...</th>\n",
       "      <td>...</td>\n",
       "      <td>...</td>\n",
       "      <td>...</td>\n",
       "      <td>...</td>\n",
       "      <td>...</td>\n",
       "      <td>...</td>\n",
       "      <td>...</td>\n",
       "      <td>...</td>\n",
       "    </tr>\n",
       "    <tr>\n",
       "      <th>145</th>\n",
       "      <td>104</td>\n",
       "      <td>5.6</td>\n",
       "      <td>1.8</td>\n",
       "      <td>Iris-virginica</td>\n",
       "      <td>104</td>\n",
       "      <td>6.3</td>\n",
       "      <td>2.9</td>\n",
       "      <td>Iris-virginica</td>\n",
       "    </tr>\n",
       "    <tr>\n",
       "      <th>146</th>\n",
       "      <td>115</td>\n",
       "      <td>5.1</td>\n",
       "      <td>2.4</td>\n",
       "      <td>Iris-virginica</td>\n",
       "      <td>115</td>\n",
       "      <td>5.8</td>\n",
       "      <td>2.8</td>\n",
       "      <td>Iris-virginica</td>\n",
       "    </tr>\n",
       "    <tr>\n",
       "      <th>147</th>\n",
       "      <td>142</td>\n",
       "      <td>5.1</td>\n",
       "      <td>2.3</td>\n",
       "      <td>Iris-virginica</td>\n",
       "      <td>142</td>\n",
       "      <td>6.9</td>\n",
       "      <td>3.1</td>\n",
       "      <td>Iris-virginica</td>\n",
       "    </tr>\n",
       "    <tr>\n",
       "      <th>148</th>\n",
       "      <td>143</td>\n",
       "      <td>5.1</td>\n",
       "      <td>1.9</td>\n",
       "      <td>Iris-virginica</td>\n",
       "      <td>143</td>\n",
       "      <td>5.8</td>\n",
       "      <td>2.7</td>\n",
       "      <td>Iris-virginica</td>\n",
       "    </tr>\n",
       "    <tr>\n",
       "      <th>149</th>\n",
       "      <td>74</td>\n",
       "      <td>4.7</td>\n",
       "      <td>1.2</td>\n",
       "      <td>Iris-versicolor</td>\n",
       "      <td>74</td>\n",
       "      <td>6.1</td>\n",
       "      <td>2.8</td>\n",
       "      <td>Iris-versicolor</td>\n",
       "    </tr>\n",
       "  </tbody>\n",
       "</table>\n",
       "<p>150 rows × 8 columns</p>\n",
       "</div>"
      ],
      "text/plain": [
       "      id  petallengthcm  petalwidthcm          species   Id  SepalLengthCm  \\\n",
       "0      1            1.4           0.2      Iris-setosa    1            5.1   \n",
       "1      2            1.4           0.2      Iris-setosa    2            4.9   \n",
       "2      3            1.3           0.2      Iris-setosa    3            5.8   \n",
       "3      4            1.5           0.2      Iris-setosa    4            5.8   \n",
       "4      5            1.4           0.2      Iris-setosa    5            5.0   \n",
       "..   ...            ...           ...              ...  ...            ...   \n",
       "145  104            5.6           1.8   Iris-virginica  104            6.3   \n",
       "146  115            5.1           2.4   Iris-virginica  115            5.8   \n",
       "147  142            5.1           2.3   Iris-virginica  142            6.9   \n",
       "148  143            5.1           1.9   Iris-virginica  143            5.8   \n",
       "149   74            4.7           1.2  Iris-versicolor   74            6.1   \n",
       "\n",
       "     SepalWidthCm          Species  \n",
       "0             3.5      Iris-setosa  \n",
       "1             3.0      Iris-setosa  \n",
       "2             3.2      Iris-setosa  \n",
       "3             3.1      Iris-setosa  \n",
       "4             3.6      Iris-setosa  \n",
       "..            ...              ...  \n",
       "145           2.9   Iris-virginica  \n",
       "146           2.8   Iris-virginica  \n",
       "147           3.1   Iris-virginica  \n",
       "148           2.7   Iris-virginica  \n",
       "149           2.8  Iris-versicolor  \n",
       "\n",
       "[150 rows x 8 columns]"
      ]
     },
     "execution_count": 16,
     "metadata": {},
     "output_type": "execute_result"
    }
   ],
   "outputs_reference": "s3:deepnote-cell-outputs-production/ee9b2afa-dc3e-462b-9883-52d4b4074ba4",
   "source": [
    "df_26 = _deepnote_execute_sql('SELECT * FROM data_postgres_mean INNER JOIN data_sql_mean ON data_postgres_mean.id = data_sql_mean.id', 'SQL_DEEPNOTE_DATAFRAME_SQL', audit_sql_comment='', sql_cache_mode='cache_disabled')\n",
    "df_26"
   ]
  },
  {
   "block_group": "246cb2fd20bf46fd925db196ed6e9257",
   "cell_type": "markdown",
   "metadata": {
    "cell_id": "5f6ed815a8714f6e9eede3f96ada4838",
    "deepnote_cell_type": "text-cell-p",
    "formattedRanges": []
   },
   "source": [
    "Maka, pemecahan masalah missing value menggunakan metode mean sudah selesai."
   ]
  },
  {
   "block_group": "56075049bf5e44e3934a3b26e7284ec0",
   "cell_type": "markdown",
   "metadata": {
    "cell_id": "11e1b7faf3544a8ba56ac3558851f377",
    "deepnote_cell_type": "text-cell-h2",
    "formattedRanges": []
   },
   "source": [
    "## METODE KNN"
   ]
  },
  {
   "block_group": "8c90134f40d3442089e716a5969d9963",
   "cell_type": "markdown",
   "metadata": {
    "cell_id": "06f21d8f31b54adbadabf37f603a06ea",
    "deepnote_cell_type": "text-cell-p",
    "formattedRanges": []
   },
   "source": [
    "Untuk imputasi metode knn kita akan mencari selisih terdekat dari missing value yang ingin kita cari atau tetangga terdekat. Kita akan gunakan rumus euclidean."
   ]
  },
  {
   "block_group": "6bc222481ead4c03b94ea0143767a56e",
   "cell_type": "markdown",
   "metadata": {
    "cell_id": "874c23f1758a4f96b1268b6d89c21ab7",
    "deepnote_cell_type": "text-cell-h3",
    "formattedRanges": []
   },
   "source": [
    "### Rumus Euclidean Distance"
   ]
  },
  {
   "block_group": "ad8cd9ea28dc44428a82baf3e17c74e2",
   "cell_type": "markdown",
   "metadata": {
    "cell_id": "303499b7df56416b941105187049758f",
    "deepnote_cell_type": "image",
    "deepnote_img_src": "image-20240320-205906.png"
   },
   "source": [
    "<img src=\"image-20240320-205906.png\" width=\"\" align=\"\" />"
   ]
  },
  {
   "block_group": "94aeccef96554b55852b6151e3e66da1",
   "cell_type": "markdown",
   "metadata": {
    "cell_id": "4245585ae4f34658a114b510e270dac4",
    "deepnote_cell_type": "text-cell-h3",
    "formattedRanges": []
   },
   "source": [
    "### Identifikasi Masalah"
   ]
  },
  {
   "block_group": "5a19103511e54ccd9e6265b31077c7db",
   "cell_type": "markdown",
   "metadata": {
    "cell_id": "11c7930d20ee45ffb195afac299cb988",
    "deepnote_cell_type": "text-cell-p",
    "formattedRanges": []
   },
   "source": [
    "Lakukan update data  untuk skenario terdapat missing value"
   ]
  },
  {
   "block_group": "f91f68653142442e8d021d2c297c5f4b",
   "cell_type": "code",
   "execution_count": null,
   "metadata": {
    "cell_id": "808813b54c28413c854f4943610a4fd8",
    "deepnote_cell_type": "sql",
    "deepnote_sql_source": "UPDATE preminknn set Species = NULL where id = 5",
    "deepnote_to_be_reexecuted": false,
    "deepnote_variable_name": "df_27",
    "execution_millis": 3311,
    "execution_start": 1710256060721,
    "source_hash": null,
    "sql_integration_id": "0588f7a5-1b73-498d-a102-830b1faeb649"
   },
   "outputs": [],
   "outputs_reference": null,
   "source": [
    "df_27 = _deepnote_execute_sql('UPDATE preminknn set Species = NULL where id = 5', 'SQL_0588F7A5_1B73_498D_A102_830B1FAEB649', audit_sql_comment='', sql_cache_mode='cache_disabled')\n",
    "df_27"
   ]
  },
  {
   "block_group": "39d122fcbedc44b68f042d2bbea3a9f7",
   "cell_type": "code",
   "execution_count": null,
   "metadata": {
    "cell_id": "db0db38f11a6420ab103c4fc449fae09",
    "deepnote_cell_type": "sql",
    "deepnote_sql_source": "UPDATE preminknn set Species = NULL where id = 5",
    "deepnote_to_be_reexecuted": false,
    "deepnote_variable_name": "df_28",
    "execution_millis": 3697,
    "execution_start": 1710256084732,
    "source_hash": null,
    "sql_integration_id": "e83c161a-c437-4e4c-8544-e318581c8846"
   },
   "outputs": [],
   "outputs_reference": null,
   "source": [
    "df_28 = _deepnote_execute_sql('UPDATE preminknn set Species = NULL where id = 5', 'SQL_E83C161A_C437_4E4C_8544_E318581C8846', audit_sql_comment='', sql_cache_mode='cache_disabled')\n",
    "df_28"
   ]
  },
  {
   "block_group": "21bc1962454d46c09c4a68015a83004f",
   "cell_type": "markdown",
   "metadata": {
    "cell_id": "30935aca09a24eb8aa1460ce0c47f53b",
    "deepnote_cell_type": "text-cell-p",
    "formattedRanges": []
   },
   "source": [
    "Selanjutnya kita lakukan update juga pada dataframe yang akan kita gunakan untuk imputasi metode knn"
   ]
  },
  {
   "block_group": "d15f20b5fa21446e8e9b73c43fed14df",
   "cell_type": "code",
   "execution_count": null,
   "metadata": {
    "cell_id": "61448fbbd5514eb788a2ce7f10c93ce6",
    "deepnote_cell_type": "code",
    "deepnote_to_be_reexecuted": false,
    "execution_millis": 3658,
    "execution_start": 1710256206742,
    "source_hash": null
   },
   "outputs": [
    {
     "name": "stderr",
     "output_type": "stream",
     "text": [
      "/tmp/ipykernel_37/3681309599.py:23: UserWarning: pandas only supports SQLAlchemy connectable (engine/connection) or database string URI or sqlite3 DBAPI2 connection. Other DBAPI2 objects are not tested. Please consider using SQLAlchemy.\n",
      "  data_sql_knn = pd.read_sql(sql_query2, sql_connection)\n",
      "/tmp/ipykernel_37/3681309599.py:28: UserWarning: pandas only supports SQLAlchemy connectable (engine/connection) or database string URI or sqlite3 DBAPI2 connection. Other DBAPI2 objects are not tested. Please consider using SQLAlchemy.\n",
      "  data_postgres_knn = pd.read_sql(postgres_query2, postgres_connection)\n"
     ]
    }
   ],
   "outputs_reference": "dbtable:cell_outputs/13b5bfd1-1280-45c8-b9d3-f7339acf0365",
   "source": [
    "import pandas as pd\n",
    "import mysql.connector\n",
    "import psycopg2\n",
    "\n",
    "sql_connection = mysql.connector.connect(\n",
    "    host=\"datamining2-widiya22063.a.aivencloud.com\",\n",
    "    user=\"avnadmin\",\n",
    "    password=\"AVNS_zh-wEX0C7VGAmX7jB3J\",\n",
    "    port = \"27022\",\n",
    "    database=\"db_datairish\"\n",
    ")\n",
    "\n",
    "postgres_connection = psycopg2.connect(\n",
    "    host=\"datamining-widiya22063.a.aivencloud.com\",\n",
    "    database=\"db_datapostgree\",\n",
    "    user=\"avnadmin\",\n",
    "    port=\"27022\",\n",
    "    password=\"AVNS_mLPV9Vh_YdFtx_Zk7Pr\"\n",
    ")\n",
    "\n",
    "\n",
    "sql_query2 = \"SELECT * FROM preminknn\"\n",
    "data_sql_knn = pd.read_sql(sql_query2, sql_connection)\n",
    "\n",
    "\n",
    "\n",
    "postgres_query2 = \"SELECT * FROM preminknn\"\n",
    "data_postgres_knn = pd.read_sql(postgres_query2, postgres_connection)"
   ]
  },
  {
   "block_group": "63fdec585d964c718a6c633b7f300d9c",
   "cell_type": "markdown",
   "metadata": {
    "cell_id": "6ba82993da444df3a60b4f49ee03f98e",
    "deepnote_cell_type": "text-cell-p",
    "formattedRanges": []
   },
   "source": [
    "Selanjutnya kita tampilkan dataframenya. Apakah terdapat missing value didalamnya."
   ]
  },
  {
   "block_group": "ef427f2790c34db38415d12ba478f6ed",
   "cell_type": "code",
   "execution_count": null,
   "metadata": {
    "cell_id": "a1e595d5e7c4467dbf991f80a755a385",
    "deepnote_cell_type": "sql",
    "deepnote_sql_source": "SELECT * FROM data_postgres_knn INNER JOIN data_sql_knn ON data_postgres_knn.id = data_sql_knn.id",
    "deepnote_table_loading": false,
    "deepnote_table_state": {
     "filters": [],
     "pageIndex": 13,
     "pageSize": 10,
     "sortBy": []
    },
    "deepnote_to_be_reexecuted": false,
    "deepnote_variable_name": "df_29",
    "execution_millis": 243,
    "execution_start": 1710256266323,
    "source_hash": null,
    "sql_integration_id": "deepnote-dataframe-sql"
   },
   "outputs": [
    {
     "data": {
      "application/vnd.deepnote.dataframe.v3+json": {
       "column_count": 8,
       "columns": [
        {
         "dtype": "int64",
         "name": "id",
         "stats": {
          "histogram": [
           {
            "bin_end": 15.9,
            "bin_start": 1,
            "count": 15
           },
           {
            "bin_end": 30.8,
            "bin_start": 15.9,
            "count": 15
           },
           {
            "bin_end": 45.7,
            "bin_start": 30.8,
            "count": 15
           },
           {
            "bin_end": 60.6,
            "bin_start": 45.7,
            "count": 15
           },
           {
            "bin_end": 75.5,
            "bin_start": 60.6,
            "count": 15
           },
           {
            "bin_end": 90.4,
            "bin_start": 75.5,
            "count": 15
           },
           {
            "bin_end": 105.3,
            "bin_start": 90.4,
            "count": 15
           },
           {
            "bin_end": 120.2,
            "bin_start": 105.3,
            "count": 15
           },
           {
            "bin_end": 135.1,
            "bin_start": 120.2,
            "count": 15
           },
           {
            "bin_end": 150,
            "bin_start": 135.1,
            "count": 15
           }
          ],
          "max": "150",
          "min": "1",
          "nan_count": 0,
          "unique_count": 150
         }
        },
        {
         "dtype": "float64",
         "name": "petallengthcm",
         "stats": {
          "histogram": [
           {
            "bin_end": 1.59,
            "bin_start": 1,
            "count": 37
           },
           {
            "bin_end": 2.18,
            "bin_start": 1.59,
            "count": 13
           },
           {
            "bin_end": 2.7700000000000005,
            "bin_start": 2.18,
            "count": 0
           },
           {
            "bin_end": 3.3600000000000003,
            "bin_start": 2.7700000000000005,
            "count": 3
           },
           {
            "bin_end": 3.95,
            "bin_start": 3.3600000000000003,
            "count": 8
           },
           {
            "bin_end": 4.540000000000001,
            "bin_start": 3.95,
            "count": 26
           },
           {
            "bin_end": 5.130000000000001,
            "bin_start": 4.540000000000001,
            "count": 29
           },
           {
            "bin_end": 5.720000000000001,
            "bin_start": 5.130000000000001,
            "count": 18
           },
           {
            "bin_end": 6.3100000000000005,
            "bin_start": 5.720000000000001,
            "count": 11
           },
           {
            "bin_end": 6.9,
            "bin_start": 6.3100000000000005,
            "count": 5
           }
          ],
          "max": "6.9",
          "min": "1.0",
          "nan_count": 0,
          "unique_count": 43
         }
        },
        {
         "dtype": "float64",
         "name": "petalwidthcm",
         "stats": {
          "histogram": [
           {
            "bin_end": 0.33999999999999997,
            "bin_start": 0.1,
            "count": 41
           },
           {
            "bin_end": 0.58,
            "bin_start": 0.33999999999999997,
            "count": 8
           },
           {
            "bin_end": 0.82,
            "bin_start": 0.58,
            "count": 1
           },
           {
            "bin_end": 1.06,
            "bin_start": 0.82,
            "count": 7
           },
           {
            "bin_end": 1.3,
            "bin_start": 1.06,
            "count": 8
           },
           {
            "bin_end": 1.54,
            "bin_start": 1.3,
            "count": 33
           },
           {
            "bin_end": 1.78,
            "bin_start": 1.54,
            "count": 6
           },
           {
            "bin_end": 2.02,
            "bin_start": 1.78,
            "count": 23
           },
           {
            "bin_end": 2.2600000000000002,
            "bin_start": 2.02,
            "count": 9
           },
           {
            "bin_end": 2.5,
            "bin_start": 2.2600000000000002,
            "count": 14
           }
          ],
          "max": "2.5",
          "min": "0.1",
          "nan_count": 0,
          "unique_count": 22
         }
        },
        {
         "dtype": "object",
         "name": "species",
         "stats": {
          "categories": [
           {
            "count": 50,
            "name": "Iris-versicolor"
           },
           {
            "count": 99,
            "name": "2 others"
           },
           {
            "count": 1,
            "name": "Missing"
           }
          ],
          "nan_count": 1,
          "unique_count": 3
         }
        },
        {
         "dtype": "int64",
         "name": "Id",
         "stats": {
          "histogram": [
           {
            "bin_end": 15.9,
            "bin_start": 1,
            "count": 15
           },
           {
            "bin_end": 30.8,
            "bin_start": 15.9,
            "count": 15
           },
           {
            "bin_end": 45.7,
            "bin_start": 30.8,
            "count": 15
           },
           {
            "bin_end": 60.6,
            "bin_start": 45.7,
            "count": 15
           },
           {
            "bin_end": 75.5,
            "bin_start": 60.6,
            "count": 15
           },
           {
            "bin_end": 90.4,
            "bin_start": 75.5,
            "count": 15
           },
           {
            "bin_end": 105.3,
            "bin_start": 90.4,
            "count": 15
           },
           {
            "bin_end": 120.2,
            "bin_start": 105.3,
            "count": 15
           },
           {
            "bin_end": 135.1,
            "bin_start": 120.2,
            "count": 15
           },
           {
            "bin_end": 150,
            "bin_start": 135.1,
            "count": 15
           }
          ],
          "max": "150",
          "min": "1",
          "nan_count": 0,
          "unique_count": 150
         }
        },
        {
         "dtype": "float64",
         "name": "SepalLengthCm",
         "stats": {
          "histogram": [
           {
            "bin_end": 4.66,
            "bin_start": 4.3,
            "count": 9
           },
           {
            "bin_end": 5.02,
            "bin_start": 4.66,
            "count": 23
           },
           {
            "bin_end": 5.38,
            "bin_start": 5.02,
            "count": 14
           },
           {
            "bin_end": 5.74,
            "bin_start": 5.38,
            "count": 27
           },
           {
            "bin_end": 6.1,
            "bin_start": 5.74,
            "count": 16
           },
           {
            "bin_end": 6.46,
            "bin_start": 6.1,
            "count": 26
           },
           {
            "bin_end": 6.82,
            "bin_start": 6.46,
            "count": 18
           },
           {
            "bin_end": 7.18,
            "bin_start": 6.82,
            "count": 6
           },
           {
            "bin_end": 7.54,
            "bin_start": 7.18,
            "count": 5
           },
           {
            "bin_end": 7.9,
            "bin_start": 7.54,
            "count": 6
           }
          ],
          "max": "7.9",
          "min": "4.3",
          "nan_count": 0,
          "unique_count": 35
         }
        },
        {
         "dtype": "float64",
         "name": "SepalWidthCm",
         "stats": {
          "histogram": [
           {
            "bin_end": 2.24,
            "bin_start": 2,
            "count": 4
           },
           {
            "bin_end": 2.48,
            "bin_start": 2.24,
            "count": 7
           },
           {
            "bin_end": 2.72,
            "bin_start": 2.48,
            "count": 22
           },
           {
            "bin_end": 2.96,
            "bin_start": 2.72,
            "count": 24
           },
           {
            "bin_end": 3.2,
            "bin_start": 2.96,
            "count": 38
           },
           {
            "bin_end": 3.4400000000000004,
            "bin_start": 3.2,
            "count": 31
           },
           {
            "bin_end": 3.6800000000000006,
            "bin_start": 3.4400000000000004,
            "count": 9
           },
           {
            "bin_end": 3.9200000000000004,
            "bin_start": 3.6800000000000006,
            "count": 11
           },
           {
            "bin_end": 4.16,
            "bin_start": 3.9200000000000004,
            "count": 2
           },
           {
            "bin_end": 4.4,
            "bin_start": 4.16,
            "count": 2
           }
          ],
          "max": "4.4",
          "min": "2.0",
          "nan_count": 0,
          "unique_count": 23
         }
        },
        {
         "dtype": "object",
         "name": "Species",
         "stats": {
          "categories": [
           {
            "count": 50,
            "name": "Iris-versicolor"
           },
           {
            "count": 99,
            "name": "2 others"
           },
           {
            "count": 1,
            "name": "Missing"
           }
          ],
          "nan_count": 1,
          "unique_count": 3
         }
        },
        {
         "dtype": "int64",
         "name": "_deepnote_index_column"
        }
       ],
       "row_count": 150,
       "rows": [
        {
         "Id": 140,
         "SepalLengthCm": 6.9,
         "SepalWidthCm": 3.1,
         "Species": "Iris-virginica",
         "_deepnote_index_column": 130,
         "id": 140,
         "petallengthcm": 5.4,
         "petalwidthcm": 2.1,
         "species": "Iris-virginica"
        },
        {
         "Id": 141,
         "SepalLengthCm": 6.7,
         "SepalWidthCm": 3.1,
         "Species": "Iris-virginica",
         "_deepnote_index_column": 131,
         "id": 141,
         "petallengthcm": 5.6,
         "petalwidthcm": 2.4,
         "species": "Iris-virginica"
        },
        {
         "Id": 144,
         "SepalLengthCm": 6.8,
         "SepalWidthCm": 3.2,
         "Species": "Iris-virginica",
         "_deepnote_index_column": 132,
         "id": 144,
         "petallengthcm": 5.9,
         "petalwidthcm": 2.3,
         "species": "Iris-virginica"
        },
        {
         "Id": 145,
         "SepalLengthCm": 6.7,
         "SepalWidthCm": 3.3,
         "Species": "Iris-virginica",
         "_deepnote_index_column": 133,
         "id": 145,
         "petallengthcm": 5.7,
         "petalwidthcm": 2.5,
         "species": "Iris-virginica"
        },
        {
         "Id": 146,
         "SepalLengthCm": 6.7,
         "SepalWidthCm": 3,
         "Species": "Iris-virginica",
         "_deepnote_index_column": 134,
         "id": 146,
         "petallengthcm": 5.2,
         "petalwidthcm": 2.3,
         "species": "Iris-virginica"
        },
        {
         "Id": 147,
         "SepalLengthCm": 6.3,
         "SepalWidthCm": 2.5,
         "Species": "Iris-virginica",
         "_deepnote_index_column": 135,
         "id": 147,
         "petallengthcm": 5,
         "petalwidthcm": 1.9,
         "species": "Iris-virginica"
        },
        {
         "Id": 148,
         "SepalLengthCm": 6.5,
         "SepalWidthCm": 3,
         "Species": "Iris-virginica",
         "_deepnote_index_column": 136,
         "id": 148,
         "petallengthcm": 5.2,
         "petalwidthcm": 2,
         "species": "Iris-virginica"
        },
        {
         "Id": 149,
         "SepalLengthCm": 6.2,
         "SepalWidthCm": 3.4,
         "Species": "Iris-virginica",
         "_deepnote_index_column": 137,
         "id": 149,
         "petallengthcm": 5.4,
         "petalwidthcm": 2.3,
         "species": "Iris-virginica"
        },
        {
         "Id": 150,
         "SepalLengthCm": 5.9,
         "SepalWidthCm": 3,
         "Species": "Iris-virginica",
         "_deepnote_index_column": 138,
         "id": 150,
         "petallengthcm": 5.1,
         "petalwidthcm": 1.8,
         "species": "Iris-virginica"
        },
        {
         "Id": 5,
         "SepalLengthCm": 5,
         "SepalWidthCm": 3.6,
         "Species": "None",
         "_deepnote_index_column": 139,
         "id": 5,
         "petallengthcm": 1.4,
         "petalwidthcm": 0.2,
         "species": "None"
        }
       ]
      },
      "text/html": [
       "<div>\n",
       "<style scoped>\n",
       "    .dataframe tbody tr th:only-of-type {\n",
       "        vertical-align: middle;\n",
       "    }\n",
       "\n",
       "    .dataframe tbody tr th {\n",
       "        vertical-align: top;\n",
       "    }\n",
       "\n",
       "    .dataframe thead th {\n",
       "        text-align: right;\n",
       "    }\n",
       "</style>\n",
       "<table border=\"1\" class=\"dataframe\">\n",
       "  <thead>\n",
       "    <tr style=\"text-align: right;\">\n",
       "      <th></th>\n",
       "      <th>id</th>\n",
       "      <th>petallengthcm</th>\n",
       "      <th>petalwidthcm</th>\n",
       "      <th>species</th>\n",
       "      <th>Id</th>\n",
       "      <th>SepalLengthCm</th>\n",
       "      <th>SepalWidthCm</th>\n",
       "      <th>Species</th>\n",
       "    </tr>\n",
       "  </thead>\n",
       "  <tbody>\n",
       "    <tr>\n",
       "      <th>0</th>\n",
       "      <td>1</td>\n",
       "      <td>1.4</td>\n",
       "      <td>0.2</td>\n",
       "      <td>Iris-setosa</td>\n",
       "      <td>1</td>\n",
       "      <td>5.1</td>\n",
       "      <td>3.5</td>\n",
       "      <td>Iris-setosa</td>\n",
       "    </tr>\n",
       "    <tr>\n",
       "      <th>1</th>\n",
       "      <td>2</td>\n",
       "      <td>1.4</td>\n",
       "      <td>0.2</td>\n",
       "      <td>Iris-setosa</td>\n",
       "      <td>2</td>\n",
       "      <td>4.9</td>\n",
       "      <td>3.0</td>\n",
       "      <td>Iris-setosa</td>\n",
       "    </tr>\n",
       "    <tr>\n",
       "      <th>2</th>\n",
       "      <td>3</td>\n",
       "      <td>1.3</td>\n",
       "      <td>0.2</td>\n",
       "      <td>Iris-setosa</td>\n",
       "      <td>3</td>\n",
       "      <td>4.7</td>\n",
       "      <td>3.2</td>\n",
       "      <td>Iris-setosa</td>\n",
       "    </tr>\n",
       "    <tr>\n",
       "      <th>3</th>\n",
       "      <td>4</td>\n",
       "      <td>1.5</td>\n",
       "      <td>0.2</td>\n",
       "      <td>Iris-setosa</td>\n",
       "      <td>4</td>\n",
       "      <td>4.6</td>\n",
       "      <td>3.1</td>\n",
       "      <td>Iris-setosa</td>\n",
       "    </tr>\n",
       "    <tr>\n",
       "      <th>4</th>\n",
       "      <td>6</td>\n",
       "      <td>1.7</td>\n",
       "      <td>0.4</td>\n",
       "      <td>Iris-setosa</td>\n",
       "      <td>6</td>\n",
       "      <td>5.4</td>\n",
       "      <td>3.9</td>\n",
       "      <td>Iris-setosa</td>\n",
       "    </tr>\n",
       "    <tr>\n",
       "      <th>...</th>\n",
       "      <td>...</td>\n",
       "      <td>...</td>\n",
       "      <td>...</td>\n",
       "      <td>...</td>\n",
       "      <td>...</td>\n",
       "      <td>...</td>\n",
       "      <td>...</td>\n",
       "      <td>...</td>\n",
       "    </tr>\n",
       "    <tr>\n",
       "      <th>145</th>\n",
       "      <td>104</td>\n",
       "      <td>5.6</td>\n",
       "      <td>1.8</td>\n",
       "      <td>Iris-virginica</td>\n",
       "      <td>104</td>\n",
       "      <td>6.3</td>\n",
       "      <td>2.9</td>\n",
       "      <td>Iris-virginica</td>\n",
       "    </tr>\n",
       "    <tr>\n",
       "      <th>146</th>\n",
       "      <td>115</td>\n",
       "      <td>5.1</td>\n",
       "      <td>2.4</td>\n",
       "      <td>Iris-virginica</td>\n",
       "      <td>115</td>\n",
       "      <td>5.8</td>\n",
       "      <td>2.8</td>\n",
       "      <td>Iris-virginica</td>\n",
       "    </tr>\n",
       "    <tr>\n",
       "      <th>147</th>\n",
       "      <td>142</td>\n",
       "      <td>5.1</td>\n",
       "      <td>2.3</td>\n",
       "      <td>Iris-virginica</td>\n",
       "      <td>142</td>\n",
       "      <td>6.9</td>\n",
       "      <td>3.1</td>\n",
       "      <td>Iris-virginica</td>\n",
       "    </tr>\n",
       "    <tr>\n",
       "      <th>148</th>\n",
       "      <td>143</td>\n",
       "      <td>5.1</td>\n",
       "      <td>1.9</td>\n",
       "      <td>Iris-virginica</td>\n",
       "      <td>143</td>\n",
       "      <td>5.8</td>\n",
       "      <td>2.7</td>\n",
       "      <td>Iris-virginica</td>\n",
       "    </tr>\n",
       "    <tr>\n",
       "      <th>149</th>\n",
       "      <td>74</td>\n",
       "      <td>4.7</td>\n",
       "      <td>1.2</td>\n",
       "      <td>Iris-versicolor</td>\n",
       "      <td>74</td>\n",
       "      <td>6.1</td>\n",
       "      <td>2.8</td>\n",
       "      <td>Iris-versicolor</td>\n",
       "    </tr>\n",
       "  </tbody>\n",
       "</table>\n",
       "<p>150 rows × 8 columns</p>\n",
       "</div>"
      ],
      "text/plain": [
       "      id  petallengthcm  petalwidthcm          species   Id  SepalLengthCm  \\\n",
       "0      1            1.4           0.2      Iris-setosa    1            5.1   \n",
       "1      2            1.4           0.2      Iris-setosa    2            4.9   \n",
       "2      3            1.3           0.2      Iris-setosa    3            4.7   \n",
       "3      4            1.5           0.2      Iris-setosa    4            4.6   \n",
       "4      6            1.7           0.4      Iris-setosa    6            5.4   \n",
       "..   ...            ...           ...              ...  ...            ...   \n",
       "145  104            5.6           1.8   Iris-virginica  104            6.3   \n",
       "146  115            5.1           2.4   Iris-virginica  115            5.8   \n",
       "147  142            5.1           2.3   Iris-virginica  142            6.9   \n",
       "148  143            5.1           1.9   Iris-virginica  143            5.8   \n",
       "149   74            4.7           1.2  Iris-versicolor   74            6.1   \n",
       "\n",
       "     SepalWidthCm          Species  \n",
       "0             3.5      Iris-setosa  \n",
       "1             3.0      Iris-setosa  \n",
       "2             3.2      Iris-setosa  \n",
       "3             3.1      Iris-setosa  \n",
       "4             3.9      Iris-setosa  \n",
       "..            ...              ...  \n",
       "145           2.9   Iris-virginica  \n",
       "146           2.8   Iris-virginica  \n",
       "147           3.1   Iris-virginica  \n",
       "148           2.7   Iris-virginica  \n",
       "149           2.8  Iris-versicolor  \n",
       "\n",
       "[150 rows x 8 columns]"
      ]
     },
     "execution_count": 21,
     "metadata": {},
     "output_type": "execute_result"
    }
   ],
   "outputs_reference": "s3:deepnote-cell-outputs-production/73b05892-3376-4217-b360-ab9e1ebf8f14",
   "source": [
    "df_29 = _deepnote_execute_sql('SELECT * FROM data_postgres_knn INNER JOIN data_sql_knn ON data_postgres_knn.id = data_sql_knn.id', 'SQL_DEEPNOTE_DATAFRAME_SQL', audit_sql_comment='', sql_cache_mode='cache_disabled')\n",
    "df_29"
   ]
  },
  {
   "block_group": "3a4f42b5dd174cce9ac167ee29a83752",
   "cell_type": "markdown",
   "metadata": {
    "cell_id": "77c203dacc5e44e3b8b6c49871dc53a0",
    "deepnote_cell_type": "text-cell-h3",
    "formattedRanges": []
   },
   "source": [
    "### Mencari Knn"
   ]
  },
  {
   "block_group": "51ea8396abd444daa773d9e7ff912568",
   "cell_type": "markdown",
   "metadata": {
    "cell_id": "b6aeff44b1d448dda385908b874487c1",
    "deepnote_cell_type": "text-cell-p",
    "formattedRanges": []
   },
   "source": [
    "Saya gunakan excel untuk melakukan perhitungan datanya, lalu hasil perhitungan excel tersebut akan kita masukkan ke dalam database hingga menampilkan data-data dengan metode knn"
   ]
  },
  {
   "block_group": "f2c49d85280f47f2ad80d5aa43ce576f",
   "cell_type": "code",
   "execution_count": null,
   "metadata": {
    "cell_id": "8d31b3a7609c41b3a3a7b5c097bb22b2",
    "deepnote_cell_type": "sql",
    "deepnote_sql_source": "SELECT * FROM perhitunganKnn ORDER BY ranking ASC",
    "deepnote_table_loading": false,
    "deepnote_table_state": {
     "filters": [],
     "pageIndex": 1,
     "pageSize": 10,
     "sortBy": []
    },
    "deepnote_to_be_reexecuted": false,
    "deepnote_variable_name": "df_30",
    "execution_millis": 3337,
    "execution_start": 1710943521638,
    "source_hash": null,
    "sql_integration_id": "0588f7a5-1b73-498d-a102-830b1faeb649"
   },
   "outputs": [
    {
     "data": {
      "application/vnd.deepnote.sql-output-metadata+json": {
       "size_in_bytes": 18954,
       "status": "success_no_cache"
      }
     },
     "metadata": {},
     "output_type": "display_data"
    },
    {
     "data": {
      "application/vnd.deepnote.dataframe.v3+json": {
       "column_count": 8,
       "columns": [
        {
         "dtype": "int64",
         "name": "Id",
         "stats": {
          "histogram": [
           {
            "bin_end": 15.9,
            "bin_start": 1,
            "count": 14
           },
           {
            "bin_end": 30.8,
            "bin_start": 15.9,
            "count": 15
           },
           {
            "bin_end": 45.7,
            "bin_start": 30.8,
            "count": 15
           },
           {
            "bin_end": 60.6,
            "bin_start": 45.7,
            "count": 15
           },
           {
            "bin_end": 75.5,
            "bin_start": 60.6,
            "count": 15
           },
           {
            "bin_end": 90.4,
            "bin_start": 75.5,
            "count": 15
           },
           {
            "bin_end": 105.3,
            "bin_start": 90.4,
            "count": 15
           },
           {
            "bin_end": 120.2,
            "bin_start": 105.3,
            "count": 15
           },
           {
            "bin_end": 135.1,
            "bin_start": 120.2,
            "count": 15
           },
           {
            "bin_end": 150,
            "bin_start": 135.1,
            "count": 15
           }
          ],
          "max": "150",
          "min": "1",
          "nan_count": 0,
          "unique_count": 149
         }
        },
        {
         "dtype": "float64",
         "name": "SepalLengthCm",
         "stats": {
          "histogram": [
           {
            "bin_end": 4.66,
            "bin_start": 4.3,
            "count": 8
           },
           {
            "bin_end": 5.02,
            "bin_start": 4.66,
            "count": 23
           },
           {
            "bin_end": 5.38,
            "bin_start": 5.02,
            "count": 14
           },
           {
            "bin_end": 5.74,
            "bin_start": 5.38,
            "count": 27
           },
           {
            "bin_end": 6.1,
            "bin_start": 5.74,
            "count": 16
           },
           {
            "bin_end": 6.46,
            "bin_start": 6.1,
            "count": 26
           },
           {
            "bin_end": 6.82,
            "bin_start": 6.46,
            "count": 18
           },
           {
            "bin_end": 7.18,
            "bin_start": 6.82,
            "count": 6
           },
           {
            "bin_end": 7.54,
            "bin_start": 7.18,
            "count": 5
           },
           {
            "bin_end": 7.9,
            "bin_start": 7.54,
            "count": 6
           }
          ],
          "max": "7.9",
          "min": "4.3",
          "nan_count": 0,
          "unique_count": 35
         }
        },
        {
         "dtype": "float64",
         "name": "SepalWidthCm",
         "stats": {
          "histogram": [
           {
            "bin_end": 2.24,
            "bin_start": 2,
            "count": 4
           },
           {
            "bin_end": 2.48,
            "bin_start": 2.24,
            "count": 7
           },
           {
            "bin_end": 2.72,
            "bin_start": 2.48,
            "count": 22
           },
           {
            "bin_end": 2.96,
            "bin_start": 2.72,
            "count": 24
           },
           {
            "bin_end": 3.2,
            "bin_start": 2.96,
            "count": 38
           },
           {
            "bin_end": 3.4400000000000004,
            "bin_start": 3.2,
            "count": 30
           },
           {
            "bin_end": 3.6800000000000006,
            "bin_start": 3.4400000000000004,
            "count": 9
           },
           {
            "bin_end": 3.9200000000000004,
            "bin_start": 3.6800000000000006,
            "count": 11
           },
           {
            "bin_end": 4.16,
            "bin_start": 3.9200000000000004,
            "count": 2
           },
           {
            "bin_end": 4.4,
            "bin_start": 4.16,
            "count": 2
           }
          ],
          "max": "4.4",
          "min": "2.0",
          "nan_count": 0,
          "unique_count": 23
         }
        },
        {
         "dtype": "float64",
         "name": "PetalLengthCm",
         "stats": {
          "histogram": [
           {
            "bin_end": 1.59,
            "bin_start": 1,
            "count": 36
           },
           {
            "bin_end": 2.18,
            "bin_start": 1.59,
            "count": 13
           },
           {
            "bin_end": 2.7700000000000005,
            "bin_start": 2.18,
            "count": 0
           },
           {
            "bin_end": 3.3600000000000003,
            "bin_start": 2.7700000000000005,
            "count": 3
           },
           {
            "bin_end": 3.95,
            "bin_start": 3.3600000000000003,
            "count": 8
           },
           {
            "bin_end": 4.540000000000001,
            "bin_start": 3.95,
            "count": 26
           },
           {
            "bin_end": 5.130000000000001,
            "bin_start": 4.540000000000001,
            "count": 29
           },
           {
            "bin_end": 5.720000000000001,
            "bin_start": 5.130000000000001,
            "count": 18
           },
           {
            "bin_end": 6.3100000000000005,
            "bin_start": 5.720000000000001,
            "count": 11
           },
           {
            "bin_end": 6.9,
            "bin_start": 6.3100000000000005,
            "count": 5
           }
          ],
          "max": "6.9",
          "min": "1.0",
          "nan_count": 0,
          "unique_count": 43
         }
        },
        {
         "dtype": "float64",
         "name": "PetalWidthCm",
         "stats": {
          "histogram": [
           {
            "bin_end": 0.33999999999999997,
            "bin_start": 0.1,
            "count": 40
           },
           {
            "bin_end": 0.58,
            "bin_start": 0.33999999999999997,
            "count": 8
           },
           {
            "bin_end": 0.82,
            "bin_start": 0.58,
            "count": 1
           },
           {
            "bin_end": 1.06,
            "bin_start": 0.82,
            "count": 7
           },
           {
            "bin_end": 1.3,
            "bin_start": 1.06,
            "count": 8
           },
           {
            "bin_end": 1.54,
            "bin_start": 1.3,
            "count": 33
           },
           {
            "bin_end": 1.78,
            "bin_start": 1.54,
            "count": 6
           },
           {
            "bin_end": 2.02,
            "bin_start": 1.78,
            "count": 23
           },
           {
            "bin_end": 2.2600000000000002,
            "bin_start": 2.02,
            "count": 9
           },
           {
            "bin_end": 2.5,
            "bin_start": 2.2600000000000002,
            "count": 14
           }
          ],
          "max": "2.5",
          "min": "0.1",
          "nan_count": 0,
          "unique_count": 22
         }
        },
        {
         "dtype": "object",
         "name": "Species",
         "stats": {
          "categories": [
           {
            "count": 50,
            "name": "Iris-versicolor"
           },
           {
            "count": 50,
            "name": "Iris-virginica"
           },
           {
            "count": 49,
            "name": "Iris-setosa"
           }
          ],
          "nan_count": 0,
          "unique_count": 3
         }
        },
        {
         "dtype": "float64",
         "name": "Euclidean",
         "stats": {
          "histogram": [
           {
            "bin_end": 0.8683293,
            "bin_start": 0.223607,
            "count": 40
           },
           {
            "bin_end": 1.5130515999999998,
            "bin_start": 0.8683293,
            "count": 9
           },
           {
            "bin_end": 2.1577739,
            "bin_start": 1.5130515999999998,
            "count": 1
           },
           {
            "bin_end": 2.8024961999999998,
            "bin_start": 2.1577739,
            "count": 6
           },
           {
            "bin_end": 3.4472184999999995,
            "bin_start": 2.8024961999999998,
            "count": 18
           },
           {
            "bin_end": 4.0919408,
            "bin_start": 3.4472184999999995,
            "count": 22
           },
           {
            "bin_end": 4.7366631,
            "bin_start": 4.0919408,
            "count": 22
           },
           {
            "bin_end": 5.3813854,
            "bin_start": 4.7366631,
            "count": 19
           },
           {
            "bin_end": 6.0261077,
            "bin_start": 5.3813854,
            "count": 7
           },
           {
            "bin_end": 6.67083,
            "bin_start": 6.0261077,
            "count": 5
           }
          ],
          "max": "6.67083",
          "min": "0.223607",
          "nan_count": 0,
          "unique_count": 132
         }
        },
        {
         "dtype": "int64",
         "name": "ranking",
         "stats": {
          "histogram": [
           {
            "bin_end": 15.8,
            "bin_start": 1,
            "count": 15
           },
           {
            "bin_end": 30.6,
            "bin_start": 15.8,
            "count": 15
           },
           {
            "bin_end": 45.400000000000006,
            "bin_start": 30.6,
            "count": 15
           },
           {
            "bin_end": 60.2,
            "bin_start": 45.400000000000006,
            "count": 15
           },
           {
            "bin_end": 75,
            "bin_start": 60.2,
            "count": 14
           },
           {
            "bin_end": 89.80000000000001,
            "bin_start": 75,
            "count": 15
           },
           {
            "bin_end": 104.60000000000001,
            "bin_start": 89.80000000000001,
            "count": 15
           },
           {
            "bin_end": 119.4,
            "bin_start": 104.60000000000001,
            "count": 15
           },
           {
            "bin_end": 134.20000000000002,
            "bin_start": 119.4,
            "count": 15
           },
           {
            "bin_end": 149,
            "bin_start": 134.20000000000002,
            "count": 15
           }
          ],
          "max": "149",
          "min": "1",
          "nan_count": 0,
          "unique_count": 140
         }
        },
        {
         "dtype": "int64",
         "name": "_deepnote_index_column"
        }
       ],
       "row_count": 149,
       "rows": [
        {
         "Euclidean": 0.447214,
         "Id": 46,
         "PetalLengthCm": 1.4,
         "PetalWidthCm": 0.3,
         "SepalLengthCm": 4.8,
         "SepalWidthCm": 3,
         "Species": "Iris-setosa",
         "_deepnote_index_column": 10,
         "ranking": 11
        },
        {
         "Euclidean": 0.458258,
         "Id": 23,
         "PetalLengthCm": 1,
         "PetalWidthCm": 0.2,
         "SepalLengthCm": 4.6,
         "SepalWidthCm": 3.6,
         "Species": "Iris-setosa",
         "_deepnote_index_column": 11,
         "ranking": 12
        },
        {
         "Euclidean": 0.458258,
         "Id": 5,
         "PetalLengthCm": 1.4,
         "PetalWidthCm": 0.2,
         "SepalLengthCm": 5,
         "SepalWidthCm": 3.6,
         "Species": "Iris-setosa",
         "_deepnote_index_column": 12,
         "ranking": 13
        },
        {
         "Euclidean": 0.458258,
         "Id": 27,
         "PetalLengthCm": 1.6,
         "PetalWidthCm": 0.4,
         "SepalLengthCm": 5,
         "SepalWidthCm": 3.4,
         "Species": "Iris-setosa",
         "_deepnote_index_column": 13,
         "ranking": 13
        },
        {
         "Euclidean": 0.469042,
         "Id": 39,
         "PetalLengthCm": 1.3,
         "PetalWidthCm": 0.2,
         "SepalLengthCm": 4.4,
         "SepalWidthCm": 3,
         "Species": "Iris-setosa",
         "_deepnote_index_column": 14,
         "ranking": 15
        },
        {
         "Euclidean": 0.479583,
         "Id": 10,
         "PetalLengthCm": 1.5,
         "PetalWidthCm": 0.1,
         "SepalLengthCm": 4.9,
         "SepalWidthCm": 3.1,
         "Species": "Iris-setosa",
         "_deepnote_index_column": 15,
         "ranking": 16
        },
        {
         "Euclidean": 0.479583,
         "Id": 35,
         "PetalLengthCm": 1.5,
         "PetalWidthCm": 0.1,
         "SepalLengthCm": 4.9,
         "SepalWidthCm": 3.1,
         "Species": "Iris-setosa",
         "_deepnote_index_column": 16,
         "ranking": 16
        },
        {
         "Euclidean": 0.479583,
         "Id": 38,
         "PetalLengthCm": 1.5,
         "PetalWidthCm": 0.1,
         "SepalLengthCm": 4.9,
         "SepalWidthCm": 3.1,
         "Species": "Iris-setosa",
         "_deepnote_index_column": 17,
         "ranking": 16
        },
        {
         "Euclidean": 0.489898,
         "Id": 13,
         "PetalLengthCm": 1.4,
         "PetalWidthCm": 0.1,
         "SepalLengthCm": 4.8,
         "SepalWidthCm": 3,
         "Species": "Iris-setosa",
         "_deepnote_index_column": 18,
         "ranking": 19
        },
        {
         "Euclidean": 0.5,
         "Id": 36,
         "PetalLengthCm": 1.2,
         "PetalWidthCm": 0.2,
         "SepalLengthCm": 5,
         "SepalWidthCm": 3.2,
         "Species": "Iris-setosa",
         "_deepnote_index_column": 19,
         "ranking": 20
        }
       ]
      },
      "text/html": [
       "<div>\n",
       "<style scoped>\n",
       "    .dataframe tbody tr th:only-of-type {\n",
       "        vertical-align: middle;\n",
       "    }\n",
       "\n",
       "    .dataframe tbody tr th {\n",
       "        vertical-align: top;\n",
       "    }\n",
       "\n",
       "    .dataframe thead th {\n",
       "        text-align: right;\n",
       "    }\n",
       "</style>\n",
       "<table border=\"1\" class=\"dataframe\">\n",
       "  <thead>\n",
       "    <tr style=\"text-align: right;\">\n",
       "      <th></th>\n",
       "      <th>Id</th>\n",
       "      <th>SepalLengthCm</th>\n",
       "      <th>SepalWidthCm</th>\n",
       "      <th>PetalLengthCm</th>\n",
       "      <th>PetalWidthCm</th>\n",
       "      <th>Species</th>\n",
       "      <th>Euclidean</th>\n",
       "      <th>ranking</th>\n",
       "    </tr>\n",
       "  </thead>\n",
       "  <tbody>\n",
       "    <tr>\n",
       "      <th>0</th>\n",
       "      <td>48</td>\n",
       "      <td>4.6</td>\n",
       "      <td>3.2</td>\n",
       "      <td>1.4</td>\n",
       "      <td>0.2</td>\n",
       "      <td>Iris-setosa</td>\n",
       "      <td>0.223607</td>\n",
       "      <td>1</td>\n",
       "    </tr>\n",
       "    <tr>\n",
       "      <th>1</th>\n",
       "      <td>3</td>\n",
       "      <td>4.7</td>\n",
       "      <td>3.2</td>\n",
       "      <td>1.3</td>\n",
       "      <td>0.2</td>\n",
       "      <td>Iris-setosa</td>\n",
       "      <td>0.264575</td>\n",
       "      <td>2</td>\n",
       "    </tr>\n",
       "    <tr>\n",
       "      <th>2</th>\n",
       "      <td>12</td>\n",
       "      <td>4.8</td>\n",
       "      <td>3.4</td>\n",
       "      <td>1.6</td>\n",
       "      <td>0.2</td>\n",
       "      <td>Iris-setosa</td>\n",
       "      <td>0.300000</td>\n",
       "      <td>3</td>\n",
       "    </tr>\n",
       "    <tr>\n",
       "      <th>3</th>\n",
       "      <td>43</td>\n",
       "      <td>4.4</td>\n",
       "      <td>3.2</td>\n",
       "      <td>1.3</td>\n",
       "      <td>0.2</td>\n",
       "      <td>Iris-setosa</td>\n",
       "      <td>0.316228</td>\n",
       "      <td>4</td>\n",
       "    </tr>\n",
       "    <tr>\n",
       "      <th>4</th>\n",
       "      <td>30</td>\n",
       "      <td>4.7</td>\n",
       "      <td>3.2</td>\n",
       "      <td>1.6</td>\n",
       "      <td>0.2</td>\n",
       "      <td>Iris-setosa</td>\n",
       "      <td>0.316228</td>\n",
       "      <td>5</td>\n",
       "    </tr>\n",
       "    <tr>\n",
       "      <th>...</th>\n",
       "      <td>...</td>\n",
       "      <td>...</td>\n",
       "      <td>...</td>\n",
       "      <td>...</td>\n",
       "      <td>...</td>\n",
       "      <td>...</td>\n",
       "      <td>...</td>\n",
       "      <td>...</td>\n",
       "    </tr>\n",
       "    <tr>\n",
       "      <th>144</th>\n",
       "      <td>132</td>\n",
       "      <td>7.9</td>\n",
       "      <td>3.8</td>\n",
       "      <td>6.4</td>\n",
       "      <td>2.0</td>\n",
       "      <td>Iris-virginica</td>\n",
       "      <td>6.240190</td>\n",
       "      <td>145</td>\n",
       "    </tr>\n",
       "    <tr>\n",
       "      <th>145</th>\n",
       "      <td>106</td>\n",
       "      <td>7.6</td>\n",
       "      <td>3.0</td>\n",
       "      <td>6.6</td>\n",
       "      <td>2.1</td>\n",
       "      <td>Iris-virginica</td>\n",
       "      <td>6.280130</td>\n",
       "      <td>146</td>\n",
       "    </tr>\n",
       "    <tr>\n",
       "      <th>146</th>\n",
       "      <td>123</td>\n",
       "      <td>7.7</td>\n",
       "      <td>2.8</td>\n",
       "      <td>6.7</td>\n",
       "      <td>2.0</td>\n",
       "      <td>Iris-virginica</td>\n",
       "      <td>6.399220</td>\n",
       "      <td>147</td>\n",
       "    </tr>\n",
       "    <tr>\n",
       "      <th>147</th>\n",
       "      <td>118</td>\n",
       "      <td>7.7</td>\n",
       "      <td>3.8</td>\n",
       "      <td>6.7</td>\n",
       "      <td>2.2</td>\n",
       "      <td>Iris-virginica</td>\n",
       "      <td>6.439720</td>\n",
       "      <td>148</td>\n",
       "    </tr>\n",
       "    <tr>\n",
       "      <th>148</th>\n",
       "      <td>119</td>\n",
       "      <td>7.7</td>\n",
       "      <td>2.6</td>\n",
       "      <td>6.9</td>\n",
       "      <td>2.3</td>\n",
       "      <td>Iris-virginica</td>\n",
       "      <td>6.670830</td>\n",
       "      <td>149</td>\n",
       "    </tr>\n",
       "  </tbody>\n",
       "</table>\n",
       "<p>149 rows × 8 columns</p>\n",
       "</div>"
      ],
      "text/plain": [
       "      Id  SepalLengthCm  SepalWidthCm  PetalLengthCm  PetalWidthCm  \\\n",
       "0     48            4.6           3.2            1.4           0.2   \n",
       "1      3            4.7           3.2            1.3           0.2   \n",
       "2     12            4.8           3.4            1.6           0.2   \n",
       "3     43            4.4           3.2            1.3           0.2   \n",
       "4     30            4.7           3.2            1.6           0.2   \n",
       "..   ...            ...           ...            ...           ...   \n",
       "144  132            7.9           3.8            6.4           2.0   \n",
       "145  106            7.6           3.0            6.6           2.1   \n",
       "146  123            7.7           2.8            6.7           2.0   \n",
       "147  118            7.7           3.8            6.7           2.2   \n",
       "148  119            7.7           2.6            6.9           2.3   \n",
       "\n",
       "            Species  Euclidean  ranking  \n",
       "0       Iris-setosa   0.223607        1  \n",
       "1       Iris-setosa   0.264575        2  \n",
       "2       Iris-setosa   0.300000        3  \n",
       "3       Iris-setosa   0.316228        4  \n",
       "4       Iris-setosa   0.316228        5  \n",
       "..              ...        ...      ...  \n",
       "144  Iris-virginica   6.240190      145  \n",
       "145  Iris-virginica   6.280130      146  \n",
       "146  Iris-virginica   6.399220      147  \n",
       "147  Iris-virginica   6.439720      148  \n",
       "148  Iris-virginica   6.670830      149  \n",
       "\n",
       "[149 rows x 8 columns]"
      ]
     },
     "execution_count": 8,
     "metadata": {},
     "output_type": "execute_result"
    }
   ],
   "outputs_reference": "s3:deepnote-cell-outputs-production/9bb6aa0d-ce00-4b51-9a45-46cf46ba7b67",
   "source": [
    "df_30 = _deepnote_execute_sql('SELECT * FROM perhitunganKnn ORDER BY ranking ASC', 'SQL_0588F7A5_1B73_498D_A102_830B1FAEB649', audit_sql_comment='', sql_cache_mode='cache_disabled')\n",
    "df_30"
   ]
  },
  {
   "block_group": "9fdc2a79ce804ff8ac45ac74c80b8315",
   "cell_type": "markdown",
   "metadata": {
    "cell_id": "26eb342bf1054195b3a23352398a59fd",
    "deepnote_cell_type": "text-cell-p",
    "formattedRanges": []
   },
   "source": [
    "Pada table diatas, dapat kita lihat hasil perhitungan menggunakan metode Euclidean Distance sehingga akan ditampilkan tetangga terdekat dari missing values yaitu iris-setosa dengan rank terdekat. Maka kita akan isi species yang terdapat missing value dengan tetangga terdekatnya."
   ]
  },
  {
   "block_group": "cc9c90328ad446e294b501aa9f0f879b",
   "cell_type": "markdown",
   "metadata": {
    "cell_id": "57d4906b8517494b890ff11c50b65516",
    "deepnote_cell_type": "text-cell-h3",
    "formattedRanges": []
   },
   "source": [
    "### Imputasi Missing Values"
   ]
  },
  {
   "block_group": "4b2935193f4a4b1b8d6b03db8833526a",
   "cell_type": "markdown",
   "metadata": {
    "cell_id": "26099159b24041ce9de6bb5b26fc7b3d",
    "deepnote_cell_type": "text-cell-p",
    "formattedRanges": []
   },
   "source": [
    "Kita lakukan update pada database untuk mengisi missing value yang diskenariokan tadi"
   ]
  },
  {
   "block_group": "4e631871afac48bc9c02133c481f8c51",
   "cell_type": "code",
   "execution_count": null,
   "metadata": {
    "cell_id": "11cca4fabd5543f2afe1bf0d73b6b6ac",
    "deepnote_cell_type": "sql",
    "deepnote_sql_source": "UPDATE preminknn set species = 'Iris-setosa' where species is NULL",
    "deepnote_to_be_reexecuted": false,
    "deepnote_variable_name": "df_31",
    "execution_millis": 3890,
    "execution_start": 1710258276768,
    "source_hash": null,
    "sql_integration_id": "e83c161a-c437-4e4c-8544-e318581c8846"
   },
   "outputs": [],
   "outputs_reference": null,
   "source": [
    "df_31 = _deepnote_execute_sql('UPDATE preminknn set species = \\'Iris-setosa\\' where species is NULL', 'SQL_E83C161A_C437_4E4C_8544_E318581C8846', audit_sql_comment='', sql_cache_mode='cache_disabled')\n",
    "df_31"
   ]
  },
  {
   "block_group": "ecdda3825cd04759928bb77d15f7c240",
   "cell_type": "code",
   "execution_count": null,
   "metadata": {
    "cell_id": "ae84d5d3cb3047c883594200185e4536",
    "deepnote_cell_type": "sql",
    "deepnote_sql_source": "UPDATE preminknn set species = 'Iris-setosa' where Species is NULL",
    "deepnote_to_be_reexecuted": false,
    "deepnote_variable_name": "df_32",
    "execution_millis": 3475,
    "execution_start": 1710258463733,
    "source_hash": null,
    "sql_integration_id": "0588f7a5-1b73-498d-a102-830b1faeb649"
   },
   "outputs": [],
   "outputs_reference": null,
   "source": [
    "df_32 = _deepnote_execute_sql('UPDATE preminknn set species = \\'Iris-setosa\\' where Species is NULL', 'SQL_0588F7A5_1B73_498D_A102_830B1FAEB649', audit_sql_comment='', sql_cache_mode='cache_disabled')\n",
    "df_32"
   ]
  },
  {
   "block_group": "ab78d3dd74124939be2e34acad0976e0",
   "cell_type": "markdown",
   "metadata": {
    "cell_id": "04e07f008d024c8f9f6747375f68810e",
    "deepnote_cell_type": "text-cell-p",
    "formattedRanges": []
   },
   "source": [
    "lakukan update pada dataframe"
   ]
  },
  {
   "block_group": "c4288ddfbad7495faefaca6b3b23b584",
   "cell_type": "code",
   "execution_count": null,
   "metadata": {
    "cell_id": "9088395b6a2041d2aaaae0c89a1aae3b",
    "deepnote_cell_type": "code",
    "deepnote_to_be_reexecuted": false,
    "execution_millis": 3959,
    "execution_start": 1710943453255,
    "source_hash": null
   },
   "outputs": [
    {
     "name": "stderr",
     "output_type": "stream",
     "text": [
      "/tmp/ipykernel_40/3681309599.py:23: UserWarning: pandas only supports SQLAlchemy connectable (engine/connection) or database string URI or sqlite3 DBAPI2 connection. Other DBAPI2 objects are not tested. Please consider using SQLAlchemy.\n",
      "  data_sql_knn = pd.read_sql(sql_query2, sql_connection)\n",
      "/tmp/ipykernel_40/3681309599.py:28: UserWarning: pandas only supports SQLAlchemy connectable (engine/connection) or database string URI or sqlite3 DBAPI2 connection. Other DBAPI2 objects are not tested. Please consider using SQLAlchemy.\n",
      "  data_postgres_knn = pd.read_sql(postgres_query2, postgres_connection)\n"
     ]
    }
   ],
   "outputs_reference": "dbtable:cell_outputs/20750b53-1c50-4414-94fb-c01c5a0a15f7",
   "source": [
    "import pandas as pd\n",
    "import mysql.connector\n",
    "import psycopg2\n",
    "\n",
    "sql_connection = mysql.connector.connect(\n",
    "    host=\"datamining2-widiya22063.a.aivencloud.com\",\n",
    "    user=\"avnadmin\",\n",
    "    password=\"AVNS_zh-wEX0C7VGAmX7jB3J\",\n",
    "    port = \"27022\",\n",
    "    database=\"db_datairish\"\n",
    ")\n",
    "\n",
    "postgres_connection = psycopg2.connect(\n",
    "    host=\"datamining-widiya22063.a.aivencloud.com\",\n",
    "    database=\"db_datapostgree\",\n",
    "    user=\"avnadmin\",\n",
    "    port=\"27022\",\n",
    "    password=\"AVNS_mLPV9Vh_YdFtx_Zk7Pr\"\n",
    ")\n",
    "\n",
    "\n",
    "sql_query2 = \"SELECT * FROM preminknn\"\n",
    "data_sql_knn = pd.read_sql(sql_query2, sql_connection)\n",
    "\n",
    "\n",
    "\n",
    "postgres_query2 = \"SELECT * FROM preminknn\"\n",
    "data_postgres_knn = pd.read_sql(postgres_query2, postgres_connection)"
   ]
  },
  {
   "block_group": "dae48dddad0e47019b04aa92ea6e7011",
   "cell_type": "markdown",
   "metadata": {
    "cell_id": "be711fa37f1c4e9ab00b31d908926b98",
    "deepnote_cell_type": "text-cell-p",
    "formattedRanges": []
   },
   "source": [
    "lalu menampilkan dataframe untuk memastikan masih ada missing values atau tidak"
   ]
  },
  {
   "block_group": "621efd67b36c4337b615d0dc4e1b5b2f",
   "cell_type": "code",
   "execution_count": null,
   "metadata": {
    "cell_id": "dff74384a9f04375b037d5e7c3b4803d",
    "deepnote_cell_type": "sql",
    "deepnote_sql_source": "SELECT * FROM data_postgres_knn INNER JOIN data_sql_knn ON data_postgres_knn.id = data_sql_knn.id",
    "deepnote_to_be_reexecuted": false,
    "deepnote_variable_name": "df_33",
    "execution_millis": 307,
    "execution_start": 1710943462846,
    "source_hash": null,
    "sql_integration_id": "deepnote-dataframe-sql"
   },
   "outputs": [
    {
     "data": {
      "application/vnd.deepnote.dataframe.v3+json": {
       "column_count": 8,
       "columns": [
        {
         "dtype": "int64",
         "name": "id",
         "stats": {
          "histogram": [
           {
            "bin_end": 15.9,
            "bin_start": 1,
            "count": 15
           },
           {
            "bin_end": 30.8,
            "bin_start": 15.9,
            "count": 15
           },
           {
            "bin_end": 45.7,
            "bin_start": 30.8,
            "count": 15
           },
           {
            "bin_end": 60.6,
            "bin_start": 45.7,
            "count": 15
           },
           {
            "bin_end": 75.5,
            "bin_start": 60.6,
            "count": 15
           },
           {
            "bin_end": 90.4,
            "bin_start": 75.5,
            "count": 15
           },
           {
            "bin_end": 105.3,
            "bin_start": 90.4,
            "count": 15
           },
           {
            "bin_end": 120.2,
            "bin_start": 105.3,
            "count": 15
           },
           {
            "bin_end": 135.1,
            "bin_start": 120.2,
            "count": 15
           },
           {
            "bin_end": 150,
            "bin_start": 135.1,
            "count": 15
           }
          ],
          "max": "150",
          "min": "1",
          "nan_count": 0,
          "unique_count": 150
         }
        },
        {
         "dtype": "float64",
         "name": "petallengthcm",
         "stats": {
          "histogram": [
           {
            "bin_end": 1.59,
            "bin_start": 1,
            "count": 37
           },
           {
            "bin_end": 2.18,
            "bin_start": 1.59,
            "count": 13
           },
           {
            "bin_end": 2.7700000000000005,
            "bin_start": 2.18,
            "count": 0
           },
           {
            "bin_end": 3.3600000000000003,
            "bin_start": 2.7700000000000005,
            "count": 3
           },
           {
            "bin_end": 3.95,
            "bin_start": 3.3600000000000003,
            "count": 8
           },
           {
            "bin_end": 4.540000000000001,
            "bin_start": 3.95,
            "count": 26
           },
           {
            "bin_end": 5.130000000000001,
            "bin_start": 4.540000000000001,
            "count": 29
           },
           {
            "bin_end": 5.720000000000001,
            "bin_start": 5.130000000000001,
            "count": 18
           },
           {
            "bin_end": 6.3100000000000005,
            "bin_start": 5.720000000000001,
            "count": 11
           },
           {
            "bin_end": 6.9,
            "bin_start": 6.3100000000000005,
            "count": 5
           }
          ],
          "max": "6.9",
          "min": "1.0",
          "nan_count": 0,
          "unique_count": 43
         }
        },
        {
         "dtype": "float64",
         "name": "petalwidthcm",
         "stats": {
          "histogram": [
           {
            "bin_end": 0.33999999999999997,
            "bin_start": 0.1,
            "count": 41
           },
           {
            "bin_end": 0.58,
            "bin_start": 0.33999999999999997,
            "count": 8
           },
           {
            "bin_end": 0.82,
            "bin_start": 0.58,
            "count": 1
           },
           {
            "bin_end": 1.06,
            "bin_start": 0.82,
            "count": 7
           },
           {
            "bin_end": 1.3,
            "bin_start": 1.06,
            "count": 8
           },
           {
            "bin_end": 1.54,
            "bin_start": 1.3,
            "count": 33
           },
           {
            "bin_end": 1.78,
            "bin_start": 1.54,
            "count": 6
           },
           {
            "bin_end": 2.02,
            "bin_start": 1.78,
            "count": 23
           },
           {
            "bin_end": 2.2600000000000002,
            "bin_start": 2.02,
            "count": 9
           },
           {
            "bin_end": 2.5,
            "bin_start": 2.2600000000000002,
            "count": 14
           }
          ],
          "max": "2.5",
          "min": "0.1",
          "nan_count": 0,
          "unique_count": 22
         }
        },
        {
         "dtype": "object",
         "name": "species",
         "stats": {
          "categories": [
           {
            "count": 50,
            "name": "Iris-setosa"
           },
           {
            "count": 50,
            "name": "Iris-versicolor"
           },
           {
            "count": 50,
            "name": "Iris-virginica"
           }
          ],
          "nan_count": 0,
          "unique_count": 3
         }
        },
        {
         "dtype": "int64",
         "name": "Id",
         "stats": {
          "histogram": [
           {
            "bin_end": 15.9,
            "bin_start": 1,
            "count": 15
           },
           {
            "bin_end": 30.8,
            "bin_start": 15.9,
            "count": 15
           },
           {
            "bin_end": 45.7,
            "bin_start": 30.8,
            "count": 15
           },
           {
            "bin_end": 60.6,
            "bin_start": 45.7,
            "count": 15
           },
           {
            "bin_end": 75.5,
            "bin_start": 60.6,
            "count": 15
           },
           {
            "bin_end": 90.4,
            "bin_start": 75.5,
            "count": 15
           },
           {
            "bin_end": 105.3,
            "bin_start": 90.4,
            "count": 15
           },
           {
            "bin_end": 120.2,
            "bin_start": 105.3,
            "count": 15
           },
           {
            "bin_end": 135.1,
            "bin_start": 120.2,
            "count": 15
           },
           {
            "bin_end": 150,
            "bin_start": 135.1,
            "count": 15
           }
          ],
          "max": "150",
          "min": "1",
          "nan_count": 0,
          "unique_count": 150
         }
        },
        {
         "dtype": "float64",
         "name": "SepalLengthCm",
         "stats": {
          "histogram": [
           {
            "bin_end": 4.66,
            "bin_start": 4.3,
            "count": 9
           },
           {
            "bin_end": 5.02,
            "bin_start": 4.66,
            "count": 23
           },
           {
            "bin_end": 5.38,
            "bin_start": 5.02,
            "count": 14
           },
           {
            "bin_end": 5.74,
            "bin_start": 5.38,
            "count": 27
           },
           {
            "bin_end": 6.1,
            "bin_start": 5.74,
            "count": 16
           },
           {
            "bin_end": 6.46,
            "bin_start": 6.1,
            "count": 26
           },
           {
            "bin_end": 6.82,
            "bin_start": 6.46,
            "count": 18
           },
           {
            "bin_end": 7.18,
            "bin_start": 6.82,
            "count": 6
           },
           {
            "bin_end": 7.54,
            "bin_start": 7.18,
            "count": 5
           },
           {
            "bin_end": 7.9,
            "bin_start": 7.54,
            "count": 6
           }
          ],
          "max": "7.9",
          "min": "4.3",
          "nan_count": 0,
          "unique_count": 35
         }
        },
        {
         "dtype": "float64",
         "name": "SepalWidthCm",
         "stats": {
          "histogram": [
           {
            "bin_end": 2.24,
            "bin_start": 2,
            "count": 4
           },
           {
            "bin_end": 2.48,
            "bin_start": 2.24,
            "count": 7
           },
           {
            "bin_end": 2.72,
            "bin_start": 2.48,
            "count": 22
           },
           {
            "bin_end": 2.96,
            "bin_start": 2.72,
            "count": 24
           },
           {
            "bin_end": 3.2,
            "bin_start": 2.96,
            "count": 38
           },
           {
            "bin_end": 3.4400000000000004,
            "bin_start": 3.2,
            "count": 31
           },
           {
            "bin_end": 3.6800000000000006,
            "bin_start": 3.4400000000000004,
            "count": 9
           },
           {
            "bin_end": 3.9200000000000004,
            "bin_start": 3.6800000000000006,
            "count": 11
           },
           {
            "bin_end": 4.16,
            "bin_start": 3.9200000000000004,
            "count": 2
           },
           {
            "bin_end": 4.4,
            "bin_start": 4.16,
            "count": 2
           }
          ],
          "max": "4.4",
          "min": "2.0",
          "nan_count": 0,
          "unique_count": 23
         }
        },
        {
         "dtype": "object",
         "name": "Species",
         "stats": {
          "categories": [
           {
            "count": 50,
            "name": "Iris-setosa"
           },
           {
            "count": 50,
            "name": "Iris-versicolor"
           },
           {
            "count": 50,
            "name": "Iris-virginica"
           }
          ],
          "nan_count": 0,
          "unique_count": 3
         }
        },
        {
         "dtype": "int64",
         "name": "_deepnote_index_column"
        }
       ],
       "row_count": 150,
       "rows": [
        {
         "Id": 1,
         "SepalLengthCm": 5.1,
         "SepalWidthCm": 3.5,
         "Species": "Iris-setosa",
         "_deepnote_index_column": 0,
         "id": 1,
         "petallengthcm": 1.4,
         "petalwidthcm": 0.2,
         "species": "Iris-setosa"
        },
        {
         "Id": 2,
         "SepalLengthCm": 4.9,
         "SepalWidthCm": 3,
         "Species": "Iris-setosa",
         "_deepnote_index_column": 1,
         "id": 2,
         "petallengthcm": 1.4,
         "petalwidthcm": 0.2,
         "species": "Iris-setosa"
        },
        {
         "Id": 3,
         "SepalLengthCm": 4.7,
         "SepalWidthCm": 3.2,
         "Species": "Iris-setosa",
         "_deepnote_index_column": 2,
         "id": 3,
         "petallengthcm": 1.3,
         "petalwidthcm": 0.2,
         "species": "Iris-setosa"
        },
        {
         "Id": 4,
         "SepalLengthCm": 4.6,
         "SepalWidthCm": 3.1,
         "Species": "Iris-setosa",
         "_deepnote_index_column": 3,
         "id": 4,
         "petallengthcm": 1.5,
         "petalwidthcm": 0.2,
         "species": "Iris-setosa"
        },
        {
         "Id": 6,
         "SepalLengthCm": 5.4,
         "SepalWidthCm": 3.9,
         "Species": "Iris-setosa",
         "_deepnote_index_column": 4,
         "id": 6,
         "petallengthcm": 1.7,
         "petalwidthcm": 0.4,
         "species": "Iris-setosa"
        },
        {
         "Id": 7,
         "SepalLengthCm": 4.6,
         "SepalWidthCm": 3.4,
         "Species": "Iris-setosa",
         "_deepnote_index_column": 5,
         "id": 7,
         "petallengthcm": 1.4,
         "petalwidthcm": 0.3,
         "species": "Iris-setosa"
        },
        {
         "Id": 8,
         "SepalLengthCm": 5,
         "SepalWidthCm": 3.4,
         "Species": "Iris-setosa",
         "_deepnote_index_column": 6,
         "id": 8,
         "petallengthcm": 1.5,
         "petalwidthcm": 0.2,
         "species": "Iris-setosa"
        },
        {
         "Id": 9,
         "SepalLengthCm": 4.4,
         "SepalWidthCm": 2.9,
         "Species": "Iris-setosa",
         "_deepnote_index_column": 7,
         "id": 9,
         "petallengthcm": 1.4,
         "petalwidthcm": 0.2,
         "species": "Iris-setosa"
        },
        {
         "Id": 10,
         "SepalLengthCm": 4.9,
         "SepalWidthCm": 3.1,
         "Species": "Iris-setosa",
         "_deepnote_index_column": 8,
         "id": 10,
         "petallengthcm": 1.5,
         "petalwidthcm": 0.1,
         "species": "Iris-setosa"
        },
        {
         "Id": 11,
         "SepalLengthCm": 5.4,
         "SepalWidthCm": 3.7,
         "Species": "Iris-setosa",
         "_deepnote_index_column": 9,
         "id": 11,
         "petallengthcm": 1.5,
         "petalwidthcm": 0.2,
         "species": "Iris-setosa"
        }
       ]
      },
      "text/html": [
       "<div>\n",
       "<style scoped>\n",
       "    .dataframe tbody tr th:only-of-type {\n",
       "        vertical-align: middle;\n",
       "    }\n",
       "\n",
       "    .dataframe tbody tr th {\n",
       "        vertical-align: top;\n",
       "    }\n",
       "\n",
       "    .dataframe thead th {\n",
       "        text-align: right;\n",
       "    }\n",
       "</style>\n",
       "<table border=\"1\" class=\"dataframe\">\n",
       "  <thead>\n",
       "    <tr style=\"text-align: right;\">\n",
       "      <th></th>\n",
       "      <th>id</th>\n",
       "      <th>petallengthcm</th>\n",
       "      <th>petalwidthcm</th>\n",
       "      <th>species</th>\n",
       "      <th>Id</th>\n",
       "      <th>SepalLengthCm</th>\n",
       "      <th>SepalWidthCm</th>\n",
       "      <th>Species</th>\n",
       "    </tr>\n",
       "  </thead>\n",
       "  <tbody>\n",
       "    <tr>\n",
       "      <th>0</th>\n",
       "      <td>1</td>\n",
       "      <td>1.4</td>\n",
       "      <td>0.2</td>\n",
       "      <td>Iris-setosa</td>\n",
       "      <td>1</td>\n",
       "      <td>5.1</td>\n",
       "      <td>3.5</td>\n",
       "      <td>Iris-setosa</td>\n",
       "    </tr>\n",
       "    <tr>\n",
       "      <th>1</th>\n",
       "      <td>2</td>\n",
       "      <td>1.4</td>\n",
       "      <td>0.2</td>\n",
       "      <td>Iris-setosa</td>\n",
       "      <td>2</td>\n",
       "      <td>4.9</td>\n",
       "      <td>3.0</td>\n",
       "      <td>Iris-setosa</td>\n",
       "    </tr>\n",
       "    <tr>\n",
       "      <th>2</th>\n",
       "      <td>3</td>\n",
       "      <td>1.3</td>\n",
       "      <td>0.2</td>\n",
       "      <td>Iris-setosa</td>\n",
       "      <td>3</td>\n",
       "      <td>4.7</td>\n",
       "      <td>3.2</td>\n",
       "      <td>Iris-setosa</td>\n",
       "    </tr>\n",
       "    <tr>\n",
       "      <th>3</th>\n",
       "      <td>4</td>\n",
       "      <td>1.5</td>\n",
       "      <td>0.2</td>\n",
       "      <td>Iris-setosa</td>\n",
       "      <td>4</td>\n",
       "      <td>4.6</td>\n",
       "      <td>3.1</td>\n",
       "      <td>Iris-setosa</td>\n",
       "    </tr>\n",
       "    <tr>\n",
       "      <th>4</th>\n",
       "      <td>6</td>\n",
       "      <td>1.7</td>\n",
       "      <td>0.4</td>\n",
       "      <td>Iris-setosa</td>\n",
       "      <td>6</td>\n",
       "      <td>5.4</td>\n",
       "      <td>3.9</td>\n",
       "      <td>Iris-setosa</td>\n",
       "    </tr>\n",
       "    <tr>\n",
       "      <th>...</th>\n",
       "      <td>...</td>\n",
       "      <td>...</td>\n",
       "      <td>...</td>\n",
       "      <td>...</td>\n",
       "      <td>...</td>\n",
       "      <td>...</td>\n",
       "      <td>...</td>\n",
       "      <td>...</td>\n",
       "    </tr>\n",
       "    <tr>\n",
       "      <th>145</th>\n",
       "      <td>104</td>\n",
       "      <td>5.6</td>\n",
       "      <td>1.8</td>\n",
       "      <td>Iris-virginica</td>\n",
       "      <td>104</td>\n",
       "      <td>6.3</td>\n",
       "      <td>2.9</td>\n",
       "      <td>Iris-virginica</td>\n",
       "    </tr>\n",
       "    <tr>\n",
       "      <th>146</th>\n",
       "      <td>115</td>\n",
       "      <td>5.1</td>\n",
       "      <td>2.4</td>\n",
       "      <td>Iris-virginica</td>\n",
       "      <td>115</td>\n",
       "      <td>5.8</td>\n",
       "      <td>2.8</td>\n",
       "      <td>Iris-virginica</td>\n",
       "    </tr>\n",
       "    <tr>\n",
       "      <th>147</th>\n",
       "      <td>142</td>\n",
       "      <td>5.1</td>\n",
       "      <td>2.3</td>\n",
       "      <td>Iris-virginica</td>\n",
       "      <td>142</td>\n",
       "      <td>6.9</td>\n",
       "      <td>3.1</td>\n",
       "      <td>Iris-virginica</td>\n",
       "    </tr>\n",
       "    <tr>\n",
       "      <th>148</th>\n",
       "      <td>143</td>\n",
       "      <td>5.1</td>\n",
       "      <td>1.9</td>\n",
       "      <td>Iris-virginica</td>\n",
       "      <td>143</td>\n",
       "      <td>5.8</td>\n",
       "      <td>2.7</td>\n",
       "      <td>Iris-virginica</td>\n",
       "    </tr>\n",
       "    <tr>\n",
       "      <th>149</th>\n",
       "      <td>74</td>\n",
       "      <td>4.7</td>\n",
       "      <td>1.2</td>\n",
       "      <td>Iris-versicolor</td>\n",
       "      <td>74</td>\n",
       "      <td>6.1</td>\n",
       "      <td>2.8</td>\n",
       "      <td>Iris-versicolor</td>\n",
       "    </tr>\n",
       "  </tbody>\n",
       "</table>\n",
       "<p>150 rows × 8 columns</p>\n",
       "</div>"
      ],
      "text/plain": [
       "      id  petallengthcm  petalwidthcm          species   Id  SepalLengthCm  \\\n",
       "0      1            1.4           0.2      Iris-setosa    1            5.1   \n",
       "1      2            1.4           0.2      Iris-setosa    2            4.9   \n",
       "2      3            1.3           0.2      Iris-setosa    3            4.7   \n",
       "3      4            1.5           0.2      Iris-setosa    4            4.6   \n",
       "4      6            1.7           0.4      Iris-setosa    6            5.4   \n",
       "..   ...            ...           ...              ...  ...            ...   \n",
       "145  104            5.6           1.8   Iris-virginica  104            6.3   \n",
       "146  115            5.1           2.4   Iris-virginica  115            5.8   \n",
       "147  142            5.1           2.3   Iris-virginica  142            6.9   \n",
       "148  143            5.1           1.9   Iris-virginica  143            5.8   \n",
       "149   74            4.7           1.2  Iris-versicolor   74            6.1   \n",
       "\n",
       "     SepalWidthCm          Species  \n",
       "0             3.5      Iris-setosa  \n",
       "1             3.0      Iris-setosa  \n",
       "2             3.2      Iris-setosa  \n",
       "3             3.1      Iris-setosa  \n",
       "4             3.9      Iris-setosa  \n",
       "..            ...              ...  \n",
       "145           2.9   Iris-virginica  \n",
       "146           2.8   Iris-virginica  \n",
       "147           3.1   Iris-virginica  \n",
       "148           2.7   Iris-virginica  \n",
       "149           2.8  Iris-versicolor  \n",
       "\n",
       "[150 rows x 8 columns]"
      ]
     },
     "execution_count": 6,
     "metadata": {},
     "output_type": "execute_result"
    }
   ],
   "outputs_reference": "s3:deepnote-cell-outputs-production/7b4014ea-b101-4056-a604-2539e481dc6e",
   "source": [
    "df_33 = _deepnote_execute_sql('SELECT * FROM data_postgres_knn INNER JOIN data_sql_knn ON data_postgres_knn.id = data_sql_knn.id', 'SQL_DEEPNOTE_DATAFRAME_SQL', audit_sql_comment='', sql_cache_mode='cache_disabled')\n",
    "df_33"
   ]
  },
  {
   "block_group": "837892899a5940749282cac4de633848",
   "cell_type": "markdown",
   "metadata": {
    "cell_id": "438edf4aae694a1b90022bb4fa8cb319",
    "deepnote_cell_type": "text-cell-h2",
    "formattedRanges": []
   },
   "source": [
    "## DETEKSI OUTLIER(LOCAL OUTLIER FACTOR)"
   ]
  },
  {
   "block_group": "31bb27ec714b4587a66c7c6745b8e6f2",
   "cell_type": "markdown",
   "metadata": {
    "cell_id": "3dcde8f5e4b74d80b59c38c8c21ea159",
    "deepnote_cell_type": "text-cell-h3",
    "formattedRanges": []
   },
   "source": [
    "### Teori Konsep OutIier"
   ]
  },
  {
   "block_group": "02190a0a5e9241c796459dad05df26cc",
   "cell_type": "markdown",
   "metadata": {
    "cell_id": "efc6d35d1d0848dfb4782373dafc23cf",
    "deepnote_cell_type": "text-cell-p",
    "formattedRanges": []
   },
   "source": [
    "Outlier adalah titik data yang secara signifikan berbeda dari mayoritas data lainnya dalam sebuah set data. Ini seperti \"poin aneh\" yang berada jauh dari mayoritas data. Pada dasarnya, outlier adalah nilai yang tidak biasa atau tidak terduga dalam data. Contohnya, jika Anda memiliki data tentang tinggi badan siswa dalam sebuah kelas, mayoritas siswa mungkin memiliki tinggi antara 150 cm hingga 180 cm, tetapi jika ada seorang siswa yang memiliki tinggi 220 cm, maka tinggi siswa ini dapat dianggap sebagai outlier."
   ]
  },
  {
   "block_group": "6dacc9c06ca94183a86895a56748b2f3",
   "cell_type": "markdown",
   "metadata": {
    "cell_id": "5b6ac002072a4e80a11e62f91272fd1b",
    "deepnote_cell_type": "text-cell-p",
    "formattedRanges": []
   },
   "source": [
    "Outlier bisa muncul karena beberapa alasan, misalnya kesalahan dalam pengukuran, kesalahan input data, atau adanya variasi alami yang ekstrim dalam populasi yang diamati. Terkadang outlier adalah hasil dari kejadian yang tidak biasa atau jarang terjadi."
   ]
  },
  {
   "block_group": "351b890061964c7c854bc8905094b728",
   "cell_type": "markdown",
   "metadata": {
    "cell_id": "2ad17043ac2b4b4eb22f92ecc27021d6",
    "deepnote_cell_type": "text-cell-p",
    "formattedRanges": []
   },
   "source": [
    "Mengidentifikasi dan menangani outlier penting karena outlier bisa mempengaruhi hasil analisis data secara keseluruhan. Misalnya, dalam statistik deskriptif, nilai rata-rata (mean) dapat sangat dipengaruhi oleh keberadaan outlier. Outlier juga dapat mempengaruhi model prediksi dalam pembelajaran mesin karena model tersebut dapat mencoba untuk \"mempelajari\" pola dari outlier yang tidak representatif."
   ]
  },
  {
   "block_group": "213e75371cf940d6b875984e86d6bb87",
   "cell_type": "markdown",
   "metadata": {
    "cell_id": "1c025939d3254c05a32df428e7fc7bd6",
    "deepnote_cell_type": "text-cell-h2",
    "formattedRanges": []
   },
   "source": [
    "## Teori Konsep Local Outlier Factor"
   ]
  },
  {
   "block_group": "b36970bbbe134c2891d95a1789c5fdf4",
   "cell_type": "markdown",
   "metadata": {
    "cell_id": "a6387f1b6b124fb2b279158ce575f190",
    "deepnote_cell_type": "text-cell-p",
    "formattedRanges": []
   },
   "source": [
    "Local Outlier Factor (LOF) adalah metode yang digunakan untuk mendeteksi outlier dalam data berdasarkan konsep kepadatan lokal. LOF mengukur seberapa jauh suatu data point berbeda dari kebanyakan data point di sekitarnya."
   ]
  },
  {
   "block_group": "f94975d013ce4b02948fcaaba5ef42a8",
   "cell_type": "markdown",
   "metadata": {
    "cell_id": "e5e7954a16104a918232967f7bec9595",
    "deepnote_cell_type": "text-cell-p",
    "formattedRanges": []
   },
   "source": [
    "1. Konsep Dasar:\r\n",
    "   LOF mempertimbangkan kepadatan data point dalam sekelompok data. Data point yang memiliki kepadatan yang rendah dibandingkan dengan kepadatan sekitarnya cenderung menjadi outlier. Ide dasarnya adalah bahwa outlier adalah data point yang terisolasi atau berada di daerah yang kurang padat."
   ]
  },
  {
   "block_group": "ecf1bb53583a4698a28000b650633fa9",
   "cell_type": "markdown",
   "metadata": {
    "cell_id": "4833196943614cd5aa6f37d0bd44e7f8",
    "deepnote_cell_type": "text-cell-p",
    "formattedRanges": []
   },
   "source": [
    "2. Perhitungan LOF:\r\n",
    "   Untuk menghitung LOF suatu data point, langkah-langkah berikut dilakukan:\r\n",
    "   - Tentukan jarak antara data point yang ingin dinilai dengan data point lain di sekitarnya.\r\n",
    "   - Hitung kepadatan lokal dari data point yang ingin dinilai dengan membandingkan jaraknya dengan data point tetangganya.\r\n",
    "   - Bandingkan kepadatan lokal data point tersebut dengan kepadatan lokal dari tetangga-tetangganya untuk mendapatkan nilai LOF."
   ]
  },
  {
   "block_group": "bb5e127c3aae446aa38432ff3bbe44e9",
   "cell_type": "markdown",
   "metadata": {
    "cell_id": "972026900ef042daa8c467d669a30e9f",
    "deepnote_cell_type": "text-cell-p",
    "formattedRanges": []
   },
   "source": [
    "3. Interpretasi LOF:\r\n",
    "   Nilai LOF yang tinggi menunjukkan bahwa data point memiliki kepadatan yang rendah dibandingkan dengan tetangganya, yang mengindikasikan bahwa data point tersebut mungkin merupakan outlier. Sebaliknya, nilai LOF yang rendah menunjukkan bahwa data point memiliki kepadatan yang mirip dengan tetangganya."
   ]
  },
  {
   "block_group": "5ab2ffa06995408e8ac1513ddbe3c50c",
   "cell_type": "markdown",
   "metadata": {
    "cell_id": "809d7a62459241899d1ac639d77b35a8",
    "deepnote_cell_type": "text-cell-p",
    "formattedRanges": []
   },
   "source": [
    "4. Penggunaan LOF:\r\n",
    "   LOF dapat digunakan dalam berbagai aplikasi, seperti deteksi anomali dalam data keuangan, deteksi gangguan dalam jaringan komputer, atau identifikasi pola tidak biasa dalam data ilmiah."
   ]
  },
  {
   "block_group": "00c3f507a4a44837a283c0debf539892",
   "cell_type": "markdown",
   "metadata": {
    "cell_id": "9efca208757e47409b15aae14ebad24e",
    "deepnote_cell_type": "text-cell-p",
    "formattedRanges": []
   },
   "source": [
    "LOF adalah metode yang kuat untuk mendeteksi outlier dalam data, terutama ketika data memiliki struktur yang kompleks dan tidak teratur. Namun, seperti halnya dengan semua metode deteksi outlier, pengguna perlu memahami konteks data dan menginterpretasikan hasil dengan hati-hati."
   ]
  },
  {
   "block_group": "401f6aa1ef2047bdbe5593fef9df85e6",
   "cell_type": "markdown",
   "metadata": {
    "cell_id": "4b894659f2ab489bbf50f3ec5972a503",
    "deepnote_cell_type": "text-cell-h3",
    "formattedRanges": []
   },
   "source": [
    "### Menghitung Manual local Outlier factor"
   ]
  },
  {
   "block_group": "36844cd5b2014871a2341b9302985926",
   "cell_type": "markdown",
   "metadata": {
    "cell_id": "d425aff441454fc78a904218cf561003",
    "deepnote_cell_type": "text-cell-p",
    "formattedRanges": []
   },
   "source": [
    "Pada skenario ini saya membuat data dengan tipe numerik, memiliki 3 fitur, jumlah datanya 10, k = 3, p = 2(Euclidian Distance)"
   ]
  },
  {
   "block_group": "ceee71cecd8745cc877129bfb41a2a94",
   "cell_type": "markdown",
   "metadata": {
    "cell_id": "06dbf705e3ed471dbf2090e286ef3c12",
    "deepnote_cell_type": "text-cell-p",
    "formattedRanges": []
   },
   "source": [
    "Berikut adalah langkah-langkah untuk menyelesaikan data outlier menggunakan metode Local Outlier Factor (LOF) dengan jarak Euclidean:"
   ]
  },
  {
   "block_group": "802b7620197c411e83fda263da1a0038",
   "cell_type": "markdown",
   "metadata": {
    "cell_id": "db636980449d499eb7916259155f2e8c",
    "deepnote_cell_type": "text-cell-p",
    "formattedRanges": []
   },
   "source": [
    "1. Hitung Jarak Antara Setiap Pasangan Data:\r\n",
    "   Pertama, hitunglah jarak Euclidean antara setiap pasangan data. Misalnya, jarak antara data 1 dan data 2, data 1 dan data 3, dan seterusnya."
   ]
  },
  {
   "block_group": "87e61b18bb8b4466a0421d0d423287bc",
   "cell_type": "markdown",
   "metadata": {
    "cell_id": "17634a905306442e9e18aa5bc5b439e6",
    "deepnote_cell_type": "text-cell-p",
    "formattedRanges": []
   },
   "source": [
    "2. Tentukan Kepadatan Lokal:\r\n",
    "   Setelah jarak antar data telah dihitung, tentukanlah kepadatan lokal dari setiap data point. Kepadatan lokal dapat dihitung dengan menghitung jumlah tetangga dalam radius tertentu dari suatu data point. Jika kita asumsikan k = 3 (yaitu, mencari tiga tetangga terdekat dari setiap data point), kita dapat menghitung kepadatan lokal dari setiap data point."
   ]
  },
  {
   "block_group": "e05727cdf6d14d23b1af0725e2071a03",
   "cell_type": "markdown",
   "metadata": {
    "cell_id": "ba21e96b7725427e9e87f1040d2ba893",
    "deepnote_cell_type": "text-cell-p",
    "formattedRanges": []
   },
   "source": [
    "3. Hitung Local Outlier Factor (LOF):\r\n",
    "   Setelah kepadatan lokal dari setiap data point telah ditentukan, kita dapat menghitung LOF untuk setiap data point. LOF suatu data point dihitung dengan membandingkan kepadatan lokalnya dengan kepadatan lokal dari tetangga-tetangganya. Data point dengan LOF yang tinggi cenderung menjadi outlier."
   ]
  },
  {
   "block_group": "2521316fd4a546ccbb48f856fe5b5f81",
   "cell_type": "markdown",
   "metadata": {
    "cell_id": "7a56b26c486a43c990104648c170ffe9",
    "deepnote_cell_type": "text-cell-p",
    "formattedRanges": []
   },
   "source": [
    "4. Identifikasi Outlier:\r\n",
    "   Data point yang memiliki nilai LOF yang tinggi kemungkinan besar merupakan outlier. Dalam kasus ini, data point (190, 100, 45) adalah kandidat outlier."
   ]
  },
  {
   "block_group": "427fde78b3e34f3da06dd92ba5a6ca05",
   "cell_type": "markdown",
   "metadata": {
    "cell_id": "1ed5d81804b540b696866b5adbcf03cd",
    "deepnote_cell_type": "text-cell-p",
    "formattedRanges": []
   },
   "source": [
    "5. Tindakan Selanjutnya:\r\n",
    "   Setelah outlier diidentifikasi, pengguna dapat memutuskan untuk menghapusnya dari dataset atau mengambil tindakan lain, seperti menyesuaikan nilai outlier tersebut atau menyesuaikan model yang digunakan untuk analisis data."
   ]
  },
  {
   "block_group": "8133ae896aeb4a38a446c1cce378406b",
   "cell_type": "markdown",
   "metadata": {
    "cell_id": "0d42e281c0dc41a5b2905b73cd4617b1",
    "deepnote_cell_type": "text-cell-p",
    "formattedRanges": []
   },
   "source": [
    "Dengan menggunakan metode LOF dengan jarak Euclidean, outlier dapat diidentifikasi berdasarkan perbedaan kepadatan lokalnya dengan tetangganya."
   ]
  },
  {
   "block_group": "2ef4471551604ac190324b43e7d26698",
   "cell_type": "markdown",
   "metadata": {
    "cell_id": "ff78b0e833914b63b882d336a4b9bac0",
    "deepnote_cell_type": "text-cell-p",
    "formattedRanges": []
   },
   "source": [
    "Pada percobaan kali ini, saya membuat data keuangan. Memiliki 3 fitur yaitu Usia, Gaji, Pengeluaran dan jumlah datanya 10."
   ]
  },
  {
   "block_group": "4e02fd8ebf6a4c6fb40be226a2554155",
   "cell_type": "markdown",
   "metadata": {
    "cell_id": "f92eacdac17444acadcc6a95c9da50bf",
    "deepnote_cell_type": "image",
    "deepnote_img_src": "image-20240321-000610.png"
   },
   "source": [
    "<img src=\"image-20240321-000610.png\" width=\"\" align=\"\" />"
   ]
  },
  {
   "block_group": "acfd6af7b62c45e18327239f5a401cfb",
   "cell_type": "markdown",
   "metadata": {
    "cell_id": "f044ce1a791544aab81d3913e9a5a09a",
    "deepnote_cell_type": "text-cell-h2",
    "formattedRanges": []
   },
   "source": [
    "## Menghitung jarak dan menentukan tetangga"
   ]
  },
  {
   "block_group": "267879a8c577401c99aa1a007cbb2bdb",
   "cell_type": "markdown",
   "metadata": {
    "cell_id": "de0263623feb4d03aa87e207b76fc5b6",
    "deepnote_cell_type": "text-cell-p",
    "formattedRanges": []
   },
   "source": [
    "Pada perhitungan KNN akan menggunakan metode euclidean dengan K = 3 atau tetangga terdekat ke 3."
   ]
  },
  {
   "block_group": "980eb411997845b39dd39cfe67b566e9",
   "cell_type": "markdown",
   "metadata": {
    "cell_id": "f9d0c2cde1dc4fb3a882d04df63b9b36",
    "deepnote_cell_type": "image",
    "deepnote_img_src": "image-20240321-000809.png"
   },
   "source": [
    "<img src=\"image-20240321-000809.png\" width=\"\" align=\"\" />"
   ]
  },
  {
   "block_group": "26b5297954b84a27b972d1651ed7742f",
   "cell_type": "markdown",
   "metadata": {
    "cell_id": "ca19587a82644c7db0f7ce0037df9f20",
    "deepnote_cell_type": "text-cell-h2",
    "formattedRanges": []
   },
   "source": [
    "## Menghitung Reachability Distance (RD)"
   ]
  },
  {
   "block_group": "1d86218d285245d4baeda5e8b15a299b",
   "cell_type": "markdown",
   "metadata": {
    "cell_id": "abd6d7b193da46e9a166127e26131f95",
    "deepnote_cell_type": "text-cell-p",
    "formattedRanges": []
   },
   "source": [
    "Reachability Distance (RD) adalah cara untuk mengukur seberapa dekat dua titik dalam data. Ini penting saat kita ingin tahu apakah dua titik itu \"tetangga\" atau tidak. Bayangkan Anda memiliki dua rumah di jalan yang berbeda. Jarak antara kedua rumah itu adalah jarak antara mereka. Tapi jika rumah Anda berada di jalan utama dan rumah tetangga Anda di gang kecil, kemungkinan besar Anda akan lebih dekat dengan tetangga Anda karena mudah diakses daripada rumah yang jauh di jalan besar. Ini mirip dengan bagaimana RD bekerja."
   ]
  },
  {
   "block_group": "61a54ffd3bcd48be883368e1f4088752",
   "cell_type": "markdown",
   "metadata": {
    "cell_id": "ee33688ada894972887730a65226b77d",
    "deepnote_cell_type": "text-cell-p",
    "formattedRanges": []
   },
   "source": [
    "Jadi, ketika kita ingin tahu apakah dua titik dalam data itu tetangga atau tidak, kita menggunakan RD. Ini dihitung dengan mengukur jarak antara dua titik. Tapi, jika salah satu titik itu punya banyak tetangga di sekitarnya, maka kita juga memperhitungkan jarak terpendeknya ke tetangga-tetangganya yang terdekat. Dengan begitu, kita bisa memutuskan apakah dua titik itu dekat cukup untuk dianggap tetangga. Jika jaraknya lebih kecil dari nilai tertentu yang telah kita tentukan sebelumnya, maka mereka dianggap tetangga."
   ]
  },
  {
   "block_group": "7c79534b3a034ad5a75e02f58f7b044a",
   "cell_type": "markdown",
   "metadata": {
    "cell_id": "ff75a7002b3148468740cf3593015a35",
    "deepnote_cell_type": "text-cell-p",
    "formattedRanges": []
   },
   "source": [
    "Contohnya seperti pada id 1 memiliki nilai jarak tetangga ke-3 yaitu 3,1622777 berarti tetangga yang masuk ke dalamnya yang memiliki niali kurang atau sama dengan 3,1622777 yang artinya berisi objek { 3,4,8 }. Lanjutkan untuk objek yang lain."
   ]
  },
  {
   "block_group": "d1108080c1b44722b996a81374c950a2",
   "cell_type": "markdown",
   "metadata": {
    "cell_id": "bfbf7356f7a844d1b5a8c208bcdcbf02",
    "deepnote_cell_type": "image",
    "deepnote_img_src": "image-20240321-002616.png"
   },
   "source": [
    "<img src=\"image-20240321-002616.png\" width=\"\" align=\"\" />"
   ]
  },
  {
   "block_group": "1994228af57947148bf081cc538470b7",
   "cell_type": "markdown",
   "metadata": {
    "cell_id": "d70864acb8a6478d90dcf14d9017f2de",
    "deepnote_cell_type": "text-cell-p",
    "formattedRanges": []
   },
   "source": [
    "Selanjutnya adalah menghitung RD(Reachability Distance) dari masing-masing objek"
   ]
  },
  {
   "block_group": "140604f2a01b4b36bb7e2b06314bb049",
   "cell_type": "markdown",
   "metadata": {
    "cell_id": "6126f59a1311443dadbfbecec9912f88",
    "deepnote_cell_type": "image",
    "deepnote_img_src": "image-20240321-004619.png"
   },
   "source": [
    "<img src=\"image-20240321-004619.png\" width=\"\" align=\"\" />"
   ]
  },
  {
   "block_group": "473f0df9bd764b75b57565fe698f6d0d",
   "cell_type": "markdown",
   "metadata": {
    "cell_id": "e193e5dd3fa84381a058224974f857d0",
    "deepnote_cell_type": "image",
    "deepnote_img_src": "image-20240321-014250.png"
   },
   "source": [
    "<img src=\"image-20240321-014250.png\" width=\"\" align=\"\" />"
   ]
  },
  {
   "block_group": "5c15b820d150456280fff1c920bb0e3e",
   "cell_type": "markdown",
   "metadata": {
    "cell_id": "1c741d53bcab4085bc35f99bf6b401d9",
    "deepnote_cell_type": "text-cell-h2",
    "formattedRanges": []
   },
   "source": [
    "## Menghitung Local Reachability Distance (LRD)"
   ]
  },
  {
   "block_group": "4dfb128747ae463ca3dbc6a84b92a1ce",
   "cell_type": "markdown",
   "metadata": {
    "cell_id": "29d29d28b9874de38a4c011598786328",
    "deepnote_cell_type": "text-cell-p",
    "formattedRanges": []
   },
   "source": [
    "Rumus LRD:"
   ]
  },
  {
   "block_group": "60404fbeb9964ddf85e5d5c9f14a437b",
   "cell_type": "markdown",
   "metadata": {
    "cell_id": "4c9a2df29cf64b9fbf13a841f4511f5d",
    "deepnote_cell_type": "image",
    "deepnote_img_src": "image-20240321-004823.png"
   },
   "source": [
    "<img src=\"image-20240321-004823.png\" width=\"\" align=\"\" />"
   ]
  },
  {
   "block_group": "03c4fcd34b744a6d9c0e6f219a87ea8e",
   "cell_type": "markdown",
   "metadata": {
    "cell_id": "35b9893007f644baa097b2f46d510986",
    "deepnote_cell_type": "text-cell-p",
    "formattedRanges": []
   },
   "source": [
    "Kesimpulan dari rumus diatas LRD merupakan hasil pembagian banyak jumlah tetangga ke-n dari objek lalu dibagi dengan total dari reachdistance ability objek tersebut."
   ]
  },
  {
   "block_group": "11a180fe2d38461586b650453b842497",
   "cell_type": "markdown",
   "metadata": {
    "cell_id": "83eccf91692543f182fe1916371d4a72",
    "deepnote_cell_type": "text-cell-p",
    "formattedRanges": []
   },
   "source": [
    "Hasil perhitungannya adalah:"
   ]
  },
  {
   "block_group": "94dea1aefe934cc0b642a9b6e065abd2",
   "cell_type": "markdown",
   "metadata": {
    "cell_id": "72eea577ccf244569628329a67750968",
    "deepnote_cell_type": "image",
    "deepnote_img_src": "image-20240321-015922.png"
   },
   "source": [
    "<img src=\"image-20240321-015922.png\" width=\"\" align=\"\" />"
   ]
  },
  {
   "block_group": "c04672b12fd44b24b35ae0493cf814a8",
   "cell_type": "markdown",
   "metadata": {
    "cell_id": "391ece6e88594381bc65f42871fdc7fe",
    "deepnote_cell_type": "text-cell-h2",
    "formattedRanges": []
   },
   "source": [
    "## Menghitung Local Outlier Factor(LOF)"
   ]
  },
  {
   "block_group": "da7b2afcbf694746b23b00f5e38aed40",
   "cell_type": "markdown",
   "metadata": {
    "cell_id": "c40165d5be29491295de6756e9875c40",
    "deepnote_cell_type": "text-cell-p",
    "formattedRanges": []
   },
   "source": [
    "Rumusnya: "
   ]
  },
  {
   "block_group": "8918866176dd4d978227f1c0b45c949a",
   "cell_type": "markdown",
   "metadata": {
    "cell_id": "adebcabaa7a34c9b8c8f3fcf7deeb91c",
    "deepnote_cell_type": "image",
    "deepnote_img_src": "image-20240321-005159.png"
   },
   "source": [
    "<img src=\"image-20240321-005159.png\" width=\"\" align=\"\" />"
   ]
  },
  {
   "block_group": "890162a8f1e44d38a2a39f3069dc6ce0",
   "cell_type": "markdown",
   "metadata": {
    "cell_id": "2681200b97974d7cb10df622474cba35",
    "deepnote_cell_type": "text-cell-p",
    "formattedRanges": []
   },
   "source": [
    "Dari rumus tersebut LOF merupakan hasil perkalian jumlah nilai lrd suatu objek dikali jumlah reachability distance suatu objek."
   ]
  },
  {
   "block_group": "bacff68bc46c421ba1684d4f5e32dba2",
   "cell_type": "markdown",
   "metadata": {
    "cell_id": "f9cc325bc1f642df91ac147328a4ea55",
    "deepnote_cell_type": "text-cell-p",
    "formattedRanges": []
   },
   "source": [
    "Hasil perhitungannya adalah:"
   ]
  },
  {
   "block_group": "47e9d4e7c9f045a286779c9205828827",
   "cell_type": "markdown",
   "metadata": {
    "cell_id": "5e0e57d4439e4792aefb04a0712be909",
    "deepnote_cell_type": "image",
    "deepnote_img_src": "image-20240321-021432.png"
   },
   "source": [
    "<img src=\"image-20240321-021432.png\" width=\"\" align=\"\" />"
   ]
  },
  {
   "block_group": "441dfe3fc30f497f8893915473ae4ba7",
   "cell_type": "markdown",
   "metadata": {
    "cell_id": "13026e1410304640bac3e31990a8c47b",
    "deepnote_cell_type": "text-cell-p",
    "formattedRanges": []
   },
   "source": [
    "Dapat disimpulkan bahwa lof3(5) merupakan sebuah data outlier. Karena rentang nilai yang sangat jauh dengan data lainnya yaitu 62,656255"
   ]
  },
  {
   "block_group": "b91e3247c9a046099f4a457223cddf52",
   "cell_type": "markdown",
   "metadata": {
    "cell_id": "f123b3ec442543869bbfa372e803d91a",
    "deepnote_cell_type": "text-cell-h2",
    "formattedRanges": []
   },
   "source": [
    "## Menghitung Menggunakan Python(scikit-learn)"
   ]
  },
  {
   "block_group": "e0b9fb0e7e2e4bbab87c5f0f6e0a31ff",
   "cell_type": "markdown",
   "metadata": {
    "cell_id": "2241e3d7b1d04240ba2270be106fb553",
    "deepnote_cell_type": "text-cell-p",
    "formattedRanges": []
   },
   "source": [
    "Seetelah dihitung menggunakan excel, selanjutnya dihitung menggunakan scikit-learn."
   ]
  },
  {
   "block_group": "bf2a446af48d4ea2af1d71f2660fa18b",
   "cell_type": "code",
   "execution_count": null,
   "metadata": {
    "cell_id": "47fed22e1d3a4609ba720c63d3d850db",
    "deepnote_cell_type": "code",
    "deepnote_to_be_reexecuted": false,
    "execution_millis": 5516,
    "execution_start": 1710962455886,
    "source_hash": null
   },
   "outputs": [
    {
     "name": "stdout",
     "output_type": "stream",
     "text": [
      "Predicted table: [ 1  1  1  1 -1  1  1  1  1  1]\n",
      "Negative LOF scores: [ 1.12433209  1.14735285  1.02014166  1.02014166 62.85825482  1.00314588\n",
      "  1.11053187  0.80755569  1.04209701  1.05601879]\n"
     ]
    }
   ],
   "outputs_reference": "dbtable:cell_outputs/38960616-42c1-40f2-8343-1f83f8d2369f",
   "source": [
    "from sklearn.neighbors import LocalOutlierFactor\n",
    "import numpy as np\n",
    "\n",
    "X = [\n",
    "    (35, 5, 2),\n",
    "    (40, 6, 3),\n",
    "    (34, 4, 1),\n",
    "    (33, 3, 1),\n",
    "    (30, 150, 250),\n",
    "    (36, 6, 5),\n",
    "    (42, 7, 4),\n",
    "    (38, 4, 2),\n",
    "    (33, 8, 4),\n",
    "    (41, 9, 5),\n",
    "]\n",
    "\n",
    "lof = LocalOutlierFactor(n_neighbors=3, contamination=0.1)\n",
    "\n",
    "y_pred = lof.fit_predict(X)\n",
    "\n",
    "print(\"Predicted table:\", y_pred)\n",
    "print(\"Negative LOF scores:\", -lof.negative_outlier_factor_)  # Ubah tanda negatif untuk mendapatkan nilai LOF positif"
   ]
  },
  {
   "block_group": "6846927644ad4913b5ee7b8e2ab0f888",
   "cell_type": "markdown",
   "metadata": {
    "cell_id": "b16ec78d1097441583a0eb29d72e2ec5",
    "deepnote_cell_type": "text-cell-p",
    "formattedRanges": []
   },
   "source": [
    "Dari hasil perhitungan scikit-leaqrn terdapat outlier yang berada pada indeks ke 5 bernilai 62.85825482. Sesuai dengan hasil perhitungan manual yaitu data oulier terletak pada id 5."
   ]
  },
  {
   "block_group": "3bd847b121fd4969b963d1b1c0fe1732",
   "cell_type": "markdown",
   "metadata": {
    "cell_id": "8d20a618ace940f89341e988e98309fc",
    "deepnote_cell_type": "text-cell-h2",
    "formattedRanges": []
   },
   "source": [
    "## Implementasi Pada Data Iris"
   ]
  },
  {
   "block_group": "a412802484a642018edc19dfd1a44efc",
   "cell_type": "markdown",
   "metadata": {
    "cell_id": "df220a61aa104151a7cef367387344f1",
    "deepnote_cell_type": "text-cell-p",
    "formattedRanges": []
   },
   "source": [
    "Saya buat tabel baru dan diberi nama outluer. Lalu kita skenariokan ada beberapa data dengan angka outlier"
   ]
  },
  {
   "block_group": "a5ac86bd54f343a292a8e9eb94069fe6",
   "cell_type": "code",
   "execution_count": null,
   "metadata": {
    "cell_id": "3510c1f1c13d4fc5a9964f589aa08d2f",
    "deepnote_cell_type": "sql",
    "deepnote_sql_source": "UPDATE outlier SET SepalWidthCm = 32 WHERE Id in (4,79,101,130)",
    "deepnote_to_be_reexecuted": false,
    "deepnote_variable_name": "df_34",
    "execution_millis": 3174,
    "execution_start": 1710963295459,
    "source_hash": null,
    "sql_integration_id": "0588f7a5-1b73-498d-a102-830b1faeb649"
   },
   "outputs": [],
   "outputs_reference": null,
   "source": [
    "df_34 = _deepnote_execute_sql('UPDATE outlier SET SepalWidthCm = 32 WHERE Id in (4,79,101,130)', 'SQL_0588F7A5_1B73_498D_A102_830B1FAEB649', audit_sql_comment='', sql_cache_mode='cache_disabled')\n",
    "df_34"
   ]
  },
  {
   "block_group": "084889f2b0884dfb8e1c73f7f2544074",
   "cell_type": "code",
   "execution_count": null,
   "metadata": {
    "cell_id": "2c4c3321d4644f85b537834c8aae260f",
    "deepnote_cell_type": "sql",
    "deepnote_sql_source": "UPDATE outlier SET SepalLengthCm = 38 WHERE Id in (6,31,89,9)",
    "deepnote_to_be_reexecuted": false,
    "deepnote_variable_name": "df_35",
    "execution_millis": 3228,
    "execution_start": 1710963432792,
    "source_hash": null,
    "sql_integration_id": "0588f7a5-1b73-498d-a102-830b1faeb649"
   },
   "outputs": [],
   "outputs_reference": null,
   "source": [
    "df_35 = _deepnote_execute_sql('UPDATE outlier SET SepalLengthCm = 38 WHERE Id in (6,31,89,9)', 'SQL_0588F7A5_1B73_498D_A102_830B1FAEB649', audit_sql_comment='', sql_cache_mode='cache_disabled')\n",
    "df_35"
   ]
  },
  {
   "block_group": "410bf2e0f44945ba941496f8e59a116a",
   "cell_type": "markdown",
   "metadata": {
    "cell_id": "9b9e6150e607499ea6b82ffef115ee8b",
    "deepnote_cell_type": "text-cell-p",
    "formattedRanges": []
   },
   "source": [
    "lanjut, kita tampilkan data yang sudah kita rubah tadi."
   ]
  },
  {
   "block_group": "c433d40bd76d4918a56a076d5139b9af",
   "cell_type": "code",
   "execution_count": null,
   "metadata": {
    "cell_id": "80ed5e51a4cc4019944eaeb9534c5154",
    "deepnote_cell_type": "sql",
    "deepnote_sql_source": "SELECT * FROM outlier WHERE Id in (4,6,9,31,79,89,101,130)",
    "deepnote_to_be_reexecuted": false,
    "deepnote_variable_name": "df_36",
    "execution_millis": 3350,
    "execution_start": 1710963528775,
    "source_hash": null,
    "sql_integration_id": "0588f7a5-1b73-498d-a102-830b1faeb649"
   },
   "outputs": [
    {
     "data": {
      "application/vnd.deepnote.sql-output-metadata+json": {
       "size_in_bytes": 1006,
       "status": "success_no_cache"
      }
     },
     "metadata": {},
     "output_type": "display_data"
    },
    {
     "data": {
      "application/vnd.deepnote.dataframe.v3+json": {
       "column_count": 6,
       "columns": [
        {
         "dtype": "int64",
         "name": "Id",
         "stats": {
          "histogram": [
           {
            "bin_end": 16.6,
            "bin_start": 4,
            "count": 3
           },
           {
            "bin_end": 29.2,
            "bin_start": 16.6,
            "count": 0
           },
           {
            "bin_end": 41.8,
            "bin_start": 29.2,
            "count": 1
           },
           {
            "bin_end": 54.4,
            "bin_start": 41.8,
            "count": 0
           },
           {
            "bin_end": 67,
            "bin_start": 54.4,
            "count": 0
           },
           {
            "bin_end": 79.6,
            "bin_start": 67,
            "count": 1
           },
           {
            "bin_end": 92.2,
            "bin_start": 79.6,
            "count": 1
           },
           {
            "bin_end": 104.8,
            "bin_start": 92.2,
            "count": 1
           },
           {
            "bin_end": 117.39999999999999,
            "bin_start": 104.8,
            "count": 0
           },
           {
            "bin_end": 130,
            "bin_start": 117.39999999999999,
            "count": 1
           }
          ],
          "max": "130",
          "min": "4",
          "nan_count": 0,
          "unique_count": 8
         }
        },
        {
         "dtype": "float64",
         "name": "SepalLengthCm",
         "stats": {
          "histogram": [
           {
            "bin_end": 7.9399999999999995,
            "bin_start": 4.6,
            "count": 4
           },
           {
            "bin_end": 11.28,
            "bin_start": 7.9399999999999995,
            "count": 0
           },
           {
            "bin_end": 14.62,
            "bin_start": 11.28,
            "count": 0
           },
           {
            "bin_end": 17.96,
            "bin_start": 14.62,
            "count": 0
           },
           {
            "bin_end": 21.299999999999997,
            "bin_start": 17.96,
            "count": 0
           },
           {
            "bin_end": 24.64,
            "bin_start": 21.299999999999997,
            "count": 0
           },
           {
            "bin_end": 27.979999999999997,
            "bin_start": 24.64,
            "count": 0
           },
           {
            "bin_end": 31.32,
            "bin_start": 27.979999999999997,
            "count": 0
           },
           {
            "bin_end": 34.66,
            "bin_start": 31.32,
            "count": 0
           },
           {
            "bin_end": 38,
            "bin_start": 34.66,
            "count": 4
           }
          ],
          "max": "38.0",
          "min": "4.6",
          "nan_count": 0,
          "unique_count": 5
         }
        },
        {
         "dtype": "float64",
         "name": "SepalWidthCm",
         "stats": {
          "histogram": [
           {
            "bin_end": 5.8100000000000005,
            "bin_start": 2.9,
            "count": 4
           },
           {
            "bin_end": 8.72,
            "bin_start": 5.8100000000000005,
            "count": 0
           },
           {
            "bin_end": 11.63,
            "bin_start": 8.72,
            "count": 0
           },
           {
            "bin_end": 14.540000000000001,
            "bin_start": 11.63,
            "count": 0
           },
           {
            "bin_end": 17.45,
            "bin_start": 14.540000000000001,
            "count": 0
           },
           {
            "bin_end": 20.36,
            "bin_start": 17.45,
            "count": 0
           },
           {
            "bin_end": 23.27,
            "bin_start": 20.36,
            "count": 0
           },
           {
            "bin_end": 26.18,
            "bin_start": 23.27,
            "count": 0
           },
           {
            "bin_end": 29.09,
            "bin_start": 26.18,
            "count": 0
           },
           {
            "bin_end": 32,
            "bin_start": 29.09,
            "count": 4
           }
          ],
          "max": "32.0",
          "min": "2.9",
          "nan_count": 0,
          "unique_count": 5
         }
        },
        {
         "dtype": "float64",
         "name": "PetalLengthCm",
         "stats": {
          "histogram": [
           {
            "bin_end": 1.8599999999999999,
            "bin_start": 1.4,
            "count": 4
           },
           {
            "bin_end": 2.32,
            "bin_start": 1.8599999999999999,
            "count": 0
           },
           {
            "bin_end": 2.78,
            "bin_start": 2.32,
            "count": 0
           },
           {
            "bin_end": 3.2399999999999998,
            "bin_start": 2.78,
            "count": 0
           },
           {
            "bin_end": 3.6999999999999997,
            "bin_start": 3.2399999999999998,
            "count": 0
           },
           {
            "bin_end": 4.16,
            "bin_start": 3.6999999999999997,
            "count": 1
           },
           {
            "bin_end": 4.619999999999999,
            "bin_start": 4.16,
            "count": 1
           },
           {
            "bin_end": 5.08,
            "bin_start": 4.619999999999999,
            "count": 0
           },
           {
            "bin_end": 5.539999999999999,
            "bin_start": 5.08,
            "count": 0
           },
           {
            "bin_end": 6,
            "bin_start": 5.539999999999999,
            "count": 2
           }
          ],
          "max": "6.0",
          "min": "1.4",
          "nan_count": 0,
          "unique_count": 8
         }
        },
        {
         "dtype": "float64",
         "name": "PetalWidthCm",
         "stats": {
          "histogram": [
           {
            "bin_end": 0.43,
            "bin_start": 0.2,
            "count": 4
           },
           {
            "bin_end": 0.6599999999999999,
            "bin_start": 0.43,
            "count": 0
           },
           {
            "bin_end": 0.8899999999999999,
            "bin_start": 0.6599999999999999,
            "count": 0
           },
           {
            "bin_end": 1.1199999999999999,
            "bin_start": 0.8899999999999999,
            "count": 0
           },
           {
            "bin_end": 1.3499999999999999,
            "bin_start": 1.1199999999999999,
            "count": 1
           },
           {
            "bin_end": 1.5799999999999998,
            "bin_start": 1.3499999999999999,
            "count": 1
           },
           {
            "bin_end": 1.8099999999999998,
            "bin_start": 1.5799999999999998,
            "count": 1
           },
           {
            "bin_end": 2.04,
            "bin_start": 1.8099999999999998,
            "count": 0
           },
           {
            "bin_end": 2.27,
            "bin_start": 2.04,
            "count": 0
           },
           {
            "bin_end": 2.5,
            "bin_start": 2.27,
            "count": 1
           }
          ],
          "max": "2.5",
          "min": "0.2",
          "nan_count": 0,
          "unique_count": 6
         }
        },
        {
         "dtype": "object",
         "name": "Species",
         "stats": {
          "categories": [
           {
            "count": 4,
            "name": "Iris-setosa"
           },
           {
            "count": 2,
            "name": "Iris-versicolor"
           },
           {
            "count": 2,
            "name": "Iris-virginica"
           }
          ],
          "nan_count": 0,
          "unique_count": 3
         }
        },
        {
         "dtype": "int64",
         "name": "_deepnote_index_column"
        }
       ],
       "row_count": 8,
       "rows": [
        {
         "Id": 4,
         "PetalLengthCm": 1.5,
         "PetalWidthCm": 0.2,
         "SepalLengthCm": 4.6,
         "SepalWidthCm": 32,
         "Species": "Iris-setosa",
         "_deepnote_index_column": 0
        },
        {
         "Id": 6,
         "PetalLengthCm": 1.7,
         "PetalWidthCm": 0.4,
         "SepalLengthCm": 38,
         "SepalWidthCm": 3.9,
         "Species": "Iris-setosa",
         "_deepnote_index_column": 1
        },
        {
         "Id": 9,
         "PetalLengthCm": 1.4,
         "PetalWidthCm": 0.2,
         "SepalLengthCm": 38,
         "SepalWidthCm": 2.9,
         "Species": "Iris-setosa",
         "_deepnote_index_column": 2
        },
        {
         "Id": 31,
         "PetalLengthCm": 1.6,
         "PetalWidthCm": 0.2,
         "SepalLengthCm": 38,
         "SepalWidthCm": 3.1,
         "Species": "Iris-setosa",
         "_deepnote_index_column": 3
        },
        {
         "Id": 79,
         "PetalLengthCm": 4.5,
         "PetalWidthCm": 1.5,
         "SepalLengthCm": 6,
         "SepalWidthCm": 32,
         "Species": "Iris-versicolor",
         "_deepnote_index_column": 4
        },
        {
         "Id": 89,
         "PetalLengthCm": 4.1,
         "PetalWidthCm": 1.3,
         "SepalLengthCm": 38,
         "SepalWidthCm": 3,
         "Species": "Iris-versicolor",
         "_deepnote_index_column": 5
        },
        {
         "Id": 101,
         "PetalLengthCm": 6,
         "PetalWidthCm": 2.5,
         "SepalLengthCm": 6.3,
         "SepalWidthCm": 32,
         "Species": "Iris-virginica",
         "_deepnote_index_column": 6
        },
        {
         "Id": 130,
         "PetalLengthCm": 5.8,
         "PetalWidthCm": 1.6,
         "SepalLengthCm": 7.2,
         "SepalWidthCm": 32,
         "Species": "Iris-virginica",
         "_deepnote_index_column": 7
        }
       ]
      },
      "text/html": [
       "<div>\n",
       "<style scoped>\n",
       "    .dataframe tbody tr th:only-of-type {\n",
       "        vertical-align: middle;\n",
       "    }\n",
       "\n",
       "    .dataframe tbody tr th {\n",
       "        vertical-align: top;\n",
       "    }\n",
       "\n",
       "    .dataframe thead th {\n",
       "        text-align: right;\n",
       "    }\n",
       "</style>\n",
       "<table border=\"1\" class=\"dataframe\">\n",
       "  <thead>\n",
       "    <tr style=\"text-align: right;\">\n",
       "      <th></th>\n",
       "      <th>Id</th>\n",
       "      <th>SepalLengthCm</th>\n",
       "      <th>SepalWidthCm</th>\n",
       "      <th>PetalLengthCm</th>\n",
       "      <th>PetalWidthCm</th>\n",
       "      <th>Species</th>\n",
       "    </tr>\n",
       "  </thead>\n",
       "  <tbody>\n",
       "    <tr>\n",
       "      <th>0</th>\n",
       "      <td>4</td>\n",
       "      <td>4.6</td>\n",
       "      <td>32.0</td>\n",
       "      <td>1.5</td>\n",
       "      <td>0.2</td>\n",
       "      <td>Iris-setosa</td>\n",
       "    </tr>\n",
       "    <tr>\n",
       "      <th>1</th>\n",
       "      <td>6</td>\n",
       "      <td>38.0</td>\n",
       "      <td>3.9</td>\n",
       "      <td>1.7</td>\n",
       "      <td>0.4</td>\n",
       "      <td>Iris-setosa</td>\n",
       "    </tr>\n",
       "    <tr>\n",
       "      <th>2</th>\n",
       "      <td>9</td>\n",
       "      <td>38.0</td>\n",
       "      <td>2.9</td>\n",
       "      <td>1.4</td>\n",
       "      <td>0.2</td>\n",
       "      <td>Iris-setosa</td>\n",
       "    </tr>\n",
       "    <tr>\n",
       "      <th>3</th>\n",
       "      <td>31</td>\n",
       "      <td>38.0</td>\n",
       "      <td>3.1</td>\n",
       "      <td>1.6</td>\n",
       "      <td>0.2</td>\n",
       "      <td>Iris-setosa</td>\n",
       "    </tr>\n",
       "    <tr>\n",
       "      <th>4</th>\n",
       "      <td>79</td>\n",
       "      <td>6.0</td>\n",
       "      <td>32.0</td>\n",
       "      <td>4.5</td>\n",
       "      <td>1.5</td>\n",
       "      <td>Iris-versicolor</td>\n",
       "    </tr>\n",
       "    <tr>\n",
       "      <th>5</th>\n",
       "      <td>89</td>\n",
       "      <td>38.0</td>\n",
       "      <td>3.0</td>\n",
       "      <td>4.1</td>\n",
       "      <td>1.3</td>\n",
       "      <td>Iris-versicolor</td>\n",
       "    </tr>\n",
       "    <tr>\n",
       "      <th>6</th>\n",
       "      <td>101</td>\n",
       "      <td>6.3</td>\n",
       "      <td>32.0</td>\n",
       "      <td>6.0</td>\n",
       "      <td>2.5</td>\n",
       "      <td>Iris-virginica</td>\n",
       "    </tr>\n",
       "    <tr>\n",
       "      <th>7</th>\n",
       "      <td>130</td>\n",
       "      <td>7.2</td>\n",
       "      <td>32.0</td>\n",
       "      <td>5.8</td>\n",
       "      <td>1.6</td>\n",
       "      <td>Iris-virginica</td>\n",
       "    </tr>\n",
       "  </tbody>\n",
       "</table>\n",
       "</div>"
      ],
      "text/plain": [
       "    Id  SepalLengthCm  SepalWidthCm  PetalLengthCm  PetalWidthCm  \\\n",
       "0    4            4.6          32.0            1.5           0.2   \n",
       "1    6           38.0           3.9            1.7           0.4   \n",
       "2    9           38.0           2.9            1.4           0.2   \n",
       "3   31           38.0           3.1            1.6           0.2   \n",
       "4   79            6.0          32.0            4.5           1.5   \n",
       "5   89           38.0           3.0            4.1           1.3   \n",
       "6  101            6.3          32.0            6.0           2.5   \n",
       "7  130            7.2          32.0            5.8           1.6   \n",
       "\n",
       "           Species  \n",
       "0      Iris-setosa  \n",
       "1      Iris-setosa  \n",
       "2      Iris-setosa  \n",
       "3      Iris-setosa  \n",
       "4  Iris-versicolor  \n",
       "5  Iris-versicolor  \n",
       "6   Iris-virginica  \n",
       "7   Iris-virginica  "
      ]
     },
     "execution_count": 5,
     "metadata": {},
     "output_type": "execute_result"
    }
   ],
   "outputs_reference": "s3:deepnote-cell-outputs-production/795c54e8-e3a1-4929-aa00-c84746e3b56a",
   "source": [
    "df_36 = _deepnote_execute_sql('SELECT * FROM outlier WHERE Id in (4,6,9,31,79,89,101,130)', 'SQL_0588F7A5_1B73_498D_A102_830B1FAEB649', audit_sql_comment='', sql_cache_mode='cache_disabled')\n",
    "df_36"
   ]
  },
  {
   "block_group": "afd5922c0c9b40498cfe6d24fd1e4385",
   "cell_type": "markdown",
   "metadata": {
    "cell_id": "7ca81750e49642c8a6d29d3a5f23152c",
    "deepnote_cell_type": "text-cell-p",
    "formattedRanges": []
   },
   "source": [
    "Diatas sudah terlihat data outliuer. Langkah selanjutnya mendeteksi outlier menggunakan LOF (Local Outlier Factor)"
   ]
  },
  {
   "block_group": "413f0e231fc046f29e4b71bbbb3e942b",
   "cell_type": "code",
   "execution_count": null,
   "metadata": {
    "cell_id": "aec2d969b83b47649a98fd2dfa92219d",
    "deepnote_cell_type": "code",
    "deepnote_to_be_reexecuted": false,
    "execution_millis": 9152,
    "execution_start": 1710963682351,
    "source_hash": null
   },
   "outputs": [
    {
     "name": "stdout",
     "output_type": "stream",
     "text": [
      "Collecting mysql-connector-python\n",
      "  Downloading mysql_connector_python-8.3.0-cp39-cp39-manylinux_2_17_x86_64.whl (21.5 MB)\n",
      "\u001b[2K     \u001b[90m━━━━━━━━━━━━━━━━━━━━━━━━━━━━━━━━━━━━━━━━\u001b[0m \u001b[32m21.5/21.5 MB\u001b[0m \u001b[31m60.7 MB/s\u001b[0m eta \u001b[36m0:00:00\u001b[0m\n",
      "\u001b[?25hInstalling collected packages: mysql-connector-python\n",
      "Successfully installed mysql-connector-python-8.3.0\n",
      "\n",
      "\u001b[1m[\u001b[0m\u001b[34;49mnotice\u001b[0m\u001b[1;39;49m]\u001b[0m\u001b[39;49m A new release of pip is available: \u001b[0m\u001b[31;49m23.0.1\u001b[0m\u001b[39;49m -> \u001b[0m\u001b[32;49m24.0\u001b[0m\n",
      "\u001b[1m[\u001b[0m\u001b[34;49mnotice\u001b[0m\u001b[1;39;49m]\u001b[0m\u001b[39;49m To update, run: \u001b[0m\u001b[32;49mpip install --upgrade pip\u001b[0m\n"
     ]
    },
    {
     "data": {
      "image/png": "[encoded data removed]",
      "text/plain": [
       "<Figure size 640x480 with 1 Axes>"
      ]
     },
     "metadata": {
      "image/png": {
       "height": 413,
       "width": 543
      }
     },
     "output_type": "display_data"
    }
   ],
   "outputs_reference": "s3:deepnote-cell-outputs-production/99445c9b-12af-49d3-9b1a-8bceb1b84ae4",
   "source": [
    "!pip install mysql-connector-python\n",
    "from sklearn.neighbors import LocalOutlierFactor\n",
    "import mysql.connector\n",
    "import matplotlib.pyplot as plt\n",
    "\n",
    "# Membuat koneksi ke database MySQL\n",
    "conn = mysql.connector.connect(\n",
    "    \n",
    "    host=\"datamining2-widiya22063.a.aivencloud.com\",\n",
    "    user=\"avnadmin\",\n",
    "    password=\"AVNS_zh-wEX0C7VGAmX7jB3J\",\n",
    "    port = \"27022\",\n",
    "    database=\"db_datairish\"\n",
    ")\n",
    "\n",
    "# Membaca data dari database menggunakan Pandas\n",
    "query = \"SELECT SepalLengthCm, SepalWidthCm FROM outlier\"\n",
    "cursor = conn.cursor()\n",
    "cursor.execute(query)\n",
    "rows = cursor.fetchall()\n",
    "x = [[row[0], row[1]] for row in rows]\n",
    "\n",
    "# Menutup koneksi ke database\n",
    "conn.close()\n",
    "\n",
    "# Membuat model LOF\n",
    "lof = LocalOutlierFactor(n_neighbors=13, contamination=0.03)\n",
    "\n",
    "# Melakukan prediksi outlier\n",
    "y_pred = lof.fit_predict(x)\n",
    "\n",
    "# Menampilkan data dengan outlier yang diidentifikasi\n",
    "outlier_indices = [i for i, label in enumerate(y_pred) if label == -1]\n",
    "values = [x[i] for i in outlier_indices]\n",
    "\n",
    "plt.scatter([point[0] for point in x], [point[1] for point in x])\n",
    "plt.scatter([point[0] for point in values], [point[1] for point in values], color='r')\n",
    "plt.show()"
   ]
  },
  {
   "block_group": "11b5ccd689cc4b12a32864638f846fc8",
   "cell_type": "markdown",
   "metadata": {
    "cell_id": "87c04a06793b43bf9ebce1a3ae29c424",
    "deepnote_cell_type": "text-cell-p",
    "formattedRanges": []
   },
   "source": [
    "kan terlihat sebuah grafik yang dapat kita lihat titik-titik koordinatnya. Dimana data dengan koordinat yang sangat jauh dengan rata-rata data pada umumnta ditandai dengan warna merah."
   ]
  },
  {
   "block_group": "19efd09328974cc9a04101c50e047fa5",
   "cell_type": "markdown",
   "metadata": {
    "cell_id": "c845b95a915047729e22acca3f273080",
    "deepnote_cell_type": "text-cell-h1",
    "formattedRanges": []
   },
   "source": [
    "# MODELLING"
   ]
  },
  {
   "block_group": "a293282fceb8491d8169e704e9ef0709",
   "cell_type": "markdown",
   "metadata": {
    "cell_id": "ebccadd243464f2785c117a74919ada2",
    "deepnote_cell_type": "text-cell-h2",
    "formattedRanges": []
   },
   "source": [
    "## Metode Gaussian Naive Bayes"
   ]
  },
  {
   "block_group": "f61981a44deb420aa50df3a0ddf3873c",
   "cell_type": "markdown",
   "metadata": {
    "cell_id": "bf819a55394c419c97ee8edbb4a61be1",
    "deepnote_cell_type": "text-cell-p",
    "formattedRanges": []
   },
   "source": [
    "Naive bayes atau sering dikenal dengan naive bayes classifier adalah salah satu machine learning dan diawasi (supervised learning) digunakan untuk menangani masalah klarifikasi berdasarkan probabilitas atau kemungkinan sesuai drngan Teorema Bayes."
   ]
  },
  {
   "block_group": "3925c371e7fa4698a924dc0a093b8dc4",
   "cell_type": "markdown",
   "metadata": {
    "cell_id": "178d26d7fc654466a91b34fa0b1ebe55",
    "deepnote_cell_type": "text-cell-p",
    "formattedRanges": []
   },
   "source": [
    "Teorema Bayes atau hukum bayes menjelaskan probabilitas suatu kejadian di masa depan berdasarkan dari pengalaman sebelumnya mengenai kondisi yang terkait kejadian yang sama. Sehingga mampu diambil sebuah keputusan."
   ]
  },
  {
   "block_group": "32950e6047fe46529a24c8e1820cacd1",
   "cell_type": "markdown",
   "metadata": {
    "cell_id": "4c3442a8e05c42a19fb1e95961e4e4fe",
    "deepnote_cell_type": "text-cell-p",
    "formattedRanges": []
   },
   "source": [
    "Rumusnya:"
   ]
  },
  {
   "block_group": "3ac3ba8cdb8e4adcac96832ff7f9b890",
   "cell_type": "markdown",
   "metadata": {
    "cell_id": "9df9ec1e766646778d05b600aa023659",
    "deepnote_cell_type": "image",
    "deepnote_img_src": "image-20240403-204321.png"
   },
   "source": [
    "<img src=\"image-20240403-204321.png\" width=\"\" align=\"\" />"
   ]
  },
  {
   "block_group": "6d0192ab608d456cba13ef4d0ca8fb13",
   "cell_type": "markdown",
   "metadata": {
    "cell_id": "685a41dd63c9493cbf2dd03f9de325df",
    "deepnote_cell_type": "text-cell-h2",
    "formattedRanges": []
   },
   "source": [
    "## Perhitungan manual Naive Bayes"
   ]
  },
  {
   "block_group": "0ad66fa766d94167b66cbe4b6f0662a6",
   "cell_type": "markdown",
   "metadata": {
    "cell_id": "c32f9a5f4e4c4abbb3fd568f242e6944",
    "deepnote_cell_type": "text-cell-p",
    "formattedRanges": []
   },
   "source": [
    "Berikut langkah-langkah yang harus kita lakukan untuk melakukan perhitungan naive bayes:"
   ]
  },
  {
   "block_group": "a0d3a764bf414842b30b25b98f38af92",
   "cell_type": "markdown",
   "metadata": {
    "cell_id": "dd310d0907cf405880807234429a6e54",
    "deepnote_cell_type": "text-cell-p",
    "formattedRanges": []
   },
   "source": [
    "1. Pada seluruh data, kita harus membagi datanya menjadi 90% data train, 10% data test atau boleh juga memakai 80% data train, dan 20% data test. Disini kita gunakan proporsi 80% data train, 20% data test."
   ]
  },
  {
   "block_group": "6cca30301c16496ea010aa8e0a2e9bd7",
   "cell_type": "markdown",
   "metadata": {
    "cell_id": "3eb1d45d659d4097882e5d693af38c7c",
    "deepnote_cell_type": "text-cell-p",
    "formattedRanges": []
   },
   "source": [
    "2. Hitung probabilitas data train "
   ]
  },
  {
   "block_group": "474127c480a246ea94ae02c48651db66",
   "cell_type": "markdown",
   "metadata": {
    "cell_id": "aa94b76866e04ce1adaf297ae7caef22",
    "deepnote_cell_type": "image",
    "deepnote_img_src": "image-20240403-204714.png"
   },
   "source": [
    "<img src=\"image-20240403-204714.png\" width=\"\" align=\"\" />"
   ]
  },
  {
   "block_group": "3d102909f9544b37a393a9d7cca491cb",
   "cell_type": "markdown",
   "metadata": {
    "cell_id": "553e84ec48b046ff951f8f51ec4ad7ed",
    "deepnote_cell_type": "text-cell-p",
    "formattedRanges": []
   },
   "source": [
    "3. Hitung mean dan standart deviasi setiap fitur serta tiap kelas pada data train."
   ]
  },
  {
   "block_group": "cbd12669fb6e43e5ae7da28a1f1f3ccf",
   "cell_type": "markdown",
   "metadata": {
    "cell_id": "a9fcce96241f4fb4abb65c25e8ee802e",
    "deepnote_cell_type": "text-cell-p",
    "formattedRanges": []
   },
   "source": [
    "4. Menentukan suatu inputan data sepalLength, sepalWidth, petalLength, petalWidth."
   ]
  },
  {
   "block_group": "81e1422939d34ef08073e671d1836c07",
   "cell_type": "markdown",
   "metadata": {
    "cell_id": "3811f1398f0e44a999f928b0dd76b281",
    "deepnote_cell_type": "text-cell-p",
    "formattedRanges": []
   },
   "source": [
    "5. Hitunglah distribusi gaussian setiap fitur serta setiap kelas pada data train."
   ]
  },
  {
   "block_group": "361e39554dba4f68b22420e73099348e",
   "cell_type": "markdown",
   "metadata": {
    "cell_id": "c2cda4ff4fb640fcb8d40fbc6b6fd591",
    "deepnote_cell_type": "image",
    "deepnote_img_src": "image-20240403-204913.png"
   },
   "source": [
    "<img src=\"image-20240403-204913.png\" width=\"\" align=\"\" />"
   ]
  },
  {
   "block_group": "fc03cd1ba134466884ca08549cc53722",
   "cell_type": "markdown",
   "metadata": {
    "cell_id": "0e0a67bb9cbf4f92ab18c693d43a1354",
    "deepnote_cell_type": "text-cell-p",
    "formattedRanges": []
   },
   "source": [
    "6. Hitung posteriori dari setiap kelas"
   ]
  },
  {
   "block_group": "6f432ad70e2d4868ae647bdd7fafa057",
   "cell_type": "markdown",
   "metadata": {
    "cell_id": "6e54f4b008d044919d108c03842a4121",
    "deepnote_cell_type": "image",
    "deepnote_img_src": "image-20240403-205026.png"
   },
   "source": [
    "<img src=\"image-20240403-205026.png\" width=\"\" align=\"\" />"
   ]
  },
  {
   "block_group": "360b7299617845eabe2a6c378c040752",
   "cell_type": "markdown",
   "metadata": {
    "cell_id": "3df8ea22679a4baf9347f2263d89c8e9",
    "deepnote_cell_type": "text-cell-p",
    "formattedRanges": []
   },
   "source": [
    "7. Tentukan maximum posteriori."
   ]
  },
  {
   "block_group": "7aab2def7b5a487bb4caf71809df5c12",
   "cell_type": "markdown",
   "metadata": {
    "cell_id": "6f1d132a57d74ae69240ddf11275ecef",
    "deepnote_cell_type": "text-cell-p",
    "formattedRanges": []
   },
   "source": [
    "ada kelas yg mendapat posteriori maksimal itu merupakan kelas dari data inputan terbaru.8"
   ]
  },
  {
   "block_group": "7d48dbb873274e1b961782cad8683db2",
   "cell_type": "markdown",
   "metadata": {
    "cell_id": "661dc250a98541bd9e9b18953602e1bd",
    "deepnote_cell_type": "text-cell-h2",
    "formattedRanges": []
   },
   "source": [
    "## Implementasi Excel"
   ]
  },
  {
   "block_group": "4fd05e4f767e4194b33de8ea7b0009dc",
   "cell_type": "markdown",
   "metadata": {
    "cell_id": "cbba93bbc99049b98ad84fd8f6673d9a",
    "deepnote_cell_type": "text-cell-h3",
    "formattedRanges": []
   },
   "source": [
    "### Membagi Data Menjadi Data Train dan Data Test"
   ]
  },
  {
   "block_group": "60ff2320ff3349e5bc7371fe9a13940a",
   "cell_type": "markdown",
   "metadata": {
    "cell_id": "72899d790f014078b8e527acabb4c49a",
    "deepnote_cell_type": "text-cell-p",
    "formattedRanges": []
   },
   "source": [
    "Berikut merupakan pembagian data train dan data test :"
   ]
  },
  {
   "block_group": "ad19de36059c408a9600d0a84df4a2a8",
   "cell_type": "markdown",
   "metadata": {
    "cell_id": "99228d486d7e4adda7692c2f9ab7ac88",
    "deepnote_cell_type": "text-cell-p",
    "formattedRanges": []
   },
   "source": [
    "1. 80% data train terdiri dari (40 iris-setosa, 40 iris-versicolor, 40 iris-virginica)"
   ]
  },
  {
   "block_group": "9da8ba265a894b95a0391b24f5c757da",
   "cell_type": "markdown",
   "metadata": {
    "cell_id": "26decacd2e534e81b363b6110f21b6f4",
    "deepnote_cell_type": "text-cell-p",
    "formattedRanges": []
   },
   "source": [
    "2. 20% data test terdiri dari (10 iris-setosa, 10 iris-versicolor,10 iris-virginica)"
   ]
  },
  {
   "block_group": "d62eded607b44bb1b48cf4f6fe240bab",
   "cell_type": "markdown",
   "metadata": {
    "cell_id": "f5b0132773254565966746b1ee6dbc21",
    "deepnote_cell_type": "text-cell-p",
    "formattedRanges": []
   },
   "source": [
    "Selanjutnya, kita membuat sheet pada excel untuk menyimpan data train dan data set."
   ]
  },
  {
   "block_group": "57d1db745ba94c8b92c4dc1f1f533788",
   "cell_type": "markdown",
   "metadata": {
    "cell_id": "ed44b96216584862894da7825a04248c",
    "deepnote_cell_type": "text-cell-p",
    "formattedRanges": []
   },
   "source": [
    "1. Sheet pertama menyimpan data test"
   ]
  },
  {
   "block_group": "7ba31b5e00fc4fceb56e700f36f3e681",
   "cell_type": "markdown",
   "metadata": {
    "cell_id": "082524eaf5f54618a03e3c055a3552b9",
    "deepnote_cell_type": "text-cell-p",
    "formattedRanges": []
   },
   "source": [
    "2. Sheet kedua menyimpan 40 iris-setosa"
   ]
  },
  {
   "block_group": "2bd01850e4c9419db026c9337abff323",
   "cell_type": "markdown",
   "metadata": {
    "cell_id": "77156ba9d1f14f1b9401bb296ac7faa0",
    "deepnote_cell_type": "text-cell-p",
    "formattedRanges": []
   },
   "source": [
    "3. Sheet ketiga menyimpan 40 iris-versicolor"
   ]
  },
  {
   "block_group": "c054337d62ff4ac9bf4ffe82b7110ebf",
   "cell_type": "markdown",
   "metadata": {
    "cell_id": "a34528f976a54b3a87be1950c65387d1",
    "deepnote_cell_type": "text-cell-p",
    "formattedRanges": []
   },
   "source": [
    "4. Sheet keempat menyimpan 40 iris-virginica"
   ]
  },
  {
   "block_group": "c9bb92331f314a8faa23a5fc6eeffa64",
   "cell_type": "markdown",
   "metadata": {
    "cell_id": "c5a89bdcb90e47f28871eae450e95d05",
    "deepnote_cell_type": "text-cell-h3",
    "formattedRanges": []
   },
   "source": [
    "### Menghitung probabilitas data train"
   ]
  },
  {
   "block_group": "1f13e849252d49bb82d3ff4b347e3651",
   "cell_type": "markdown",
   "metadata": {
    "cell_id": "41b5fe133d2c4fccbb277f9cef0056c2",
    "deepnote_cell_type": "text-cell-p",
    "formattedRanges": []
   },
   "source": [
    "Dari rumus diatas tadi, selanjutnya dilakukan perhitungan probabilitas dari masing-masing kelas sesuai dengan jumlah data train pada kelas, kemudian dibagi dengan banyak total data train."
   ]
  },
  {
   "block_group": "24cad135a80e4ecdb632467f59f2587b",
   "cell_type": "markdown",
   "metadata": {
    "cell_id": "a2a3761ae14241299f3da645e61b4027",
    "deepnote_cell_type": "text-cell-p",
    "formattedRanges": []
   },
   "source": [
    "p(a) : probabilitas"
   ]
  },
  {
   "block_group": "bd380dd6095b47c19aa7f97b52d44834",
   "cell_type": "markdown",
   "metadata": {
    "cell_id": "f54b8bc05f5747bebcb4096dffea56a2",
    "deepnote_cell_type": "text-cell-p",
    "formattedRanges": []
   },
   "source": [
    "n(a) : banyaknya record data train pada suatu kelas (40)"
   ]
  },
  {
   "block_group": "0e31db21ae5e4e8783593e0210ea0d48",
   "cell_type": "markdown",
   "metadata": {
    "cell_id": "1cc03c84e8ea4584adc26b6f258f68a2",
    "deepnote_cell_type": "text-cell-p",
    "formattedRanges": []
   },
   "source": [
    "N : total banyaknya record data train (40+40+40 = 120) Data train n(a) p(a)"
   ]
  },
  {
   "block_group": "d093e6f656994991a28a67cb4434436d",
   "cell_type": "markdown",
   "metadata": {
    "cell_id": "3f8a2516ede640589399f66fe8f35107",
    "deepnote_cell_type": "image",
    "deepnote_img_src": "image-20240403-215600.png"
   },
   "source": [
    "<img src=\"image-20240403-215600.png\" width=\"\" align=\"\" />"
   ]
  },
  {
   "block_group": "88afcf1586e547dca125a6f2b06b4862",
   "cell_type": "markdown",
   "metadata": {
    "cell_id": "4ebfa7feb0b24205920c1015c1d9fcc1",
    "deepnote_cell_type": "text-cell-h3",
    "formattedRanges": []
   },
   "source": [
    "### Menghitung Standart Deviasi"
   ]
  },
  {
   "block_group": "58abc68e2d5b44728d61842bcc164e97",
   "cell_type": "markdown",
   "metadata": {
    "cell_id": "0ec17ae287b94ca2b0fb54d2edffeb12",
    "deepnote_cell_type": "text-cell-p",
    "formattedRanges": []
   },
   "source": [
    "Hitunglah mean dan standart deviasi dari masing-masing fitur setiap kelas pada data train."
   ]
  },
  {
   "block_group": "11da55a6cc0949ff841c57925d0b4b34",
   "cell_type": "markdown",
   "metadata": {
    "cell_id": "7935a0fc31084fbd875f78c341b9eb6f",
    "deepnote_cell_type": "text-cell-p",
    "formattedRanges": []
   },
   "source": [
    "Rumus excelnya:"
   ]
  },
  {
   "block_group": "86502d17fea04f769fd227efab3648bb",
   "cell_type": "markdown",
   "metadata": {
    "cell_id": "739da12fd5b04365a8442e2a32d0ac4a",
    "deepnote_cell_type": "text-cell-p",
    "formattedRanges": []
   },
   "source": [
    "Mean : =AVERAGE()"
   ]
  },
  {
   "block_group": "c09380d805c64c4b870203a0351fdce7",
   "cell_type": "markdown",
   "metadata": {
    "cell_id": "3a0190aefd0b45ccbca7d43f735e498e",
    "deepnote_cell_type": "text-cell-p",
    "formattedRanges": []
   },
   "source": [
    "Standart Devisiasi : = STDEV.P()Kelas Setosa"
   ]
  },
  {
   "block_group": "0bd1dbde07b843c591431c8215714621",
   "cell_type": "markdown",
   "metadata": {
    "cell_id": "0fb4cb1adbda4d3898ef2be0fa71cf23",
    "deepnote_cell_type": "image",
    "deepnote_img_src": "image-20240403-215757.png"
   },
   "source": [
    "<img src=\"image-20240403-215757.png\" width=\"\" align=\"\" />"
   ]
  },
  {
   "block_group": "df49f2562c934ea0a00ded4add74869a",
   "cell_type": "markdown",
   "metadata": {
    "cell_id": "6d8cdf655a3e4b98aed6ce8b8fcd4519",
    "deepnote_cell_type": "image",
    "deepnote_img_src": "image-20240403-215921.png"
   },
   "source": [
    "<img src=\"image-20240403-215921.png\" width=\"\" align=\"\" />"
   ]
  },
  {
   "block_group": "790677eec13a4056bdbd8870b35626fd",
   "cell_type": "markdown",
   "metadata": {
    "cell_id": "55a774cec68f40b48ea7e482f2b3b976",
    "deepnote_cell_type": "image",
    "deepnote_img_src": "image-20240403-215848.png"
   },
   "source": [
    "<img src=\"image-20240403-215848.png\" width=\"\" align=\"\" />"
   ]
  },
  {
   "block_group": "a9330bfccc664fefb92d68f582e1da02",
   "cell_type": "markdown",
   "metadata": {
    "cell_id": "6f606eb0b10d4f929c11f2b4148d55cc",
    "deepnote_cell_type": "text-cell-h3",
    "formattedRanges": []
   },
   "source": [
    "### Membuat Inputan"
   ]
  },
  {
   "block_group": "4656623afc0c4d29a51c066ac742b521",
   "cell_type": "markdown",
   "metadata": {
    "cell_id": "6cccc7b8c3e24a3db6aefdbfc58c7d88",
    "deepnote_cell_type": "text-cell-p",
    "formattedRanges": []
   },
   "source": [
    "Buat suatu data acak untuk inputan sepalLength, sepalWidth, petalLength, dan petalWidth. Nantinya data yang kita pilih ini akan digunakan untuk menguji hasil dari perhitungan excel, lalu akan didapatkan informasi termasuk kelas apa data dari inputan kita. Apakah termasuk kelas setosa, versicolor, atau virginica."
   ]
  },
  {
   "block_group": "002d6d76b57f407faaa1d2153acb8470",
   "cell_type": "markdown",
   "metadata": {
    "cell_id": "c7783ecccd264f15a01cb58f44952785",
    "deepnote_cell_type": "text-cell-p",
    "formattedRanges": []
   },
   "source": [
    "Detail inputan sebagai berikut:"
   ]
  },
  {
   "block_group": "40a82e1b9c0046f498bfaf95d18343a9",
   "cell_type": "markdown",
   "metadata": {
    "cell_id": "82ee6947c8004c8895a79b1af7fa1852",
    "deepnote_cell_type": "text-cell-p",
    "formattedRanges": []
   },
   "source": [
    "1. SepalLengthCm : 5"
   ]
  },
  {
   "block_group": "35c69b7f7f82432995615d68094d5741",
   "cell_type": "markdown",
   "metadata": {
    "cell_id": "8cd1ad599a33432b86e7e82b95610935",
    "deepnote_cell_type": "text-cell-p",
    "formattedRanges": []
   },
   "source": [
    "2. SepalWidthCm: 2"
   ]
  },
  {
   "block_group": "3a121541740a4f0a9b8a3ccd816f0f81",
   "cell_type": "markdown",
   "metadata": {
    "cell_id": "f32add42ef8b46818bf556a30d4d57f4",
    "deepnote_cell_type": "text-cell-p",
    "formattedRanges": []
   },
   "source": [
    "3. PetalLengthCm : 4"
   ]
  },
  {
   "block_group": "35b0bc9e08d646579ea36cdfde52ee19",
   "cell_type": "markdown",
   "metadata": {
    "cell_id": "17b1f4d91b4547debf958a66bc093661",
    "deepnote_cell_type": "text-cell-p",
    "formattedRanges": []
   },
   "source": [
    "4. PetalWidthCm : 3"
   ]
  },
  {
   "block_group": "8ddc789d85eb438493399640a60a4528",
   "cell_type": "markdown",
   "metadata": {
    "cell_id": "e3055f32e9974e9789d70b8e518b416e",
    "deepnote_cell_type": "image",
    "deepnote_img_src": "image-20240403-223351.png"
   },
   "source": [
    "<img src=\"image-20240403-223351.png\" width=\"\" align=\"\" />"
   ]
  },
  {
   "block_group": "ab6fe117cee44baab7d2015fad4000d5",
   "cell_type": "markdown",
   "metadata": {
    "cell_id": "f59f5caa356c40d0b4ef1ef62f4d371b",
    "deepnote_cell_type": "text-cell-h3",
    "formattedRanges": []
   },
   "source": [
    "### Menghitung Distribusi Gaussian"
   ]
  },
  {
   "block_group": "d642bdc376d549caa95accd28fcc92e4",
   "cell_type": "markdown",
   "metadata": {
    "cell_id": "f19273696d044dfebe525f01477b13ec",
    "deepnote_cell_type": "text-cell-p",
    "formattedRanges": []
   },
   "source": [
    "Setelah mendapatkan hasil mean dan standart devisiasi dari setiap fitur pada setiap kelas, dan sudah kita tentukan juga inputannya. Selanjutnya adalah memasukkan ke dalam distribusi gaussian."
   ]
  },
  {
   "block_group": "181a059174594cd098e674d87f9e0f40",
   "cell_type": "markdown",
   "metadata": {
    "cell_id": "5a8bba4f6d824da0a8951f871f204b45",
    "deepnote_cell_type": "image",
    "deepnote_img_src": "image-20240403-223042.png"
   },
   "source": [
    "<img src=\"image-20240403-223042.png\" width=\"\" align=\"\" />"
   ]
  },
  {
   "block_group": "6d420231ff0b4a3083c0e9704d7c9f0b",
   "cell_type": "markdown",
   "metadata": {
    "cell_id": "7d89e1502101444fbc7fb5cdcaa127c9",
    "deepnote_cell_type": "text-cell-h3",
    "formattedRanges": []
   },
   "source": [
    "### Menghitung Posteriori"
   ]
  },
  {
   "block_group": "7d92118683b1423e85b9112a15e1080f",
   "cell_type": "markdown",
   "metadata": {
    "cell_id": "89b8f82c7a494c3192e9d35a80d6f6e9",
    "deepnote_cell_type": "text-cell-p",
    "formattedRanges": []
   },
   "source": [
    "Jika sudah mendapatkan semua hasil distribusi gaussian, langkah berikutnya kita tentukan postriori-nya."
   ]
  },
  {
   "block_group": "a90199fc2fbb43abae11a07e51325cbc",
   "cell_type": "markdown",
   "metadata": {
    "cell_id": "e9987c0e49294a44b7460407373a14fd",
    "deepnote_cell_type": "text-cell-p",
    "formattedRanges": []
   },
   "source": [
    "Keterangan:"
   ]
  },
  {
   "block_group": "eeb236b7206949298929e1dc9dc3e54b",
   "cell_type": "markdown",
   "metadata": {
    "cell_id": "1b82a29367bb4844b8cd0571bf845614",
    "deepnote_cell_type": "text-cell-p",
    "formattedRanges": []
   },
   "source": []
  },
  {
   "block_group": "a6a27f2fbc514487a3492e636de5e9c3",
   "cell_type": "markdown",
   "metadata": {
    "cell_id": "adc00619e269415eabfa30946dc036d9",
    "deepnote_cell_type": "text-cell-bullet",
    "formattedRanges": []
   },
   "source": [
    "- P(A|Hi) : hasil perkalian setiap fitur pada setiap kelas."
   ]
  },
  {
   "block_group": "a508bed3f87f49e28be59abe431ca633",
   "cell_type": "markdown",
   "metadata": {
    "cell_id": "9e0cddc43ee24b96959a261cb76213c8",
    "deepnote_cell_type": "text-cell-bullet",
    "formattedRanges": []
   },
   "source": [
    "- P(a) : probabilitas pada setiap kelas"
   ]
  },
  {
   "block_group": "b4f0f07fae724641b406b166bd7dc177",
   "cell_type": "markdown",
   "metadata": {
    "cell_id": "21caed2a12ea44c7bee0ea7cc315d611",
    "deepnote_cell_type": "text-cell-p",
    "formattedRanges": []
   },
   "source": [
    "Saya beri contoh, misal kita akan menghitung posteriori dari kelas versicolor, maka caranyAa adalah sebagai berikut:"
   ]
  },
  {
   "block_group": "c8bc5a033aa147159a11ca34cefae043",
   "cell_type": "markdown",
   "metadata": {
    "cell_id": "20316dadb76a419294798aac7af244a2",
    "deepnote_cell_type": "text-cell-p",
    "formattedRanges": []
   },
   "source": [
    "P(A|Hi) = 1,113933928*0,001108303 * 0 * 0"
   ]
  },
  {
   "block_group": "40226feac87e44f7900170baf685eff6",
   "cell_type": "markdown",
   "metadata": {
    "cell_id": "4f418f49e8dd4b64b5900f4943783771",
    "deepnote_cell_type": "text-cell-p",
    "formattedRanges": []
   },
   "source": [
    "p(a) = 0,33"
   ]
  },
  {
   "block_group": "2c09a219950b4635b6328f079af5bda4",
   "cell_type": "markdown",
   "metadata": {
    "cell_id": "984ba7d27cd6441e9d43f1cc5107a9bd",
    "deepnote_cell_type": "text-cell-p",
    "formattedRanges": []
   },
   "source": [
    "posteriori = P(A|Hi) * P(a) = 0"
   ]
  },
  {
   "block_group": "07fbf29e832d40deb9a539a388f4b0bb",
   "cell_type": "markdown",
   "metadata": {
    "cell_id": "ce1d7fd9143e46989b698a99c9bec69e",
    "deepnote_cell_type": "text-cell-p",
    "formattedRanges": []
   },
   "source": [
    "Berikut hasil perhitungan setiap kelas yang lain:"
   ]
  },
  {
   "block_group": "e918954308ba478d8b424fee4fa3a90c",
   "cell_type": "markdown",
   "metadata": {
    "cell_id": "55980d70a788404eaf73ec30e1c21016",
    "deepnote_cell_type": "image",
    "deepnote_img_src": "image-20240403-223110.png"
   },
   "source": [
    "<img src=\"image-20240403-223110.png\" width=\"\" align=\"\" />"
   ]
  },
  {
   "block_group": "a7d2b3015d2c42d59332c84dcca48779",
   "cell_type": "markdown",
   "metadata": {
    "cell_id": "f60fea39e78c4bcd9b565cf2467f1065",
    "deepnote_cell_type": "text-cell-h3",
    "formattedRanges": []
   },
   "source": [
    "### Menentukan maximum posteriori"
   ]
  },
  {
   "block_group": "2b80b873016e4393b376f8be595667be",
   "cell_type": "markdown",
   "metadata": {
    "cell_id": "4f12a053f837463d860e81bac1b61ebe",
    "deepnote_cell_type": "text-cell-p",
    "formattedRanges": []
   },
   "source": [
    "Ketika sudah mendapat nilai postriori maka dapat ditentukan pula nilai maximum pada posteriori yaitu pada class virginica dengan nilai : 1,877088"
   ]
  },
  {
   "block_group": "495b72938cd64cb2bbc0521c64c92102",
   "cell_type": "markdown",
   "metadata": {
    "cell_id": "402843ae0a7049eba03dabd8d706f74a",
    "deepnote_cell_type": "text-cell-h2",
    "formattedRanges": []
   },
   "source": [
    "## Kesimpulan"
   ]
  },
  {
   "block_group": "0e1a95450fb24d56941415b3af1a3c01",
   "cell_type": "markdown",
   "metadata": {
    "cell_id": "5791275528c4465face70a8a78c7e9c2",
    "deepnote_cell_type": "text-cell-p",
    "formattedRanges": []
   },
   "source": [
    "Dari hasil perhitungan yang sudah dilakukan diatas, bisa disimpulkan bahwa data dengan inputan:"
   ]
  },
  {
   "block_group": "cb1c10a05541426bbb8b2009fb63b67e",
   "cell_type": "markdown",
   "metadata": {
    "cell_id": "33c6e930fdad4c92961c88d1eda3dd35",
    "deepnote_cell_type": "text-cell-p",
    "formattedRanges": []
   },
   "source": [
    "1. SepalLengthCm : 5"
   ]
  },
  {
   "block_group": "197df5b93f92425eb81e73fb8da5f4a8",
   "cell_type": "markdown",
   "metadata": {
    "cell_id": "fdf4e862d14542aea9eb8f9c440cac7b",
    "deepnote_cell_type": "text-cell-p",
    "formattedRanges": []
   },
   "source": [
    "2. SepalWidthCm : 2"
   ]
  },
  {
   "block_group": "4edb245b3af241f9b38ca6501c83b9a1",
   "cell_type": "markdown",
   "metadata": {
    "cell_id": "6a2ca7362d544c98baa566bafb4695c3",
    "deepnote_cell_type": "text-cell-p",
    "formattedRanges": []
   },
   "source": [
    "3. PetalLengthCm: 4"
   ]
  },
  {
   "block_group": "958018e3e61b4d95ae1b8cc9c7667ad0",
   "cell_type": "markdown",
   "metadata": {
    "cell_id": "c15748998f1d49678223b00c81c368cd",
    "deepnote_cell_type": "text-cell-p",
    "formattedRanges": []
   },
   "source": [
    "4. PetalWidthCm: 3"
   ]
  },
  {
   "block_group": "e29aa47d10094496b7bae88e224c94b2",
   "cell_type": "markdown",
   "metadata": {
    "cell_id": "98312e32756d4b86b9705f09f7e6139f",
    "deepnote_cell_type": "text-cell-p",
    "formattedRanges": []
   },
   "source": [
    "Merupakan kelas Iris-Setosa, karena didapat nilai posteriori tertinggi."
   ]
  },
  {
   "block_group": "bbdd3a98310f4a6aa5c1cda012c023f0",
   "cell_type": "markdown",
   "metadata": {
    "cell_id": "06bc02ef65044e12ae4a6c68e207cc06",
    "deepnote_cell_type": "text-cell-h2",
    "formattedRanges": []
   },
   "source": [
    "## Implementasi Skylearn"
   ]
  },
  {
   "block_group": "5acf79e275c64efd998469232a2192ca",
   "cell_type": "markdown",
   "metadata": {
    "cell_id": "249779c20eca4d03a43d7e914eb30741",
    "deepnote_cell_type": "text-cell-p",
    "formattedRanges": []
   },
   "source": [
    "Setelah melakukan prediksi kelas data baru dengan perhitungan manual dan bantuan excel, langkah berikutnya akan membuktikan apakah prediksi hasil perhitungan manual sudah benar atau salah. Kita membutuhkan bantuan membuat model melalui skylearn."
   ]
  },
  {
   "block_group": "c3dd2cdeddb548a79fe79e98dc574e95",
   "cell_type": "code",
   "execution_count": null,
   "metadata": {
    "cell_id": "90aa773cb8d24c86a07505e8eda286b7",
    "deepnote_cell_type": "code",
    "deepnote_to_be_reexecuted": false,
    "execution_millis": 3026,
    "execution_start": 1712157804561,
    "source_hash": null
   },
   "outputs": [
    {
     "name": "stderr",
     "output_type": "stream",
     "text": [
      "/tmp/ipykernel_37/3041870764.py:18: UserWarning: pandas only supports SQLAlchemy connectable (engine/connection) or database string URI or sqlite3 DBAPI2 connection. Other DBAPI2 objects are not tested. Please consider using SQLAlchemy.\n",
      "  data_iris = pd.read_sql(sql_query, conn)\n",
      "Accuracy:  0.967\n"
     ]
    }
   ],
   "outputs_reference": "dbtable:cell_outputs/cf636031-eb34-41ac-9393-fe7d6cfe7e2b",
   "source": [
    "import pandas as pd\n",
    "import mysql.connector\n",
    "from sklearn.naive_bayes import GaussianNB\n",
    "from sklearn.model_selection import train_test_split\n",
    "from sklearn.metrics import accuracy_score\n",
    "\n",
    "# koneksi ke database MySQL\n",
    "conn = mysql.connector.connect(\n",
    "    host=\"datamining2-widiya22063.a.aivencloud.com\",\n",
    "    user=\"avnadmin\",\n",
    "    password=\"AVNS_zh-wEX0C7VGAmX7jB3J\",\n",
    "    port = \"27022\",\n",
    "    database=\"modelling\"\n",
    ")\n",
    "\n",
    "# Membaca data dari database menggunakan Pandas\n",
    "sql_query = \"SELECT * FROM tableName\"\n",
    "data_iris = pd.read_sql(sql_query, conn)\n",
    "\n",
    "# Menghapus kolom Id, dikarenakan kurang relevan\n",
    "data_iris.drop('Id',axis=1,inplace=True)\n",
    "\n",
    "# memisahkan atribut dan label\n",
    "X = data_iris[['SepalLengthCm', 'SepalWidthCm', 'PetalLengthCm', 'PetalWidthCm' ]]\n",
    "y = data_iris['Species']\n",
    " \n",
    "# Membagi dataset menjadi data latih & data uji\n",
    "X_train, X_test, y_train, y_test = train_test_split(X, y, test_size=0.2, random_state=123)\n",
    " \n",
    "# membuat model Gaussian naive bayes\n",
    "gnb_model = GaussianNB()\n",
    " \n",
    "# Melatih model dengan menggunakan data latih\n",
    "gnb_model = gnb_model.fit(X_train, y_train)\n",
    "\n",
    "# Evaluasi Model\n",
    "y_pred = gnb_model.predict(X_test)\n",
    " \n",
    "acc_secore = round(accuracy_score(y_pred, y_test), 3)\n",
    "print('Accuracy: ', acc_secore)"
   ]
  },
  {
   "block_group": "8911d5fdb6094fbf8acca44ff36ba0dd",
   "cell_type": "markdown",
   "metadata": {
    "cell_id": "2787c76c2e274d77b3b8c4192d18c86d",
    "deepnote_cell_type": "text-cell-p",
    "formattedRanges": []
   },
   "source": [
    "Untuk uji akurasi akan diberikan data iris yang sama dengan perhitungan excel, yaitu:"
   ]
  },
  {
   "block_group": "ec06b72b936c4c31a073e86d65797d1c",
   "cell_type": "markdown",
   "metadata": {
    "cell_id": "197a91a17dab4c0ea9f61f810c52612e",
    "deepnote_cell_type": "text-cell-p",
    "formattedRanges": []
   },
   "source": [
    "1. SepalLengthCm : 5"
   ]
  },
  {
   "block_group": "ce2c9458f9cb4ea9890b3096b58345eb",
   "cell_type": "markdown",
   "metadata": {
    "cell_id": "96464df3a11249f8ac0a15c2510f8e7f",
    "deepnote_cell_type": "text-cell-p",
    "formattedRanges": []
   },
   "source": [
    "2. SepalWidthCm: 2"
   ]
  },
  {
   "block_group": "dc920e163460468888a0cda70fd86310",
   "cell_type": "markdown",
   "metadata": {
    "cell_id": "ca84d8e9ee3c4e78b324ed45fedbb5bf",
    "deepnote_cell_type": "text-cell-p",
    "formattedRanges": []
   },
   "source": [
    "3. PetalLengthCm: 4"
   ]
  },
  {
   "block_group": "7e43840cb82c429c98ed85a073e977a4",
   "cell_type": "markdown",
   "metadata": {
    "cell_id": "34399f65d79141448ca817b9572fda32",
    "deepnote_cell_type": "text-cell-p",
    "formattedRanges": []
   },
   "source": [
    "4. PetalWidthCm: 3"
   ]
  },
  {
   "block_group": "5d82b6ee05974bdfb9466dabc41384ce",
   "cell_type": "code",
   "execution_count": null,
   "metadata": {
    "cell_id": "d3a2c3520d6d43f6944b025330a6394f",
    "deepnote_cell_type": "code",
    "deepnote_to_be_reexecuted": false,
    "execution_millis": 96,
    "execution_start": 1712158060929,
    "source_hash": null
   },
   "outputs": [
    {
     "name": "stdout",
     "output_type": "stream",
     "text": [
      "['Iris-virginica']\n",
      "/shared-libs/python3.9/py/lib/python3.9/site-packages/sklearn/base.py:450: UserWarning: X does not have valid feature names, but GaussianNB was fitted with feature names\n",
      "  warnings.warn(\n"
     ]
    }
   ],
   "outputs_reference": "dbtable:cell_outputs/ef1ab356-8751-4bab-9551-51c3443af00f",
   "source": [
    "print(gnb_model.predict([[5, 2, 4, 3]]))"
   ]
  },
  {
   "cell_type": "markdown",
   "metadata": {
    "created_in_deepnote_cell": true,
    "deepnote_cell_type": "markdown"
   },
   "source": [
    "<a style='text-decoration:none;line-height:16px;display:flex;color:#5B5B62;padding:10px;justify-content:end;' href='https://deepnote.com?utm_source=created-in-deepnote-cell&projectId=8556010b-bf85-4e7b-a125-5d1cc55a36c2' target=\"_blank\">\n",
    "<img alt='Created in deepnote.com' style='display:inline;max-height:16px;margin:0px;margin-right:7.5px;' src='data:image/svg+xml;base64,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' > </img>\n",
    "Created in <span style='font-weight:600;margin-left:4px;'>Deepnote</span></a>"
   ]
  }
 ],
 "metadata": {
  "deepnote_execution_queue": [],
  "deepnote_notebook_id": "95a848f9376a4853bd61b7de23bf9cb1",
  "language_info": {
   "codemirror_mode": {
    "name": "ipython",
    "version": 3
   },
   "file_extension": ".py",
   "mimetype": "text/x-python",
   "name": "python",
   "nbconvert_exporter": "python",
   "pygments_lexer": "ipython3",
   "version": "3.10.6"
  }
 },
 "nbformat": 4,
 "nbformat_minor": 0
}